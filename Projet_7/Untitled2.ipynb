{
 "cells": [
  {
   "cell_type": "markdown",
   "id": "2da3afc4",
   "metadata": {},
   "source": [
    "Dans le cadre du projet de la Place de Marché, voici les principaux points à retenir et à expliquer simplement lors de votre présentation :\n",
    "\n",
    "**Principe Fondamental : Automatisation de la Classification des Articles**\n",
    "- L'objectif principal est d'automatiser le processus d'attribution de catégories aux articles sur la place de marché.\n",
    "\n",
    "**Étude de Faisabilité : Première Itération**\n",
    "1. **Prétraitement des Données Textuelles et d'Images :** Avant de travailler sur les données, nous devons les préparer en nettoyant les descriptions textuelles et en améliorant la qualité des images.\n",
    "2. **Extraction de Caractéristiques :** Nous extrayons des informations significatives des données textuelles et des images, notamment en utilisant des approches telles que le bag-of-words, Word2Vec, BERT et des algorithmes de vision par ordinateur comme CNN.\n",
    "3. **Réduction de Dimension :** Comme les données sont souvent volumineuses, nous réduisons leur dimension pour faciliter leur traitement.\n",
    "4. **Représentation Visuelle :** Nous projetons les données sur un graphique 2D pour visualiser comment les produits se regroupent en fonction de leurs catégories réelles.\n",
    "5. **Analyse Visuelle :** En examinant le graphique, nous cherchons à déterminer si les produits de même catégorie se regroupent naturellement.\n",
    "\n",
    "**Classification Supervisée : Deuxième Itération**\n",
    "- Après avoir établi la faisabilité de la classification automatique, nous passons à la classification supervisée à partir des images en utilisant une méthode d'apprentissage profond.\n",
    "- La data augmentation est appliquée pour améliorer la performance du modèle.\n",
    "\n",
    "**Collecte de Produits \"Champagne\" via une API :**\n",
    "- Nous collectons des produits spécifiques (\"champagne\") via une interface de programmation.\n",
    "- Les données collectées incluent foodId, label, category, foodContentsLabel, et l'image.\n",
    "\n",
    "**Principes Importants :**\n",
    "- Nettoyage et préparation des données textuelles et des images.\n",
    "- Extraction d'informations significatives à partir des données (texte et image).\n",
    "- Réduction de dimension pour faciliter le traitement.\n",
    "- Visualisation des données pour détecter des tendances visuelles.\n",
    "- Utilisation de l'apprentissage profond pour la classification supervisée.\n",
    "- Data augmentation pour améliorer les modèles.\n",
    "- Collecte de données via des API en respectant les normes RGPD.\n",
    "\n",
    "**Explication Simple :**\n",
    "- Nous préparons et améliorons les données textuelles et images.\n",
    "- Nous extrayons des informations importantes à partir de ces données.\n",
    "- Nous réduisons la complexité des données pour une meilleure compréhension.\n",
    "- Nous examinons graphiquement comment les produits se regroupent naturellement.\n",
    "- Nous utilisons l'apprentissage profond pour classifier les images.\n",
    "- Nous augmentons les données pour de meilleurs résultats.\n",
    "- Nous collectons des produits spécifiques via une interface automatisée en respectant la confidentialité des données.\n",
    "\n",
    "**L'objectif final :** Améliorer l'expérience des vendeurs et des acheteurs sur la place de marché en automatisant la classification des produits pour une recherche et une mise en ligne plus faciles.\n",
    "\n",
    "Lors de la présentation, assurez-vous d'expliquer ces points de manière simple et concise pour que votre audience comprenne facilement l'approche et les principaux résultats du projet."
   ]
  },
  {
   "cell_type": "code",
   "execution_count": null,
   "id": "76cc0925",
   "metadata": {},
   "outputs": [],
   "source": []
  }
 ],
 "metadata": {
  "kernelspec": {
   "display_name": "Python 3 (ipykernel)",
   "language": "python",
   "name": "python3"
  },
  "language_info": {
   "codemirror_mode": {
    "name": "ipython",
    "version": 3
   },
   "file_extension": ".py",
   "mimetype": "text/x-python",
   "name": "python",
   "nbconvert_exporter": "python",
   "pygments_lexer": "ipython3",
   "version": "3.11.4"
  }
 },
 "nbformat": 4,
 "nbformat_minor": 5
}
