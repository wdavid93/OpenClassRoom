{
 "cells": [
  {
   "cell_type": "code",
   "execution_count": 5,
   "id": "157cccef",
   "metadata": {},
   "outputs": [
    {
     "name": "stdout",
     "output_type": "stream",
     "text": [
      "Defaulting to user installation because normal site-packages is not writeable\n"
     ]
    },
    {
     "name": "stderr",
     "output_type": "stream",
     "text": [
      "ERROR: Could not find a version that satisfies the requirement time (from versions: none)\n",
      "ERROR: No matching distribution found for time\n"
     ]
    },
    {
     "name": "stdout",
     "output_type": "stream",
     "text": [
      "Defaulting to user installation because normal site-packages is not writeable\n",
      "Requirement already satisfied: pyautogui in c:\\users\\zbook\\appdata\\roaming\\python\\python39\\site-packages (0.9.53)\n",
      "Requirement already satisfied: PyTweening>=1.0.1 in c:\\users\\zbook\\appdata\\roaming\\python\\python39\\site-packages (from pyautogui) (1.0.5)\n",
      "Requirement already satisfied: pymsgbox in c:\\users\\zbook\\appdata\\roaming\\python\\python39\\site-packages (from pyautogui) (1.0.9)\n",
      "Requirement already satisfied: pyscreeze>=0.1.21 in c:\\users\\zbook\\appdata\\roaming\\python\\python39\\site-packages (from pyautogui) (0.1.28)\n",
      "Requirement already satisfied: pygetwindow>=0.0.5 in c:\\users\\zbook\\appdata\\roaming\\python\\python39\\site-packages (from pyautogui) (0.0.9)\n",
      "Requirement already satisfied: mouseinfo in c:\\users\\zbook\\appdata\\roaming\\python\\python39\\site-packages (from pyautogui) (0.1.3)\n",
      "Requirement already satisfied: pyrect in c:\\users\\zbook\\appdata\\roaming\\python\\python39\\site-packages (from pygetwindow>=0.0.5->pyautogui) (0.2.0)\n",
      "Requirement already satisfied: pyperclip in c:\\users\\zbook\\appdata\\roaming\\python\\python39\\site-packages (from mouseinfo->pyautogui) (1.8.2)\n",
      "Defaulting to user installation because normal site-packages is not writeable\n",
      "Collecting selenium\n",
      "  Downloading selenium-4.9.0-py3-none-any.whl (6.5 MB)\n",
      "     ---------------------------------------- 6.5/6.5 MB 34.8 MB/s eta 0:00:00\n",
      "Collecting trio~=0.17\n",
      "  Downloading trio-0.22.0-py3-none-any.whl (384 kB)\n",
      "     ------------------------------------- 384.9/384.9 kB 25.0 MB/s eta 0:00:00\n",
      "Requirement already satisfied: certifi>=2021.10.8 in c:\\programdata\\anaconda3\\lib\\site-packages (from selenium) (2022.9.14)\n",
      "Requirement already satisfied: urllib3[socks]~=1.26 in c:\\programdata\\anaconda3\\lib\\site-packages (from selenium) (1.26.11)\n",
      "Collecting trio-websocket~=0.9\n",
      "  Downloading trio_websocket-0.10.2-py3-none-any.whl (17 kB)\n",
      "Requirement already satisfied: sortedcontainers in c:\\programdata\\anaconda3\\lib\\site-packages (from trio~=0.17->selenium) (2.4.0)\n",
      "Collecting outcome\n",
      "  Downloading outcome-1.2.0-py2.py3-none-any.whl (9.7 kB)\n",
      "Requirement already satisfied: cffi>=1.14 in c:\\programdata\\anaconda3\\lib\\site-packages (from trio~=0.17->selenium) (1.15.1)\n",
      "Collecting exceptiongroup>=1.0.0rc9\n",
      "  Downloading exceptiongroup-1.1.1-py3-none-any.whl (14 kB)\n",
      "Requirement already satisfied: idna in c:\\programdata\\anaconda3\\lib\\site-packages (from trio~=0.17->selenium) (3.3)\n",
      "Requirement already satisfied: attrs>=19.2.0 in c:\\programdata\\anaconda3\\lib\\site-packages (from trio~=0.17->selenium) (21.4.0)\n",
      "Requirement already satisfied: sniffio in c:\\programdata\\anaconda3\\lib\\site-packages (from trio~=0.17->selenium) (1.2.0)\n",
      "Collecting async-generator>=1.9\n",
      "  Downloading async_generator-1.10-py3-none-any.whl (18 kB)\n",
      "Collecting wsproto>=0.14\n",
      "  Downloading wsproto-1.2.0-py3-none-any.whl (24 kB)\n",
      "Requirement already satisfied: PySocks!=1.5.7,<2.0,>=1.5.6 in c:\\programdata\\anaconda3\\lib\\site-packages (from urllib3[socks]~=1.26->selenium) (1.7.1)\n",
      "Requirement already satisfied: pycparser in c:\\programdata\\anaconda3\\lib\\site-packages (from cffi>=1.14->trio~=0.17->selenium) (2.21)\n",
      "Collecting h11<1,>=0.9.0\n",
      "  Downloading h11-0.14.0-py3-none-any.whl (58 kB)\n",
      "     ---------------------------------------- 58.3/58.3 kB ? eta 0:00:00\n",
      "Installing collected packages: outcome, h11, exceptiongroup, async-generator, wsproto, trio, trio-websocket, selenium\n",
      "Successfully installed async-generator-1.10 exceptiongroup-1.1.1 h11-0.14.0 outcome-1.2.0 selenium-4.9.0 trio-0.22.0 trio-websocket-0.10.2 wsproto-1.2.0\n"
     ]
    }
   ],
   "source": [
    "!pip install time\n",
    "!pip install pyautogui\n",
    "!pip install selenium"
   ]
  },
  {
   "cell_type": "code",
   "execution_count": 4,
   "id": "efe6d4ad",
   "metadata": {},
   "outputs": [
    {
     "ename": "FileNotFoundError",
     "evalue": "[Errno 2] No such file or directory: 'user'",
     "output_type": "error",
     "traceback": [
      "\u001b[1;31m---------------------------------------------------------------------------\u001b[0m",
      "\u001b[1;31mFileNotFoundError\u001b[0m                         Traceback (most recent call last)",
      "\u001b[1;32m~\\AppData\\Local\\Temp\\ipykernel_7948\\3047316029.py\u001b[0m in \u001b[0;36m<module>\u001b[1;34m\u001b[0m\n\u001b[0;32m      9\u001b[0m \u001b[1;33m\u001b[0m\u001b[0m\n\u001b[0;32m     10\u001b[0m \u001b[1;31m# Rechercher la première zone sur l'écran\u001b[0m\u001b[1;33m\u001b[0m\u001b[1;33m\u001b[0m\u001b[0m\n\u001b[1;32m---> 11\u001b[1;33m \u001b[0mposition_zone1\u001b[0m \u001b[1;33m=\u001b[0m \u001b[0mpyautogui\u001b[0m\u001b[1;33m.\u001b[0m\u001b[0mlocateOnScreen\u001b[0m\u001b[1;33m(\u001b[0m\u001b[1;34m'user'\u001b[0m\u001b[1;33m)\u001b[0m\u001b[1;33m\u001b[0m\u001b[1;33m\u001b[0m\u001b[0m\n\u001b[0m\u001b[0;32m     12\u001b[0m \u001b[1;33m\u001b[0m\u001b[0m\n\u001b[0;32m     13\u001b[0m \u001b[1;31m# Cliquer sur la première zone\u001b[0m\u001b[1;33m\u001b[0m\u001b[1;33m\u001b[0m\u001b[0m\n",
      "\u001b[1;32m~\\AppData\\Roaming\\Python\\Python39\\site-packages\\pyautogui\\__init__.py\u001b[0m in \u001b[0;36mwrapper\u001b[1;34m(*args, **kwargs)\u001b[0m\n\u001b[0;32m    173\u001b[0m     \u001b[1;32mdef\u001b[0m \u001b[0mwrapper\u001b[0m\u001b[1;33m(\u001b[0m\u001b[1;33m*\u001b[0m\u001b[0margs\u001b[0m\u001b[1;33m,\u001b[0m \u001b[1;33m**\u001b[0m\u001b[0mkwargs\u001b[0m\u001b[1;33m)\u001b[0m\u001b[1;33m:\u001b[0m\u001b[1;33m\u001b[0m\u001b[1;33m\u001b[0m\u001b[0m\n\u001b[0;32m    174\u001b[0m         \u001b[1;32mtry\u001b[0m\u001b[1;33m:\u001b[0m\u001b[1;33m\u001b[0m\u001b[1;33m\u001b[0m\u001b[0m\n\u001b[1;32m--> 175\u001b[1;33m             \u001b[1;32mreturn\u001b[0m \u001b[0mwrappedFunction\u001b[0m\u001b[1;33m(\u001b[0m\u001b[1;33m*\u001b[0m\u001b[0margs\u001b[0m\u001b[1;33m,\u001b[0m \u001b[1;33m**\u001b[0m\u001b[0mkwargs\u001b[0m\u001b[1;33m)\u001b[0m\u001b[1;33m\u001b[0m\u001b[1;33m\u001b[0m\u001b[0m\n\u001b[0m\u001b[0;32m    176\u001b[0m         \u001b[1;32mexcept\u001b[0m \u001b[0mpyscreeze\u001b[0m\u001b[1;33m.\u001b[0m\u001b[0mImageNotFoundException\u001b[0m\u001b[1;33m:\u001b[0m\u001b[1;33m\u001b[0m\u001b[1;33m\u001b[0m\u001b[0m\n\u001b[0;32m    177\u001b[0m             \u001b[1;32mraise\u001b[0m \u001b[0mImageNotFoundException\u001b[0m  \u001b[1;31m# Raise PyAutoGUI's ImageNotFoundException.\u001b[0m\u001b[1;33m\u001b[0m\u001b[1;33m\u001b[0m\u001b[0m\n",
      "\u001b[1;32m~\\AppData\\Roaming\\Python\\Python39\\site-packages\\pyautogui\\__init__.py\u001b[0m in \u001b[0;36mlocateOnScreen\u001b[1;34m(*args, **kwargs)\u001b[0m\n\u001b[0;32m    211\u001b[0m     \u001b[1;33m@\u001b[0m\u001b[0mraisePyAutoGUIImageNotFoundException\u001b[0m\u001b[1;33m\u001b[0m\u001b[1;33m\u001b[0m\u001b[0m\n\u001b[0;32m    212\u001b[0m     \u001b[1;32mdef\u001b[0m \u001b[0mlocateOnScreen\u001b[0m\u001b[1;33m(\u001b[0m\u001b[1;33m*\u001b[0m\u001b[0margs\u001b[0m\u001b[1;33m,\u001b[0m \u001b[1;33m**\u001b[0m\u001b[0mkwargs\u001b[0m\u001b[1;33m)\u001b[0m\u001b[1;33m:\u001b[0m\u001b[1;33m\u001b[0m\u001b[1;33m\u001b[0m\u001b[0m\n\u001b[1;32m--> 213\u001b[1;33m         \u001b[1;32mreturn\u001b[0m \u001b[0mpyscreeze\u001b[0m\u001b[1;33m.\u001b[0m\u001b[0mlocateOnScreen\u001b[0m\u001b[1;33m(\u001b[0m\u001b[1;33m*\u001b[0m\u001b[0margs\u001b[0m\u001b[1;33m,\u001b[0m \u001b[1;33m**\u001b[0m\u001b[0mkwargs\u001b[0m\u001b[1;33m)\u001b[0m\u001b[1;33m\u001b[0m\u001b[1;33m\u001b[0m\u001b[0m\n\u001b[0m\u001b[0;32m    214\u001b[0m \u001b[1;33m\u001b[0m\u001b[0m\n\u001b[0;32m    215\u001b[0m     \u001b[0mlocateOnScreen\u001b[0m\u001b[1;33m.\u001b[0m\u001b[0m__doc__\u001b[0m \u001b[1;33m=\u001b[0m \u001b[0mpyscreeze\u001b[0m\u001b[1;33m.\u001b[0m\u001b[0mlocateOnScreen\u001b[0m\u001b[1;33m.\u001b[0m\u001b[0m__doc__\u001b[0m\u001b[1;33m\u001b[0m\u001b[1;33m\u001b[0m\u001b[0m\n",
      "\u001b[1;32m~\\AppData\\Roaming\\Python\\Python39\\site-packages\\pyscreeze\\__init__.py\u001b[0m in \u001b[0;36mlocateOnScreen\u001b[1;34m(image, minSearchTime, **kwargs)\u001b[0m\n\u001b[0;32m    371\u001b[0m         \u001b[1;32mtry\u001b[0m\u001b[1;33m:\u001b[0m\u001b[1;33m\u001b[0m\u001b[1;33m\u001b[0m\u001b[0m\n\u001b[0;32m    372\u001b[0m             \u001b[0mscreenshotIm\u001b[0m \u001b[1;33m=\u001b[0m \u001b[0mscreenshot\u001b[0m\u001b[1;33m(\u001b[0m\u001b[0mregion\u001b[0m\u001b[1;33m=\u001b[0m\u001b[1;32mNone\u001b[0m\u001b[1;33m)\u001b[0m \u001b[1;31m# the locateAll() function must handle cropping to return accurate coordinates, so don't pass a region here.\u001b[0m\u001b[1;33m\u001b[0m\u001b[1;33m\u001b[0m\u001b[0m\n\u001b[1;32m--> 373\u001b[1;33m             \u001b[0mretVal\u001b[0m \u001b[1;33m=\u001b[0m \u001b[0mlocate\u001b[0m\u001b[1;33m(\u001b[0m\u001b[0mimage\u001b[0m\u001b[1;33m,\u001b[0m \u001b[0mscreenshotIm\u001b[0m\u001b[1;33m,\u001b[0m \u001b[1;33m**\u001b[0m\u001b[0mkwargs\u001b[0m\u001b[1;33m)\u001b[0m\u001b[1;33m\u001b[0m\u001b[1;33m\u001b[0m\u001b[0m\n\u001b[0m\u001b[0;32m    374\u001b[0m             \u001b[1;32mtry\u001b[0m\u001b[1;33m:\u001b[0m\u001b[1;33m\u001b[0m\u001b[1;33m\u001b[0m\u001b[0m\n\u001b[0;32m    375\u001b[0m                 \u001b[0mscreenshotIm\u001b[0m\u001b[1;33m.\u001b[0m\u001b[0mfp\u001b[0m\u001b[1;33m.\u001b[0m\u001b[0mclose\u001b[0m\u001b[1;33m(\u001b[0m\u001b[1;33m)\u001b[0m\u001b[1;33m\u001b[0m\u001b[1;33m\u001b[0m\u001b[0m\n",
      "\u001b[1;32m~\\AppData\\Roaming\\Python\\Python39\\site-packages\\pyscreeze\\__init__.py\u001b[0m in \u001b[0;36mlocate\u001b[1;34m(needleImage, haystackImage, **kwargs)\u001b[0m\n\u001b[0;32m    351\u001b[0m     \u001b[1;31m# Note: The gymnastics in this function is because we want to make sure to exhaust the iterator so that the needle and haystack files are closed in locateAll.\u001b[0m\u001b[1;33m\u001b[0m\u001b[1;33m\u001b[0m\u001b[0m\n\u001b[0;32m    352\u001b[0m     \u001b[0mkwargs\u001b[0m\u001b[1;33m[\u001b[0m\u001b[1;34m'limit'\u001b[0m\u001b[1;33m]\u001b[0m \u001b[1;33m=\u001b[0m \u001b[1;36m1\u001b[0m\u001b[1;33m\u001b[0m\u001b[1;33m\u001b[0m\u001b[0m\n\u001b[1;32m--> 353\u001b[1;33m     \u001b[0mpoints\u001b[0m \u001b[1;33m=\u001b[0m \u001b[0mtuple\u001b[0m\u001b[1;33m(\u001b[0m\u001b[0mlocateAll\u001b[0m\u001b[1;33m(\u001b[0m\u001b[0mneedleImage\u001b[0m\u001b[1;33m,\u001b[0m \u001b[0mhaystackImage\u001b[0m\u001b[1;33m,\u001b[0m \u001b[1;33m**\u001b[0m\u001b[0mkwargs\u001b[0m\u001b[1;33m)\u001b[0m\u001b[1;33m)\u001b[0m\u001b[1;33m\u001b[0m\u001b[1;33m\u001b[0m\u001b[0m\n\u001b[0m\u001b[0;32m    354\u001b[0m     \u001b[1;32mif\u001b[0m \u001b[0mlen\u001b[0m\u001b[1;33m(\u001b[0m\u001b[0mpoints\u001b[0m\u001b[1;33m)\u001b[0m \u001b[1;33m>\u001b[0m \u001b[1;36m0\u001b[0m\u001b[1;33m:\u001b[0m\u001b[1;33m\u001b[0m\u001b[1;33m\u001b[0m\u001b[0m\n\u001b[0;32m    355\u001b[0m         \u001b[1;32mreturn\u001b[0m \u001b[0mpoints\u001b[0m\u001b[1;33m[\u001b[0m\u001b[1;36m0\u001b[0m\u001b[1;33m]\u001b[0m\u001b[1;33m\u001b[0m\u001b[1;33m\u001b[0m\u001b[0m\n",
      "\u001b[1;32m~\\AppData\\Roaming\\Python\\Python39\\site-packages\\pyscreeze\\__init__.py\u001b[0m in \u001b[0;36m_locateAll_python\u001b[1;34m(needleImage, haystackImage, grayscale, limit, region, step, confidence)\u001b[0m\n\u001b[0;32m    260\u001b[0m     \u001b[1;32mif\u001b[0m \u001b[0misinstance\u001b[0m\u001b[1;33m(\u001b[0m\u001b[0mneedleImage\u001b[0m\u001b[1;33m,\u001b[0m \u001b[1;33m(\u001b[0m\u001b[0mstr\u001b[0m\u001b[1;33m,\u001b[0m \u001b[0municode\u001b[0m\u001b[1;33m)\u001b[0m\u001b[1;33m)\u001b[0m\u001b[1;33m:\u001b[0m\u001b[1;33m\u001b[0m\u001b[1;33m\u001b[0m\u001b[0m\n\u001b[0;32m    261\u001b[0m         \u001b[1;31m# 'image' is a filename, load the Image object\u001b[0m\u001b[1;33m\u001b[0m\u001b[1;33m\u001b[0m\u001b[0m\n\u001b[1;32m--> 262\u001b[1;33m         \u001b[0mneedleFileObj\u001b[0m \u001b[1;33m=\u001b[0m \u001b[0mopen\u001b[0m\u001b[1;33m(\u001b[0m\u001b[0mneedleImage\u001b[0m\u001b[1;33m,\u001b[0m \u001b[1;34m'rb'\u001b[0m\u001b[1;33m)\u001b[0m\u001b[1;33m\u001b[0m\u001b[1;33m\u001b[0m\u001b[0m\n\u001b[0m\u001b[0;32m    263\u001b[0m         \u001b[0mneedleImage\u001b[0m \u001b[1;33m=\u001b[0m \u001b[0mImage\u001b[0m\u001b[1;33m.\u001b[0m\u001b[0mopen\u001b[0m\u001b[1;33m(\u001b[0m\u001b[0mneedleFileObj\u001b[0m\u001b[1;33m)\u001b[0m\u001b[1;33m\u001b[0m\u001b[1;33m\u001b[0m\u001b[0m\n\u001b[0;32m    264\u001b[0m \u001b[1;33m\u001b[0m\u001b[0m\n",
      "\u001b[1;31mFileNotFoundError\u001b[0m: [Errno 2] No such file or directory: 'user'"
     ]
    }
   ],
   "source": [
    "import pyautogui\n",
    "import time\n",
    "\n",
    "# Attendre quelques secondes pour permettre à l'utilisateur de se préparer\n",
    "time.sleep(5)\n",
    "\n",
    "# Définir le texte à saisir dans la première zone\n",
    "texte_zone1 = 'Exemple de texte à saisir'\n",
    "\n",
    "# Rechercher la première zone sur l'écran\n",
    "position_zone1 = pyautogui.locateOnScreen('user')\n",
    "\n",
    "# Cliquer sur la première zone\n",
    "pyautogui.click(position_zone1)\n",
    "\n",
    "# Saisir du texte dans la première zone\n",
    "pyautogui.write(texte_zone1)\n",
    "\n",
    "# Définir le texte à saisir dans la deuxième zone\n",
    "texte_zone2 = 'Exemple de texte à saisir dans la deuxième zone'\n",
    "\n",
    "# Rechercher la deuxième zone sur l'écran\n",
    "position_zone2 = pyautogui.locateOnScreen('zone2.png')\n",
    "\n",
    "# Cliquer sur la deuxième zone\n",
    "pyautogui.click(position_zone2)\n",
    "\n",
    "# Saisir du texte dans la deuxième zone\n",
    "pyautogui.write(texte_zone2)\n",
    "\n",
    "# Rechercher le bouton sur l'écran\n",
    "position_bouton = pyautogui.locateOnScreen('bouton.png')\n",
    "\n",
    "# Cliquer sur le bouton\n",
    "pyautogui.click(position_bouton)\n"
   ]
  },
  {
   "cell_type": "code",
   "execution_count": 8,
   "id": "f90a231e",
   "metadata": {},
   "outputs": [
    {
     "ename": "AttributeError",
     "evalue": "'WebDriver' object has no attribute 'find_element_by_xpath'",
     "output_type": "error",
     "traceback": [
      "\u001b[1;31m---------------------------------------------------------------------------\u001b[0m",
      "\u001b[1;31mAttributeError\u001b[0m                            Traceback (most recent call last)",
      "\u001b[1;32m~\\AppData\\Local\\Temp\\ipykernel_7948\\1886885968.py\u001b[0m in \u001b[0;36m<module>\u001b[1;34m\u001b[0m\n\u001b[0;32m     13\u001b[0m \u001b[1;31m# Cliquer sur la première zone\u001b[0m\u001b[1;33m\u001b[0m\u001b[1;33m\u001b[0m\u001b[0m\n\u001b[0;32m     14\u001b[0m \u001b[1;31m# zone1 = driver.find_element_by_xpath(\"//input[@name='username']\")\u001b[0m\u001b[1;33m\u001b[0m\u001b[1;33m\u001b[0m\u001b[0m\n\u001b[1;32m---> 15\u001b[1;33m \u001b[0mzone1\u001b[0m \u001b[1;33m=\u001b[0m \u001b[0mdriver\u001b[0m\u001b[1;33m.\u001b[0m\u001b[0mfind_element_by_xpath\u001b[0m\u001b[1;33m(\u001b[0m\u001b[1;34m'//input[@id=\"user\" and @name=\"username\"]'\u001b[0m\u001b[1;33m)\u001b[0m\u001b[1;33m\u001b[0m\u001b[1;33m\u001b[0m\u001b[0m\n\u001b[0m\u001b[0;32m     16\u001b[0m \u001b[1;33m\u001b[0m\u001b[0m\n\u001b[0;32m     17\u001b[0m \u001b[0mzone1\u001b[0m\u001b[1;33m.\u001b[0m\u001b[0mclick\u001b[0m\u001b[1;33m(\u001b[0m\u001b[1;33m)\u001b[0m\u001b[1;33m\u001b[0m\u001b[1;33m\u001b[0m\u001b[0m\n",
      "\u001b[1;31mAttributeError\u001b[0m: 'WebDriver' object has no attribute 'find_element_by_xpath'"
     ]
    }
   ],
   "source": [
    "from selenium import webdriver\n",
    "import time\n",
    "\n",
    "# Créer une instance du navigateur Chrome\n",
    "driver = webdriver.Chrome()\n",
    "\n",
    "# Naviguer vers la page d'accueil de m6.fr\n",
    "driver.get('https://www.guerretribale.fr//')\n",
    "\n",
    "# Attendre quelques secondes pour que la page se charge\n",
    "time.sleep(5)\n",
    "\n",
    "# Cliquer sur la première zone\n",
    "# zone1 = driver.find_element_by_xpath(\"//input[@name='username']\")\n",
    "zone1 = driver.find_element_by_xpath('//input[@id=\"user\" and @name=\"username\"]')\n",
    "\n",
    "zone1.click()\n",
    "\n",
    "# Saisir du texte dans la première zone\n",
    "zone1.send_keys('Exzone1')\n",
    "\n",
    "# Cliquer sur la deuxième zone\n",
    "zone2 = driver.find_element_by_xpath(\"//input[@name='password']\")\n",
    "zone2.click()\n",
    "\n",
    "# Saisir du texte dans la deuxième zone\n",
    "zone2.send_keys('Exzone2')\n",
    "\n",
    "# Cliquer sur le bouton\n",
    "bouton = driver.find_element_by_xpath(\"//button[@id='mon-bouton']\")\n",
    "bouton.click()\n",
    "\n",
    "# Fermer le navigateur\n",
    "driver.quit()\n"
   ]
  },
  {
   "cell_type": "code",
   "execution_count": 13,
   "id": "dcb4b62a",
   "metadata": {},
   "outputs": [
    {
     "name": "stdout",
     "output_type": "stream",
     "text": [
      "Name: selenium\n",
      "Version: 4.9.0\n",
      "Summary: \n",
      "Home-page: https://www.selenium.dev\n",
      "Author: \n",
      "Author-email: \n",
      "License: Apache 2.0\n",
      "Location: c:\\users\\zbook\\appdata\\roaming\\python\\python39\\site-packages\n",
      "Requires: certifi, trio, trio-websocket, urllib3\n",
      "Required-by: \n"
     ]
    }
   ],
   "source": [
    "!pip show selenium\n"
   ]
  },
  {
   "cell_type": "code",
   "execution_count": 16,
   "id": "0e73e44e",
   "metadata": {},
   "outputs": [
    {
     "ename": "AttributeError",
     "evalue": "'WebDriver' object has no attribute 'find_element_by_xpath'",
     "output_type": "error",
     "traceback": [
      "\u001b[1;31m---------------------------------------------------------------------------\u001b[0m",
      "\u001b[1;31mAttributeError\u001b[0m                            Traceback (most recent call last)",
      "\u001b[1;32m~\\AppData\\Local\\Temp\\ipykernel_7948\\2306794464.py\u001b[0m in \u001b[0;36m<module>\u001b[1;34m\u001b[0m\n\u001b[0;32m     11\u001b[0m \u001b[1;31m# Cliquer sur la première zone\u001b[0m\u001b[1;33m\u001b[0m\u001b[1;33m\u001b[0m\u001b[0m\n\u001b[0;32m     12\u001b[0m \u001b[1;31m# zone1 = driver.find_element_by_xpath(\"//input[@name='username']\")\u001b[0m\u001b[1;33m\u001b[0m\u001b[1;33m\u001b[0m\u001b[0m\n\u001b[1;32m---> 13\u001b[1;33m \u001b[0mzone1\u001b[0m \u001b[1;33m=\u001b[0m \u001b[0mdriver\u001b[0m\u001b[1;33m.\u001b[0m\u001b[0mfind_element_by_xpath\u001b[0m\u001b[1;33m(\u001b[0m\u001b[1;34m'//input[@id=\"user\" and @name=\"username\"]'\u001b[0m\u001b[1;33m)\u001b[0m\u001b[1;33m\u001b[0m\u001b[1;33m\u001b[0m\u001b[0m\n\u001b[0m\u001b[0;32m     14\u001b[0m \u001b[1;33m\u001b[0m\u001b[0m\n\u001b[0;32m     15\u001b[0m \u001b[1;31m# Attendre quelques secondes pour que la page se charge\u001b[0m\u001b[1;33m\u001b[0m\u001b[1;33m\u001b[0m\u001b[0m\n",
      "\u001b[1;31mAttributeError\u001b[0m: 'WebDriver' object has no attribute 'find_element_by_xpath'"
     ]
    }
   ],
   "source": [
    "from selenium import webdriver\n",
    "from selenium.webdriver.common.by import By\n",
    "\n",
    "\n",
    "# Créer une instance du navigateur Chrome\n",
    "driver = webdriver.Chrome()\n",
    "\n",
    "# Naviguer vers la page d'accueil de m6.fr\n",
    "driver.get('https://www.guerretribale.fr//')\n",
    "\n",
    "# Cliquer sur la première zone\n",
    "# zone1 = driver.find_element_by_xpath(\"//input[@name='username']\")\n",
    "zone1 = driver.find_element_by_xpath('//input[@id=\"user\" and @name=\"username\"]')\n",
    "\n",
    "# Attendre quelques secondes pour que la page se charge\n",
    "time.sleep(5)\n",
    "\n",
    "# Fermer le navigateur\n",
    "driver.quit()\n"
   ]
  },
  {
   "cell_type": "code",
   "execution_count": 18,
   "id": "41950911",
   "metadata": {},
   "outputs": [
    {
     "name": "stdout",
     "output_type": "stream",
     "text": [
      "Defaulting to user installation because normal site-packages is not writeable\n",
      "Requirement already satisfied: requests in c:\\programdata\\anaconda3\\lib\\site-packages (2.28.1)\n",
      "Requirement already satisfied: urllib3<1.27,>=1.21.1 in c:\\programdata\\anaconda3\\lib\\site-packages (from requests) (1.26.11)\n",
      "Requirement already satisfied: certifi>=2017.4.17 in c:\\programdata\\anaconda3\\lib\\site-packages (from requests) (2022.9.14)\n",
      "Requirement already satisfied: charset-normalizer<3,>=2 in c:\\programdata\\anaconda3\\lib\\site-packages (from requests) (2.0.4)\n",
      "Requirement already satisfied: idna<4,>=2.5 in c:\\programdata\\anaconda3\\lib\\site-packages (from requests) (3.3)\n",
      "Defaulting to user installation because normal site-packages is not writeable\n",
      "Collecting bs4\n",
      "  Downloading bs4-0.0.1.tar.gz (1.1 kB)\n",
      "  Preparing metadata (setup.py): started\n",
      "  Preparing metadata (setup.py): finished with status 'done'\n",
      "Requirement already satisfied: beautifulsoup4 in c:\\programdata\\anaconda3\\lib\\site-packages (from bs4) (4.11.1)\n",
      "Requirement already satisfied: soupsieve>1.2 in c:\\programdata\\anaconda3\\lib\\site-packages (from beautifulsoup4->bs4) (2.3.1)\n",
      "Building wheels for collected packages: bs4\n",
      "  Building wheel for bs4 (setup.py): started\n",
      "  Building wheel for bs4 (setup.py): finished with status 'done'\n",
      "  Created wheel for bs4: filename=bs4-0.0.1-py3-none-any.whl size=1257 sha256=dbe39aa6e68dc2df3f0f8e538f5bbc856b01d04c6549df7c9172643e64662987\n",
      "  Stored in directory: c:\\users\\zbook\\appdata\\local\\pip\\cache\\wheels\\73\\2b\\cb\\099980278a0c9a3e57ff1a89875ec07bfa0b6fcbebb9a8cad3\n",
      "Successfully built bs4\n",
      "Installing collected packages: bs4\n",
      "Successfully installed bs4-0.0.1\n"
     ]
    }
   ],
   "source": [
    "!pip install requests\n",
    "!pip install bs4"
   ]
  },
  {
   "cell_type": "code",
   "execution_count": 19,
   "id": "52e8e980",
   "metadata": {},
   "outputs": [
    {
     "ename": "TypeError",
     "evalue": "'NoneType' object does not support item assignment",
     "output_type": "error",
     "traceback": [
      "\u001b[1;31m---------------------------------------------------------------------------\u001b[0m",
      "\u001b[1;31mTypeError\u001b[0m                                 Traceback (most recent call last)",
      "\u001b[1;32m~\\AppData\\Local\\Temp\\ipykernel_7948\\45009877.py\u001b[0m in \u001b[0;36m<module>\u001b[1;34m\u001b[0m\n\u001b[0;32m     11\u001b[0m \u001b[1;33m\u001b[0m\u001b[0m\n\u001b[0;32m     12\u001b[0m \u001b[1;31m# Saisir du texte dans la zone de texte\u001b[0m\u001b[1;33m\u001b[0m\u001b[1;33m\u001b[0m\u001b[0m\n\u001b[1;32m---> 13\u001b[1;33m \u001b[0mzone_texte\u001b[0m\u001b[1;33m[\u001b[0m\u001b[1;34m'value'\u001b[0m\u001b[1;33m]\u001b[0m \u001b[1;33m=\u001b[0m \u001b[1;34m'Texte à saisir'\u001b[0m\u001b[1;33m\u001b[0m\u001b[1;33m\u001b[0m\u001b[0m\n\u001b[0m",
      "\u001b[1;31mTypeError\u001b[0m: 'NoneType' object does not support item assignment"
     ]
    }
   ],
   "source": [
    "import requests\n",
    "from bs4 import BeautifulSoup\n",
    "\n",
    "# Lancer la page web\n",
    "url = 'https://www.example.com/'\n",
    "response = requests.get(url)\n",
    "soup = BeautifulSoup(response.content, 'html.parser')\n",
    "\n",
    "# Trouver la zone de texte\n",
    "zone_texte = soup.find('input', {'type': 'text'})\n",
    "\n",
    "# Saisir du texte dans la zone de texte\n",
    "zone_texte['value'] = 'Texte à saisir'\n"
   ]
  },
  {
   "cell_type": "code",
   "execution_count": 20,
   "id": "c055409d",
   "metadata": {},
   "outputs": [
    {
     "name": "stdout",
     "output_type": "stream",
     "text": [
      "b'<!DOCTYPE html><html dir=\"ltr\" lang=\"fr-FR\"><head> <title>Guerre Tribale - Jeu par navigateur - Jouez gratuitement en ligne!</title> <meta http-equiv=\"Content-Type\" content=\"text/html; charset=UTF-8\"> <meta name=\"description\" content=\"Guerre Tribale est un jeu par navigateur populaire avec des millions de joueurs et une histoire qui s\\'\\xc3\\xa9tend sur plus de 10 ans. Inscrivez vous maintenant pour gouverner votre propre village! Le jeu gratuit en ligne Guerre Tribale est aussi connu dans le monde sous le nom de Tribal Wars. Inscrivez vous maintenant et commencez \\xc3\\xa0 jouer!\" /> <meta name=\"viewport\" content=\"width=device-width, initial-scale=1\"> <meta name=\"apple-itunes-app\" content=\"app-id=435365767, app-argument=x-sfp:///visit/tribal-wars\"> <!-- favicons --> <link rel=\"apple-touch-icon\" sizes=\"57x57\" href=\"https://dsfr.innogamescdn.com/asset/c1748d3c/graphic/start/favicon/apple-touch-icon-57x57.png\" /> <link rel=\"apple-touch-icon\" sizes=\"114x114\" href=\"https://dsfr.innogamescdn.com/asset/c1748d3c/graphic/start/favicon/apple-touch-icon-114x114.png\" /> <link rel=\"apple-touch-icon\" sizes=\"72x72\" href=\"https://dsfr.innogamescdn.com/asset/c1748d3c/graphic/start/favicon/apple-touch-icon-72x72.png\"> <link rel=\"apple-touch-icon\" sizes=\"144x144\" href=\"/https://dsfr.innogamescdn.com/asset/c1748d3c/graphic/start/favicon/apple-touch-icon-144x144.png\" /> <link rel=\"apple-touch-icon\" sizes=\"60x60\" href=\"https://dsfr.innogamescdn.com/asset/c1748d3c/graphic/start/favicon/apple-touch-icon-60x60.png\" /> <link rel=\"apple-touch-icon\" sizes=\"120x120\" href=\"https://dsfr.innogamescdn.com/asset/c1748d3c/graphic/start/favicon/apple-touch-icon-120x120.png\" /> <link rel=\"apple-touch-icon\" sizes=\"76x76\" href=\"https://dsfr.innogamescdn.com/asset/c1748d3c/graphic/start/favicon/apple-touch-icon-76x76.png\"> <link rel=\"apple-touch-icon\" sizes=\"152x152\" href=\"https://dsfr.innogamescdn.com/asset/c1748d3c/graphic/start/favicon/apple-touch-icon-152x152.png\" /> <link rel=\"icon\" type=\"image/png\" href=\"https://dsfr.innogamescdn.com/asset/c1748d3c/graphic/start/favicon/favicon-196x196.png\" sizes=\"196x196\" /> <link rel=\"icon\" type=\"image/png\" href=\"https://dsfr.innogamescdn.com/asset/c1748d3c/graphic/start/favicon/favicon-160x160.png\" sizes=\"160x160\" /> <link rel=\"icon\" type=\"image/png\" href=\"https://dsfr.innogamescdn.com/asset/c1748d3c/graphic/start/favicon/favicon-96x96.png\" sizes=\"96x96\" /> <link rel=\"icon\" type=\"image/png\" href=\"https://dsfr.innogamescdn.com/asset/c1748d3c/graphic/start/favicon/favicon-16x16.png\" sizes=\"16x16\" /> <link rel=\"icon\" type=\"image/png\" href=\"https://dsfr.innogamescdn.com/asset/c1748d3c/graphic/start/favicon/favicon-32x32.png\" sizes=\"32x32\" /> <link rel=\"icon\" type=\"image/png\" href=\"https://dsfr.innogamescdn.com/asset/c1748d3c/graphic/start/favicon/favicon-16x16.png\"/> <link rel=\"canonical\" href=\"\" /> <link rel=\"alternate\" href=\"https://www.tribalwars.net/\" hreflang=\"x-default\" /> <link rel=\"alternate\" href=\"https://www.die-staemme.de/\" hreflang=\"de\" /> <link rel=\"alternate\" href=\"https://www.staemme.ch/\" hreflang=\"de-CH\" /> <link rel=\"alternate\" href=\"https://www.tribalwars.net/\" hreflang=\"en\" /> <link rel=\"alternate\" href=\"https://www.tribalwars.nl/\" hreflang=\"nl\" /> <link rel=\"alternate\" href=\"https://www.plemiona.pl/\" hreflang=\"pl\" /> <link rel=\"alternate\" href=\"https://www.tribalwars.se/\" hreflang=\"sv\" /> <link rel=\"alternate\" href=\"https://www.tribalwars.com.br/\" hreflang=\"pt-BR\" /> <link rel=\"alternate\" href=\"https://www.tribalwars.com.pt/\" hreflang=\"pt\" /> <link rel=\"alternate\" href=\"https://www.divokekmeny.cz/\" hreflang=\"cs\" /> <link rel=\"alternate\" href=\"https://www.triburile.ro/\" hreflang=\"ro\" /> <link rel=\"alternate\" href=\"https://www.voynaplemyon.com/\" hreflang=\"ru\" /> <link rel=\"alternate\" href=\"https://www.fyletikesmaxes.gr/\" hreflang=\"el\" /> <link rel=\"alternate\" href=\"https://no.tribalwars.com/\" hreflang=\"nb\" /> <link rel=\"alternate\" href=\"https://www.divoke-kmene.sk/\" hreflang=\"sk\" /> <link rel=\"alternate\" href=\"https://www.klanhaboru.hu/\" hreflang=\"hu\" /> <link rel=\"alternate\" href=\"https://www.tribalwars.dk/\" hreflang=\"da\" /> <link rel=\"alternate\" href=\"https://www.tribals.it/\" hreflang=\"it\" /> <link rel=\"alternate\" href=\"https://www.klanlar.org/\" hreflang=\"tr\" /> <link rel=\"alternate\" href=\"https://www.guerrastribales.es/\" hreflang=\"es\" /> <link rel=\"alternate\" href=\"https://www.tribalwars.ae/\" hreflang=\"ar\" /> <link rel=\"alternate\" href=\"https://www.tribalwars.co.uk/\" hreflang=\"en-GB\" /> <link rel=\"alternate\" href=\"https://www.vojnaplemen.si/\" hreflang=\"sl\" /> <link rel=\"alternate\" href=\"https://www.plemena.com/\" hreflang=\"hr\" /> <link rel=\"alternate\" href=\"https://www.tribalwars.asia/\" hreflang=\"th\" /> <link rel=\"alternate\" href=\"https://www.tribalwars.us/\" hreflang=\"en-US\" /> <meta name=\"msapplication-TileColor\" content=\"#bb9b3b\" /> <meta name=\"msapplication-TileImage\" content=\"https://dsfr.innogamescdn.com/asset/c1748d3c/graphic/start/favicon/mstile-144x144.png\" /> <meta content=\"05ed343d52d937d0ce99728b237a1f8dee9868ef21083dda\" name=\"csrf-token\" /> <!-- styles --> <link rel=\"stylesheet\" type=\"text/css\" href=\"https://dsfr.innogamescdn.com/merged/start.css?b19d5b2d28562e0d2ed3c6a4cdb0b7c8\" /> <script src=\"https://hcaptcha.com/1/api.js?onload=captchaLibraryLoaded&render=explicit&hl=\" async defer></script> </head><body dir=\"ltr\" id=\"home\" class=\"has-portalbar \"><!-- INNOGAMES PORTALBAR --><div id=\"pbar\"> <div class=\"pb-outer pb-outer-fr\"><div class=\"pb-inner\"><div class=\"pb-cntnt invisible\"><div class=\"pb-home\"><a href=\"https://www.innogames.com?ref=ds_portalbar_innogames\" target=\"_blank\" id=\"portal-bar_innogames-logo_n/a_logo_innogames\" title=\"Se rendre sur InnoGames.com\"><span>Innogames.com</span></a></div><div class=\"pb-lang-sec\"><div class=\"pb-lang-select\" id=\"portal-bar_market_n/a_n/a_n/a\"><div class=\"pb-lang-content pb-flag-fr\" id=\"pb-flag-fr\"></div><div class=\"pb-lang-button\" id=\"portal-bar_market_n/a_button_n/a\"></div></div><div class=\"pb-lang-sec-options\"><ul><li><a href=\"https://www.die-staemme.de\"><span id=\"portal-bar_market_n/a_flag_de\"\\tclass=\"pb-flag pb-flag-de\">die-staemme.de</span></a></li><li><a href=\"https://www.staemme.ch\"><span id=\"portal-bar_market_n/a_flag_ch\"\\tclass=\"pb-flag pb-flag-ch\">staemme.ch</span></a></li><li><a href=\"https://www.tribalwars.net/en-dk/\"><span id=\"portal-bar_market_n/a_flag_en\"\\tclass=\"pb-flag pb-flag-en\">tribalwars.net</span></a></li><li><a href=\"https://www.tribalwars.nl\"><span id=\"portal-bar_market_n/a_flag_nl\"\\tclass=\"pb-flag pb-flag-nl\">tribalwars.nl</span></a></li><li><a href=\"https://www.plemiona.pl\"><span id=\"portal-bar_market_n/a_flag_pl\"\\tclass=\"pb-flag pb-flag-pl\">plemiona.pl</span></a></li><li><a href=\"https://www.tribalwars.se\"><span id=\"portal-bar_market_n/a_flag_se\"\\tclass=\"pb-flag pb-flag-se\">tribalwars.se</span></a></li><li><a href=\"https://www.tribalwars.com.br\"><span id=\"portal-bar_market_n/a_flag_br\"\\tclass=\"pb-flag pb-flag-br\">tribalwars.com.br</span></a></li><li><a href=\"https://www.tribalwars.com.pt\"><span id=\"portal-bar_market_n/a_flag_pt\"\\tclass=\"pb-flag pb-flag-pt\">tribalwars.com.pt</span></a></li><li><a href=\"https://www.divokekmeny.cz\"><span id=\"portal-bar_market_n/a_flag_cz\"\\tclass=\"pb-flag pb-flag-cz\">divokekmeny.cz</span></a></li><li><a href=\"https://www.triburile.ro\"><span id=\"portal-bar_market_n/a_flag_ro\"\\tclass=\"pb-flag pb-flag-ro\">triburile.ro</span></a></li><li><a href=\"https://www.voynaplemyon.com\"><span id=\"portal-bar_market_n/a_flag_ru\"\\tclass=\"pb-flag pb-flag-ru\">voynaplemyon.com</span></a></li><li><a href=\"https://www.fyletikesmaxes.gr\"><span id=\"portal-bar_market_n/a_flag_gr\"\\tclass=\"pb-flag pb-flag-gr\">fyletikesmaxes.gr</span></a></li><li><a href=\"https://no.tribalwars.com\"><span id=\"portal-bar_market_n/a_flag_no\"\\tclass=\"pb-flag pb-flag-no\">no.tribalwars.com</span></a></li><li><a href=\"https://www.divoke-kmene.sk\"><span id=\"portal-bar_market_n/a_flag_sk\"\\tclass=\"pb-flag pb-flag-sk\">divoke-kmene.sk</span></a></li><li><a href=\"https://www.klanhaboru.hu\"><span id=\"portal-bar_market_n/a_flag_hu\"\\tclass=\"pb-flag pb-flag-hu\">klanhaboru.hu</span></a></li><li><a href=\"https://www.tribalwars.dk\"><span id=\"portal-bar_market_n/a_flag_dk\"\\tclass=\"pb-flag pb-flag-dk\">tribalwars.dk</span></a></li><li><a href=\"https://www.tribals.it\"><span id=\"portal-bar_market_n/a_flag_it\"\\tclass=\"pb-flag pb-flag-it\">tribals.it</span></a></li><li><a href=\"https://www.klanlar.org\"><span id=\"portal-bar_market_n/a_flag_tr\"\\tclass=\"pb-flag pb-flag-tr\">klanlar.org</span></a></li><li><a href=\"https://www.guerretribale.fr\"><span id=\"portal-bar_market_n/a_flag_fr\"\\tclass=\"pb-flag pb-flag-fr\">guerretribale.fr</span></a></li><li><a href=\"https://www.guerrastribales.es\"><span id=\"portal-bar_market_n/a_flag_es\"\\tclass=\"pb-flag pb-flag-es\">guerrastribales.es</span></a></li><li><a href=\"https://www.tribalwars.ae\"><span id=\"portal-bar_market_n/a_flag_ae\"\\tclass=\"pb-flag pb-flag-ae\">tribalwars.ae</span></a></li><li><a href=\"https://www.tribalwars.co.uk\"><span id=\"portal-bar_market_n/a_flag_uk\"\\tclass=\"pb-flag pb-flag-uk\">tribalwars.co.uk</span></a></li><li><a href=\"https://www.vojnaplemen.si\"><span id=\"portal-bar_market_n/a_flag_si\"\\tclass=\"pb-flag pb-flag-si\">vojnaplemen.si</span></a></li><li><a href=\"https://www.plemena.com\"><span id=\"portal-bar_market_n/a_flag_hr\"\\tclass=\"pb-flag pb-flag-hr\">plemena.com</span></a></li><li><a href=\"https://www.tribalwars.asia\"><span id=\"portal-bar_market_n/a_flag_th\"\\tclass=\"pb-flag pb-flag-th\">tribalwars.asia</span></a></li><li><a href=\"https://www.tribalwars.works\"><span id=\"portal-bar_market_n/a_flag_zz\"\\tclass=\"pb-flag pb-flag-zz\">www.tribalwars.works</span></a></li><li><a href=\"https://www.tribalwars.us\"><span id=\"portal-bar_market_n/a_flag_us\"\\tclass=\"pb-flag pb-flag-us\">tribalwars.us</span></a></li></ul></div></div><div class=\"pb-moregames-sec\"><div class=\"pb-moregames-select\" id=\"portal-bar_more-games_n/a_n/a_n/a\"><div class=\"pb-moregames-content\"><span>Plus de jeux :</span></div><div class=\"pb-moregames-button\"></div></div><div class=\"pb-moregames-overview-lists\"><p>Jouer maintenant</p><ul class=\"pb-moregames-overview clear\"><li class=\"pb_game_thumb pb_game_thumb_featured pb_game_mobilecity\"><a href=\"https://eu-play.riseofcultures.com?ref=ds_portalbar_moregames\" target=\"_blank\"><img\\tsrc=\"https://portal-bar.innogamescdn.com/images/thumbs/mobilecity-558x106.jpg\"\\ttitle=\"Rise of Cultures\" width=\"558\" height=\"106\"/></a><a href=\"https://eu-play.riseofcultures.com?ref=ds_portalbar_moregames\" title=\"Rise of Cultures\" target=\"_blank\"><div class=\"pb-caption feature\" id=\"portal-bar_more-games_n/a_n/a_rise-of-cultures\"><div class=\"gamename\">Rise of Cultures</div><p>Rise of Cultures &ndash; B\\xc3\\xa2tis une ville, d\\xc3\\xa9bloque d\\'anciennes civilisations et fais preuve de strat\\xc3\\xa9gie !</p></div></a></li><li class=\"pb_game_thumb pb_game_village\"><a href=\"https://un.sunrisevillagegame.com/?ref=ds_portalbar_moregames\" target=\"_blank\"><img\\tsrc=\"https://portal-bar.innogamescdn.com/images/thumbs/village-180x106.jpg\"\\ttitle=\"Sunrise Village\" width=\"180\" height=\"106\"/></a><a href=\"https://un.sunrisevillagegame.com/?ref=ds_portalbar_moregames\" title=\"Sunrise Village\" target=\"_blank\"><div class=\"pb-caption\" id=\"portal-bar_more-games_n/a_n/a_sunrise-village\"><div class=\"gamename\">Sunrise Village</div><p>Explore un monde myst\\xc3\\xa9rieux, pars \\xc3\\xa0 l\\'aventure et occupe-toi de ton village !</p></div></a></li><li class=\"pb_game_thumb pb_game_foe\"><a href=\"https://fr.forgeofempires.com?ref=ds_portalbar_moregames\" target=\"_blank\"><img\\tsrc=\"https://portal-bar.innogamescdn.com/images/thumbs/foe-180x106.jpg\"\\ttitle=\"Forge of Empires\" width=\"180\" height=\"106\"/></a><a href=\"https://fr.forgeofempires.com?ref=ds_portalbar_moregames\" title=\"Forge of Empires\" target=\"_blank\"><div class=\"pb-caption\" id=\"portal-bar_more-games_n/a_n/a_forge-of-empires\"><div class=\"gamename\">Forge of Empires</div><p>Menez votre ville depuis l\\'\\xc3\\xa2ge de pierre \\xc3\\xa0 travers les si\\xc3\\xa8cles et forgez un vaste empire !</p></div></a></li><li class=\"pb_game_thumb pb_game_onyx\"><a href=\"https://fr.elvenar.com?ref=ds_portalbar_moregames\" target=\"_blank\"><img\\tsrc=\"https://portal-bar.innogamescdn.com/images/thumbs/onyx-180x106.jpg\"\\ttitle=\"Elvenar\" width=\"180\" height=\"106\"/></a><a href=\"https://fr.elvenar.com?ref=ds_portalbar_moregames\" title=\"Elvenar\" target=\"_blank\"><div class=\"pb-caption\" id=\"portal-bar_more-games_n/a_n/a_elvenar\"><div class=\"gamename\">Elvenar</div><p>Choisissez entre les elfes et les humains et b\\xc3\\xa2tissez une ville mystique au c\\xc5\\x93ur d\\'un monde fantastique\\xc2\\xa0!</p></div></a></li><li class=\"pb_game_thumb pb_game_warlords\"><a href=\"https://un.warlordsofaternum.com?ref=ds_portalbar_moregames\" target=\"_blank\"><img\\tsrc=\"https://portal-bar.innogamescdn.com/images/thumbs/warlords-180x106.jpg\"\\ttitle=\"Warlords of Aternum\" width=\"180\" height=\"106\"/></a><a href=\"https://un.warlordsofaternum.com?ref=ds_portalbar_moregames\" title=\"Warlords of Aternum\" target=\"_blank\"><div class=\"pb-caption\" id=\"portal-bar_more-games_n/a_n/a_warlords-of-aternum\"><div class=\"gamename\">Warlords of Aternum</div><p>Warlords of Aternum &ndash; Put your tactics to the test in an epic fantasy universe</p></div></a></li><li class=\"pb_game_thumb pb_game_grepo\"><a href=\"https://fr.grepolis.com?ref=ds_portalbar_moregames\" target=\"_blank\"><img\\tsrc=\"https://portal-bar.innogamescdn.com/images/thumbs/grepo-180x106.jpg\"\\ttitle=\"Grepolis\" width=\"180\" height=\"106\"/></a><a href=\"https://fr.grepolis.com?ref=ds_portalbar_moregames\" title=\"Grepolis\" target=\"_blank\"><div class=\"pb-caption\" id=\"portal-bar_more-games_n/a_n/a_grepolis\"><div class=\"gamename\">Grepolis</div><p>Construisez des villes magnifiques, cr\\xc3\\xa9ez une puissante alliance, choisissez votre dieu et partez \\xc3\\xa0 la conqu\\xc3\\xaate du monde !</p></div></a></li><li class=\"pb_game_thumb pb_game_tribalwars2\"><a href=\"https://fr.tribalwars2.com?ref=ds_portalbar_moregames\" target=\"_blank\"><img\\tsrc=\"https://portal-bar.innogamescdn.com/images/thumbs/tribalwars2-180x106.jpg\"\\ttitle=\"Tribal Wars 2\" width=\"180\" height=\"106\"/></a><a href=\"https://fr.tribalwars2.com?ref=ds_portalbar_moregames\" title=\"Tribal Wars 2\" target=\"_blank\"><div class=\"pb-caption\" id=\"portal-bar_more-games_n/a_n/a_tribal-wars-2\"><div class=\"gamename\">Tribal Wars 2</div><p>Tribal Wars 2 &ndash; build and fortify your medieval castle</p></div></a></li><li class=\"pb_game_thumb pb_game_west\"><a href=\"https://www.the-west.fr?ref=ds_portalbar_moregames\" target=\"_blank\"><img\\tsrc=\"https://portal-bar.innogamescdn.com/images/thumbs/west-180x106.jpg\"\\ttitle=\"The West\" width=\"180\" height=\"106\"/></a><a href=\"https://www.the-west.fr?ref=ds_portalbar_moregames\" title=\"The West\" target=\"_blank\"><div class=\"pb-caption\" id=\"portal-bar_more-games_n/a_n/a_the-west\"><div class=\"gamename\">The West</div><p>Explorez le Far West, vivez des aventures et des duels excitants. The West n\\'attend plus que vous !</p></div></a></li></ul></div></div><div class=\"pb-sec-news\"><div class=\"pb-news\"><div id=\"pb-ticker-wrapper\" class=\"pb-news-content\"><ul id=\"pb-ticker-news\"><li><a\\tclass=\"animation\"\\tid=\"portal-bar_news_n/a_n/a_elvenar\"\\thref=\"http://om.elvenar.com/ox/fr/?ref=ds_portalbar_text\" target=\"_blank\"><p>Elvenar \\xe2\\x80\\x93 Construis une ville magique</p></a></li><li><a\\tclass=\"animation\"\\tid=\"portal-bar_news_n/a_n/a_tribal-wars-2,-la-suite-d&rsquo;un-classique\"\\thref=\"http://om.tribalwars2.com/tw2/fr/?ref=ds_portalbar_text\" target=\"_blank\"><p>Tribal Wars 2, la suite d&rsquo;un classique</p></a></li><li><a\\tclass=\"animation\"\\tid=\"portal-bar_news_n/a_n/a_forge-of-empires-&ndash;-strat&eacute;gie-&agrave;-travers-les-&acirc;ges\"\\thref=\"http://om.forgeofempires.com/foe/fr/?ref=ds_portalbar_text\" target=\"_blank\"><p>Forge of Empires &ndash; Strat&eacute;gie &agrave; travers les &acirc;ges</p></a></li><li><a\\tclass=\"animation\"\\tid=\"portal-bar_news_n/a_n/a_grepolis-&ndash;-fondez-un-royaume-en-gr&egrave;ce-antique-!\"\\thref=\"http://om.grepolis.com/grepo/fr/?ref=ds_portalbar_text\" target=\"_blank\"><p>Grepolis &ndash; Fondez un royaume en Gr&egrave;ce antique !</p></a></li></ul></div></div></div></div></div></div><div class=\"pb-tab\"></div> <style type=\"text/css\"> <!-- .pb-outer div,.pb-outer span,.pb-outer applet,.pb-outer object,.pb-outer iframe,.pb-outer p,.pb-outer blockquote,.pb-outer pre,.pb-outer a,.pb-outer abbr,.pb-outer acronym,.pb-outer address,.pb-outer big,.pb-outer cite,.pb-outer code,.pb-outer del,.pb-outer dfn,.pb-outer em,.pb-outer img,.pb-outer ins,.pb-outer kbd,.pb-outer q,.pb-outer s,.pb-outer samp,.pb-outer small,.pb-outer strike,.pb-outer strong,.pb-outer sub,.pb-outer sup,.pb-outer tt,.pb-outer var,.pb-outer b,.pb-outer u,.pb-outer i,.pb-outer center,.pb-outer dl,.pb-outer dt,.pb-outer dd,.pb-outer ol,.pb-outer ul,.pb-outer li,.pb-outer fieldset,.pb-outer form,.pb-outer label,.pb-outer legend,.pb-outer table,.pb-outer caption,.pb-outer tbody,.pb-outer tfoot,.pb-outer thead,.pb-outer tr,.pb-outer th,.pb-outer td,.pb-outer article,.pb-outer aside,.pb-outer canvas,.pb-outer details,.pb-outer embed,.pb-outer figure,.pb-outer figcaption,.pb-outer footer,.pb-outer header,.pb-outer hgroup,.pb-outer menu,.pb-outer nav,.pb-outer output,.pb-outer ruby,.pb-outer section,.pb-outer summary,.pb-outer time,.pb-outer mark,.pb-outer audio,.pb-outer video{margin:0;padding:0;border:0;font-size:100%;font:inherit;vertical-align:baseline}.pb-outer ol,.pb-outer ul{list-style:none}.pb-outer blockquote,.pb-outer q{quotes:none}.pb-outer blockquote:before,.pb-outer blockquote:after,.pb-outer q:before,.pb-outer q:after{content:\\'\\';content:none}.pb-outer table{border-collapse:collapse;border-spacing:0}ul#pb-ticker-news li a.animation{color:white}ul#pb-ticker-news li a.animation:hover{text-decoration:underline}.fade-in{animation:fadeIn 2s;display:block}@keyframes fadeIn{from{opacity:0}to{opacity:1}}.fade-out{animation:fadeOut 1s;display:none}@keyframes fadeOut{from{opacity:1}to{opacity:0}}#pbar *{box-sizing:content-box}#pbar{position:static;margin-left:auto;margin-right:auto;text-align:center;top:0;width:100%;z-index:999;clear:both;left:0}.pb-outer{background:#cdb585 url(\\'//portal-bar.innogamescdn.com/images/staemme-v1/staemme-bg-header-top.1680620968.png\\') 0 0 repeat-x;color:#804000;height:25px;position:relative;text-align:center;top:0;left:0;z-index:3000;font:12px/1.4em Helvetica,Tahoma,Arial,Sans-serif !important;min-width:984px}.pb-outer p{font:1em/1.4em Helvetica,Tahoma,Arial,Sans-serif}.pb-outer .pb-inner a:link{color:#804000;text-decoration:none}.pb-outer .pb-inner a:visited{color:#ddd;text-decoration:none}.pb-outer .pb-inner a:hover{color:#fff;text-decoration:none}.pb-outer .pb-inner{margin:0 auto;height:25px;width:1050px;position:relative;padding:2px 0 0}.pb-outer .pb-inner .pb-cntnt .pb-home a{background:url(\\'//portal-bar.innogamescdn.com/images/staemme-v1/staemme-logo.1680620968.png\\') no-repeat 0 0;width:180px;height:20px;display:block;float:left;margin:3px 0 0 20px}.pb-outer .pb-inner .pb-home a span{display:none}.pb-outer .pb-inner .pb-cntnt{float:left;width:100%}.pb-outer .pb-inner .pb-cntnt .pb-moregames-sec .pb-moregames-overview-lists,.pb-outer .pb-inner .pb-cntnt .pb-mygames-sec .pb-mygames-and-moregames-overview-lists{color:#fff}.pb-outer .clear{display:table;width:100%}.pb-tab{background:url(\\'//portal-bar.innogamescdn.com/images/staemme-v1/staemme-bg-header-bottom.1680620968.png\\') 0 0 repeat-x transparent;height:4px;top:0;position:relative}.pb-outer .pb-inner .pb-lang-sec,.pb-outer .pb-inner .pb-cntnt .pb-moregames-sec,.pb-outer .pb-inner .pb-cntnt .pb-mygames-sec,.pb-outer .pb-inner .pb-cntnt .pb-sec-news,.pb-outer .pb-inner .pb-sec-error{position:relative;text-align:left;zoom:1}.pb-outer .pb-inner .pb-lang-sec .pb-lang-select{float:left;margin:1px 0 0 20px;background:url(\\'//portal-bar.innogamescdn.com/images/staemme-v1/staemme-sprite_01.newRuFlag.1680620968.png\\') no-repeat -319px -855px;width:51px;height:22px;position:relative;cursor:pointer}.pb-outer .pb-inner .pb-lang-sec .pb-lang-select .pb-lang-button{background:url(\\'//portal-bar.innogamescdn.com/images/staemme-v1/staemme-sprite_01.newRuFlag.1680620968.png\\') -320px -654px;width:15px;height:16px;position:relative;left:32px;top:-9px;cursor:pointer}.pb-outer .pb-inner .pb-lang-sec .pb-lang-select:hover .pb-lang-button{background-position:-320px -588px}.pb-outer .pb-inner .pb-lang-sec .pb-lang-select:active .pb-lang-button{background-position:-571px -588px}.pb-outer .pb-inner .pb-lang-content{width:18px;height:12px;position:relative;top:5px;left:6px;background:url(\\'//portal-bar.innogamescdn.com/images/staemme-v1/staemme-sprite_01.newRuFlag.1680620968.png\\') no-repeat 0 -657px}.pb-outer.pb-outer-ae .pb-inner .pb-lang-sec .pb-lang-select{direction:ltr}.pb-outer .pb-inner .pb-lang-sec .pb-lang-sec-options ul{height:auto;overflow-x:hidden;overflow-y:auto}.pb-outer .pb-inner .pb-lang-sec .pb-lang-sec-options{display:none;z-index:1;position:absolute;clear:both;left:220px;top:22px;width:auto;background:#d0b88b url(\\'//portal-bar.innogamescdn.com/images/staemme-v1/staemme-noise.1680620968.jpg\\') repeat 0 0;border-width:1px;border-style:solid;border-color:#D6C7A9 #9F875A #A99367;box-shadow:0 3px 10px 2px rgba(0,0,0,0.5);-moz-box-shadow:0 3px 10px 2px rgba(0,0,0,0.5);-webkit-box-shadow:0 3px 10px 2px rgba(0,0,0,0.5);-webkit-border-radius:3px;-moz-border-radius:3px;border-radius:3px}.pb-outer .pb-inner .pb-lang-sec .pb-lang-sec-options ul li{width:100%;height:22px;padding:2px 0;background:url(\\'//portal-bar.innogamescdn.com/images/staemme-v1/staemme-separator-lang.1680620968.gif\\') no-repeat center top}.pb-outer .pb-inner .pb-lang-sec .pb-lang-sec-options ul li:first-child{background:none;padding:2px 0}.pb-outer .pb-inner .pb-lang-sec .pb-lang-sec-options ul li:first-child:hover{-moz-box-shadow:inset 0 0 1px 0 rgba(0,0,0,0.2);-webkit-box-shadow:inset 0 0 1px 0 rgba(0,0,0,0.2);box-shadow:inset 0 0 1px 0 rgba(0,0,0,0.2);-o-box-shadow:inset 0 0 1px 0 rgba(0,0,0,0.2);-ms-box-shadow:inset 0 0 1px 0 rgba(0,0,0,0.2)}.pb-outer .pb-inner .pb-lang-sec .pb-lang-sec-options ul li:hover{background-color:#c8b082;-moz-box-shadow:0 -1px 3px 0 rgba(0,0,0,0.1) inset;-webkit-box-shadow:0 -1px 3px 0 rgba(0,0,0,0.1) inset;box-shadow:0 -1px 3px 0 rgba(0,0,0,0.1) inset;-o-box-shadow:0 -1px 3px 0 rgba(0,0,0,0.1) inset;-ms-box-shadow:0 -1px 3px 0 rgba(0,0,0,0.1) inset}.pb-outer .pb-inner .pb-lang-sec .pb-lang-sec-options ul li a{color:#804000;padding:4px 6px 0 4px;display:block}.pb-outer .pb-inner .pb-lang-sec .pb-lang-sec-options ul li a span{padding-left:25px}.pb-outer .pb-inner .pb-moregames-sec .pb-moregames-select{float:left;margin:1px 0 0 20px;background:url(\\'//portal-bar.innogamescdn.com/images/staemme-v1/staemme-bg-select-left.1680620968.png\\') no-repeat 0 0;width:auto;height:22px;position:relative;cursor:pointer}.pb-outer .pb-inner .pb-moregames-sec .pb-moregames-select .pb-moregames-button{background:url(\\'//portal-bar.innogamescdn.com/images/staemme-v1/staemme-sprite_01.newRuFlag.1680620968.png\\') -320px -654px;width:15px;height:16px;position:absolute;right:3px;top:3px}.pb-outer .pb-inner .pb-moregames-sec .pb-moregames-select:hover .pb-moregames-button{background-position:-320px -588px}.pb-outer .pb-inner .pb-moregames-sec .pb-moregames-select:active .pb-moregames-button{background-position:-571px -588px}.pb-outer .pb-inner .pb-moregames-sec .pb-moregames-select .pb-moregames-content{width:auto;height:22px;position:relative;top:0;right:0;margin-left:11px;background:url(\\'//portal-bar.innogamescdn.com/images/staemme-v1/staemme-bg-select-right.1680620968.png\\') no-repeat 100% 0}.pb-outer .pb-inner .pb-moregames-sec .pb-moregames-select .pb-moregames-content span{position:relative;display:inline-block;top:4px;left:-4px;font-size:.95em;padding-right:20px;text-shadow:0 -1px 1px #fff}.pb-outer .pb-inner .pb-moregames-sec .pb-moregames-overview-lists{display:none;clear:both;position:absolute;left:290px;top:22px;width:580px;border-width:1px;border-style:solid;border-color:#A48F64 #9F875A #9F875A;background:#d0b88b url(\\'//portal-bar.innogamescdn.com/images/staemme-v1/staemme-noise.1680620968.jpg\\') repeat 0 0;box-shadow:0 3px 10px 2px rgba(0,0,0,0.5),inset 0 3px 10px rgba(0,0,0,0.5);-moz-box-shadow:0 3px 10px 2px rgba(0,0,0,0.5),inset 0 3px 10px rgba(0,0,0,0.5);-webkit-box-shadow:0 3px 10px 2px rgba(0,0,0,0.5),inset 0 3px 10px rgba(0,0,0,0.5);-webkit-border-radius:3px;-moz-border-radius:3px;border-radius:3px}.pb-outer .pb-inner .pb-moregames-sec .pb-moregames-overview-lists>p{color:#804000;font:bold 1.05em/1em Helvetica,Tahoma,Arial,Sans-serif;background:url(\\'//portal-bar.innogamescdn.com/images/staemme-v1/staemme-bg-sec.1680620968.png\\') repeat-x 0 0;height:21px;border-right:1px solid #a99367;border-left:1px solid #a99367;padding:7px 10px 0;text-shadow:1px 0 1px #EEDEC2}.pb-outer .pb-inner .pb-moregames-sec .pb-moregames-overview-lists .pb-moregames-overview{padding:0 0 0 10px;width:580px}.pb-outer.pb-outer-ae .pb-inner .pb-moregames-sec .pb-moregames-overview-lists .pb-moregames-overview{padding:0 0 0 0;margin:0 0 0 -10px}.pb-outer .pb-inner .pb-moregames-sec .pb-moregames-overview-lists .pb-moregames-overview li{float:left;margin:10px 10px 10px 0;position:relative;overflow:hidden;height:106px}.pb-outer .pb-inner .pb-moregames-sec .pb-moregames-overview-lists .pb-moregames-overview li>a{color:#fff}.pb-outer.pb-outer-ae .pb-inner .pb-moregames-sec .pb-moregames-overview-lists .pb-moregames-overview li{margin:10px 0 10px 10px}.pb-outer .pb-inner .pb-moregames-sec .pb-moregames-overview-lists ul li .pb-caption{position:absolute;background:#000;opacity:.8;filter:progid:DXImageTransform.Microsoft.Alpha(Opacity=80);-MS-filter:\"progid:DXImageTransform.Microsoft.Alpha(Opacity=80)\";width:178px;height:106px;left:0;top:76px;border-right:1px solid #714A23;border-left:1px solid #714A23;border-top:1px solid #3c3c3c;cursor:pointer}.pb-outer .pb-inner .pb-moregames-sec .pb-moregames-overview-lists ul li .feature{width:556px}.pb-outer .pb-inner .pb-moregames-sec .pb-moregames-overview-lists ul li .pb-caption .gamename{font:bold 1em/1.4em Helvetica,Tahoma,Arial,Sans-serif;color:#fff;margin:10px 0 10px 10px;text-shadow:0 1px 1px #000}.pb-outer .pb-inner .pb-moregames-sec .pb-moregames-overview-lists ul li .pb-caption p{margin-left:10px;font-size:10px;text-shadow:0 0 1px #000;font-weight:bold}.pb-outer .pb-inner .pb-moregames-sec .pb-moregames-overview-lists ul .pb_game_thumb_featured .pb-ribbon-beta{background:url(\\'//portal-bar.innogamescdn.com/images/moregames-teaser-featured-beta-ribbon.1680620968.png\\') no-repeat 0 0;position:absolute;top:-2px;right:-1px;width:76px;height:54px;z-index:1}.pb-outer .pb-inner .pb-moregames-sec .pb-moregames-overview-lists ul .pb_game_thumb_featured .pb-ribbon-soon{background:url(\\'//portal-bar.innogamescdn.com/images/moregames-teaser-featured-soon-ribbon.1680620968.png\\') no-repeat 0 0;position:absolute;top:-2px;right:-1px;width:76px;height:54px;z-index:1}.pb-outer .pb-inner .pb-moregames-sec .pb-moregames-overview-lists ul .pb_game_thumb_featured .pb-ribbon-new{background:url(\\'//portal-bar.innogamescdn.com/images/moregames-teaser-featured-new-ribbon.1680620968.png\\') no-repeat 0 0;position:absolute;top:-2px;right:-1px;width:76px;height:54px;z-index:1}.pb-outer .pb-inner .pb-moregames-sec .pb-moregames-overview-lists ul li .pb-ribbon-beta{background:url(\\'//portal-bar.innogamescdn.com/images/moregames-teaser-beta-ribbon.1680620968.png\\') no-repeat 0 0;position:absolute;top:-2px;right:-1px;width:38px;height:37px;z-index:1}.pb-outer .pb-inner .pb-moregames-sec .pb-moregames-overview-lists ul li div.pb-ribbon-soon{background:url(\\'//portal-bar.innogamescdn.com/images/moregames-teaser-soon-ribbon.1680620968.png\\') no-repeat 0 0;position:absolute;top:-2px;right:-1px;width:38px;height:37px;z-index:1}.pb-outer .pb-inner .pb-moregames-sec .pb-moregames-overview-lists ul li div.pb-ribbon-new{background:url(\\'//portal-bar.innogamescdn.com/images/moregames-teaser-new-ribbon.1680620968.png\\') no-repeat 0 0;position:absolute;top:-2px;right:-1px;width:38px;height:37px;z-index:1}.pb-outer .pb-inner .pb-sec-news .pb-news{display:none;float:left;margin:1px 0 0 20px;background:url(\\'//portal-bar.innogamescdn.com/images/staemme-v1/staemme-sprite_01.newRuFlag.1680620968.png\\') no-repeat 0 -429px;width:302px;height:22px;position:relative}.pb-outer .pb-inner .pb-sec-news .pb-news .pb-news-content{width:288px;height:16px;position:relative;top:3px;left:6px;overflow:hidden}.pb-outer .pb-inner .pb-sec-news .pb-news .pb-news-content ul li a{color:#333;margin-right:5px}.pb-outer .pb-inner .pb-sec-error .pb-sec-error-button{float:left;margin:0 0 0 11px;background:url(\\'//portal-bar.innogamescdn.com/images/error-message-lft.1680620968.png\\') no-repeat 0 0;height:19px;position:relative}.pb-outer .pb-inner .pb-sec-error .pb-sec-error-button div{float:left;background:url(\\'//portal-bar.innogamescdn.com/images/error-message-mid.1680620968.png\\') repeat-x 0 0;margin:0 0 0 10px;font-size:.9em;padding-top:3px}.pb-outer .pb-inner .pb-sec-error .pb-sec-error-button div span.pb-sec-error-bullet{display:block;padding:0 5px 0 0;background:url(\\'//portal-bar.innogamescdn.com/images/staemme-v1/staemme-sprite_01.newRuFlag.1680620968.png\\') no-repeat -320px -988px;width:13px;height:16px;position:relative;top:-3px}.pb-outer .pb-inner .pb-sec-error .pb-sec-error-button span{float:left;display:block;height:19px;background:url(\\'//portal-bar.innogamescdn.com/images/error-message-rt.1680620968.png\\') no-repeat top right;padding:0 10px 0 0}.pb-outer .pb-inner .pb-flag{background:url(\\'//portal-bar.innogamescdn.com/images/staemme-v1/staemme-sprite_01.newRuFlag.1680620968.png\\') no-repeat top left;height:12px}.pb-outer .pb-inner .pb-flag-de{background-position:0 -1105px}.pb-outer .pb-inner .pb-flag-en{background-position:0 -721px}.pb-outer .pb-inner .pb-flag-fr{background-position:0 -1361px}.pb-outer .pb-inner .pb-flag-es{background-position:0 -1393px}.pb-outer .pb-inner .pb-flag-it{background-position:0 -1297px}.pb-outer .pb-inner .pb-flag-gr{background-position:0 -753px}.pb-outer .pb-inner .pb-flag-nl{background-position:0 -689px}.pb-outer .pb-inner .pb-flag-ro{background-position:0 -977px}.pb-outer .pb-inner .pb-flag-se{background-position:0 -1041px}.pb-outer .pb-inner .pb-flag-cz{background-position:0 -785px}.pb-outer .pb-inner .pb-flag-pl{background-position:0 -1201px}.pb-outer .pb-inner .pb-flag-hu{background-position:0 -1137px}.pb-outer .pb-inner .pb-flag-sk{background-position:0 -817px}.pb-outer .pb-inner .pb-flag-dk{background-position:0 -1233px}.pb-outer .pb-inner .pb-flag-no{background-position:0 -1169px}.pb-outer .pb-inner .pb-flag-pt{background-position:0 -849px}.pb-outer .pb-inner .pb-flag-jp{background-position:0 -1713px}.pb-outer .pb-inner .pb-flag-ru{background-position:0 -913px}.pb-outer .pb-inner .pb-flag-br{background-position:0 -1009px}.pb-outer .pb-inner .pb-flag-tr{background-position:0 -1329px}.pb-outer .pb-inner .pb-flag-ch{background-position:0 -1073px}.pb-outer .pb-inner .pb-flag-kr{background-position:0 -881px}.pb-outer .pb-inner .pb-flag-ae{background-position:0 -1457px}.pb-outer .pb-inner .pb-flag-bg{background-position:0 -657px}.pb-outer .pb-inner .pb-flag-th{background-position:0 -1745px}.pb-outer .pb-inner .pb-flag-ba{background-position:0 -1265px}.pb-outer .pb-inner .pb-flag-fi{background-position:0 -1425px}.pb-outer .pb-inner .pb-flag-hr{background-position:0 -1649px}.pb-outer .pb-inner .pb-flag-il{background-position:0 -1585px}.pb-outer .pb-inner .pb-flag-lt{background-position:0 -1553px}.pb-outer .pb-inner .pb-flag-si{background-position:0 -1521px}.pb-outer .pb-inner .pb-flag-us{background-position:0 -1777px}.pb-outer .pb-inner .pb-flag-id{background-position:0 -1617px}.pb-outer .pb-inner .pb-flag-uk{background-position:0 -1489px}.pb-outer .pb-inner .pb-flag-ts{background-position:0 -1681px}.pb-outer .pb-inner .pb-flag-zz,.pb-outer .pb-inner .pb-flag-xx{background-position:0 -1809px}.pb-outer .pb-inner .pb-flag-ar{background-position:0 -1874px}.pb-outer .pb-inner .pb-flag-mx{background-position:0 -1841px}#pb-ticker-wrapper.has-js{display:block}#pb-ticker{width:308px;height:20px;display:block;position:relative;overflow:hidden;left:-20px}#pb-ticker-title{padding-top:9px;color:#990000;font-weight:bold;text-transform:uppercase;display:none}#pb-ticker-content{margin:0;position:absolute;color:#333;overflow:hidden;white-space:nowrap}#pb-ticker-content a{text-decoration:none;color:#fff;font-size:.95em;text-shadow:0 1px 1px #000}#pb-ticker-content a:hover{text-decoration:underline;color:#f1f1f1}#pb-ticker-content a span{text-shadow:none}#pb-ticker-content a em{font-style:italic}#pb-ticker-content a strong{font-weight:bold}#pb-ticker-swipe{padding-top:9px;position:absolute;top:0;display:none !important;width:800px;height:23px}#pb-ticker-swipe span{margin-left:1px;border-bottom:1px solid #1F527B;height:12px;width:7px;display:block}.js-hidden{display:none}#no-js-news{padding:10px 0 0 45px;color:#F8F0DB}.left #pb-ticker-swipe{left:80px}.left #pb-ticker-controls,.left #pb-ticker-content,.left #pb-ticker-title,.left #pb-ticker{float:left}.left #pb-ticker-controls{padding-left:6px}.right #pb-ticker-swipe{right:80px}.right #pb-ticker-controls,.right #pb-ticker-content,.right #pb-ticker-title,.right #pb-ticker{float:right}.right #pb-ticker-controls{padding-right:6px}.pb-outer .pb-inner .pb-moregames-sec .pb-moregames-overview-lists ul li .pb-caption{transition:all .3s ease-out}.pb-outer .pb-inner .pb-moregames-sec .pb-moregames-overview-lists ul li:hover .pb-caption{top:0px}.pb-outer.feature-full-width{min-width:auto}.pb-outer.feature-full-width .pb-inner{width:auto}.pb-outer .pb-inner .pb-cntnt.invisible{visibility:hidden}.pb-outer.feature-full-width .pb-inner .pb-cntnt.visible{visibility:visible}.pb-outer.feature-full-width .pb-inner .pb-cntnt{display:flex;display:-ms-flexbox;flex-direction:row;-ms-flex-direction:row}.pb-outer.feature-full-width .pb-inner .pb-lang-sec{order:1;-ms-flex-order:1;margin-left:auto;margin-right:20px}.pb-outer.feature-full-width .pb-inner .pb-lang-sec .pb-lang-sec-options{left:-100px}.pb-outer.feature-full-width .pb-inner .pb-moregames-sec .pb-moregames-overview-lists{left:100px}.pb-moregames-content,.pb-moregames-button{pointer-events:none}.gamename,.pb-caption>p{pointer-events:none}.pb-news,.fade-in,.fade-out{pointer-events:none}.pb-news .fade-in a,.pb-news .fade-out a{pointer-events:all}.pb-lang-content{pointer-events:none} --> </style> </div><div class=\"bg-top\"></div><div class=\"center\"> <div class=\"navigation box-border red\"> <div class=\"middle-bottom\"></div> <div class=\"middle\"></div> <div class=\"middle-left\"></div> <div class=\"middle-right\"></div> <div class=\"bottom-left\"></div> <div class=\"bottom-right\"></div> <div class=\"inner\"> <div class=\"wrap seperated\"> <a id=\"headerlink-home\" class=\"is-active \" href=\"https://www.guerretribale.fr/\" >Accueil</a> <span class=\"separator\">-</span> <a id=\"headerlink-rules\" class=\" \" href=\"https://www.guerretribale.fr/page/rules\" >R\\xc3\\xa8gles</a> <span class=\"separator\">-</span> <a id=\"headerlink-stats\" class=\" \" href=\"https://fr79.guerretribale.fr/page/stats\" >Infos Monde</a> <span class=\"separator\">-</span> <a id=\"headerlink-speed\" class=\" \" href=\"https://www.guerretribale.fr/page/speed/rounds\" >Rounds Speed</a> <span class=\"separator\">-</span> <a id=\"headerlink-support\" class=\" external\" href=\"/page/support\" target=\"_blank\">Support</a> <span class=\"separator\">-</span> <a id=\"headerlink-help\" class=\" external\" href=\"https://help.guerretribale.fr\" target=\"_blank\">Aide</a> <span class=\"separator\">-</span> <a id=\"headerlink-forum\" class=\" external\" href=\"https://forum.guerretribale.fr\" target=\"_blank\">Forum</a> <span class=\"separator\">-</span> </div> </div> </div> <div class=\"logo\"> <img class=\"bg\" src=\"https://dsfr.innogamescdn.com/asset/c1748d3c/graphic/start2/logo/bg.jpg\"/> <a href=\"/\" class=\"main-logo \"><img src=\"https://dsfr.innogamescdn.com/asset/c1748d3c/graphic/start2/logo/logo-fr_FR.png\"></a> <a href=\"/\" class=\"branding-logo\"><img src=\"https://dsfr.innogamescdn.com/asset/c1748d3c/graphic/start2/logo/sublogo-en.png\"></a> </div> <div class=\"social-media-icons-container content box-border gold\"> <div class=\"top-left\"></div> <div class=\"top-right\"></div> <div class=\"middle-top\"></div> <div class=\"middle-bottom\"></div> <div class=\"middle\"></div> <div class=\"middle-left\"></div> <div class=\"middle-right\"></div> <div class=\"bottom-left\"></div> <div class=\"bottom-right\"></div> <div class=\"inner\"> <p>Suivez nous sur</p> <ul class=\"social-media-icons\"> <li> <a href=\"https://www.facebook.com/GuerreTribale\" target=\"_blank\"><img src=\"https://dsfr.innogamescdn.com/asset/c1748d3c/graphic/social/facebook.png\" /></a> </li> <li> <a href=\"https://twitter.com/Tribalwarsnet\" target=\"_blank\"><img src=\"https://dsfr.innogamescdn.com/asset/c1748d3c/graphic/social/twitter.png\" /></a> </li> <li> <a href=\"https://www.youtube.com/channel/UC3MvTldTNrJ8DTmkB1bhU9g\" target=\"_blank\"><img src=\"https://dsfr.innogamescdn.com/asset/c1748d3c/graphic/social/youtube_social_icon_red.png\" /></a> </li> </ul> </div></div><div class=\"content box-border red\">    \\n    <div class=\"top-left\"></div>\\n    <div class=\"top-right\"></div>\\n    <div class=\"middle-top\"></div>\\n    <div class=\"middle-bottom\"></div>\\n    <div class=\"middle\"></div>\\n    <div class=\"middle-left\"></div>\\n    <div class=\"middle-right\"></div>\\n    <div class=\"bottom-left\"></div>\\n    <div class=\"bottom-right\"></div> <div class=\"inner\"> <div class=\"paladin\"></div> <div class=\"left register\"> <div> <hr> <a class=\"small-screen-only pull-right jump-to-login\" href=\"#login\">Connexion</a> <h2>Guerre Tribale</h2> <div>Guerre Tribale est un jeu par navigateur, qui se d\\xc3\\xa9roule au Moyen-Age. Chaque joueur contr\\xc3\\xb4le un petit village et s\\'efforce de le mener \\xc3\\xa0 la puissance et \\xc3\\xa0 la gloire.</div> <div class=\"registration-call-to-action\"> <div class=\"button big\"><a href=\"/page/new\">Inscris-toi gratuitement !</a></div> <h3>Captures d\\'\\xc3\\xa9cran du jeu par navigateur :</h3> <ul class=\"thumbs\"> <li> <a href=\"#\" class=\"screenshot-opener\" data-full=\"https://dsfr.innogamescdn.com/asset/c1748d3c/graphic/start2/screenshots/tribalwars_map.jpg\"> <img src=\"https://dsfr.innogamescdn.com/asset/c1748d3c/graphic/start2/screenshots/tribalwars_map_thumb.png\" alt=\"Guerre Tribale - Carte du Monde\" title=\"Guerre Tribale - Carte du Monde\"/> </a> </li> <li> <a href=\"#\" class=\"screenshot-opener\" data-full=\"https://dsfr.innogamescdn.com/asset/c1748d3c/graphic/start2/screenshots/tribalwars_village.jpg\"> <img src=\"https://dsfr.innogamescdn.com/asset/c1748d3c/graphic/start2/screenshots/tribalwars_village_thumb.png\" alt=\"Guerre Tribale - Aper\\xc3\\xa7u du village\" title=\"Guerre Tribale - Aper\\xc3\\xa7u du village\"/> </a> </li> <li> <a href=\"#\" class=\"screenshot-opener\" data-full=\"https://dsfr.innogamescdn.com/asset/c1748d3c/graphic/start2/screenshots/tribalwars_paladin.jpg\"> <img src=\"https://dsfr.innogamescdn.com/asset/c1748d3c/graphic/start2/screenshots/tribalwars_paladin_thumb.png\" alt=\"Guerre Tribale - Entraine ton paladin\" title=\"Guerre Tribale - Entraine ton paladin\"/> </a> </li> </ul> </div> <div class=\"stores\"> <div class=\"apps\"> <a href=\"https://apps.apple.com/app/tribal-wars/id435365767\" class=\"playstore\" target=\"_blank\"> <img src=\"https://dsfr.innogamescdn.com/asset/c1748d3c/graphic/m/googleplay/fr_FR.png\" alt=\"\" /> </a> <a href=\"https://www.guerretribale.fr/appredir.php?ref=home\" class=\"appstore\" target=\"_blank\"> <img src=\"https://dsfr.innogamescdn.com/asset/c1748d3c/graphic/m/appstore/fr_FR.png\" alt=\"\" /> </a></div> </div> </div> </div> <div class=\"right login\"> <div class=\"divider\"></div> <div class=\"wrap\"> <hr> <h2 id=\"login\">Connexion</h2> <form id=\"login_form\" action=\"#\" method=\"post\"> <input type=\"submit\" class=\"submit\" id=\"login_submit_button\"> <label for=\"user\" class=\"login-input\"> <span>Nom d\\'utilisateur :</span> <input id=\"user\" name=\"username\" type=\"text\" value=\"\" autofocus> </label> <label for=\"password\" class=\"login-input\"> <span>Mot de passe :</span> <input name=\"clear\" type=\"hidden\" value=\"true\"> <input id=\"password\" name=\"password\" type=\"password\"> </label> <label for=\"remember-me\" class=\"remember_me\"> <span class=\"remember-me\">Se souvenir de moi</span> <input id=\"remember-me\" type=\"checkbox\" name=\"remember-me\" checked=\"checked\"> </label> <div class=\"login-buttons\"> <div class=\"button small\"><a class=\"btn-login\" href=\"#\">Connexion</a></div> <a class=\"login-facebook\" href=\"https://ipp-facebook.innogames.de/?game=staemme&amp;market=fr&amp;ref=start&amp;\" title=\"Se connecter avec Facebook\"></a> <a class=\"login-apple\" href=\"https://ipp-apple.innogames.de/?game=staemme&amp;market=fr&amp;ref=start&amp;\" title=\"Se connecter avec Apple\"></a> </div> </form> <p> <a class=\"login-footer-link\" href=\"/page/recovery\">R\\xc3\\xa9cup\\xc3\\xa9ration de mot de passe</a> </p> </div> </div> </div></div><!-- news --><div class=\"news box-border gold\"> <div class=\"top-left\"></div> <div class=\"top-right\"></div> <div class=\"middle-top\"></div> <div class=\"middle-bottom\"></div> <div class=\"middle-left\"></div> <div class=\"middle-right\"></div> <div class=\"bottom-left\"></div> <div class=\"bottom-right\"></div> <div class=\"inner seperated\"> <div class=\"entry\"> <div class=\"icon icon-world\">CXIII</div> <div class=\"wrap\"> <div class=\"date\">juin 15,2021 20:47</div> <div class=\"message\">Param\\xc3\\xa8tre</div> <div class=\"link\"><a href=\"https://www.guerretribale.fr/page/join/frc1\" target=\"_blank\">\\xc2\\xbb en savoir plus</a></div> </div> </div> <div class=\"separator\"></div> <div class=\"entry\"> <div class=\"icon \"></div> <div class=\"wrap\"> <div class=\"date\">mars 14,2021 16:23</div> <div class=\"message\">Rejoignez nous sur notre discord !</div> <div class=\"link\"><a href=\"https://discord.gg/guYrbUuBN6\" target=\"_blank\">\\xc2\\xbb en savoir plus</a></div> </div> </div> <div class=\"separator\"></div> </div></div> <!-- footer --> <div class=\"footer\"> <hr> <div class=\"container\"> <h3>Jeu</h3> <ul> <li><a class=\"link-alt\" href=\"https://www.guerretribale.fr/page/rules\" >R\\xc3\\xa8gles</a></li> <li><a class=\"link-alt\" href=\"https://fr79.guerretribale.fr/page/hall-of-fame\" >Hall de la Gloire</a></li> <li><a class=\"link-alt\" href=\"https://fr79.guerretribale.fr/page/settings\" >Param\\xc3\\xa8tres Mondes</a></li> <li><a class=\"link-alt\" href=\"https://fr79.guerretribale.fr/page/stats\" >Statistiques</a></li> <li><a class=\"link-alt\" href=\"https://www.guerretribale.fr/page/speed/rounds\" >Rounds Speed</a></li> <li><a class=\"link-alt\" href=\"https://www.guerretribale.fr/page/wallpapers\" >Fonds d\\'\\xc3\\xa9cran</a></li> </ul> </div> <div class=\"container\"> <h3>Communaut\\xc3\\xa9</h3> <ul> <li><a class=\"link-alt\" href=\"https://forum.guerretribale.fr\" target=\"_blank\">Forum</a></li> <li><a class=\"link-alt\" href=\"https://www.youtube.com/channel/UC3MvTldTNrJ8DTmkB1bhU9g\" target=\"_blank\">YouTube</a></li> <li><a class=\"link-alt\" href=\"https://www.facebook.com/GuerreTribale\" target=\"_blank\">Facebook</a></li> <li><a class=\"link-alt\" href=\"https://fr.twstats.com\" target=\"_blank\">Tw-Stats</a></li> </ul> </div> <div class=\"container\"> <h3>Aide &amp; Support</h3> <ul> <li><a class=\"link-alt\" href=\"https://help.guerretribale.fr\" target=\"_blank\">Aide</a></li> <li><a class=\"link-alt\" href=\"/page/support\" target=\"_blank\">Support</a></li> <li><a class=\"link-alt\" href=\"https://forum.guerretribale.fr/index.php?forums/aide-questions.7/\" target=\"_blank\">Questions forum</a></li> </ul> </div> <div class=\"container\"> <h3>\\xc3\\x89quipe</h3> <ul> <li><a class=\"link-alt\" href=\"https://www.innogames.com/fr\" target=\"_blank\">InnoGames</a></li> <li><a class=\"link-alt\" href=\"https://www.innogames.com/career/\" target=\"_blank\">Carri\\xc3\\xa8re</a></li> <li><a class=\"link-alt\" href=\"https://www.guerretribale.fr/page/team\" >\\xc3\\x89quipe de support</a></li> <li><a class=\"link-alt\" href=\"https://www.guerretribale.fr/page/credits\" >\\xc3\\x89quipe de d\\xc3\\xa9veloppement</a></li> <li><a class=\"link-alt\" href=\"https://www.guerretribale.fr/page/timeline\" >Histoire</a></li> </ul> </div> </div> <!-- closure --> <div class=\"closure\"> <hr> <div class=\"legal\"> \\xc2\\xa9 2003 - 2023 <a target=\"_blank\" href=\"https://www.innogames.com/fr\">InnoGames GmbH</a> \\xc2\\xb7 <a href=\"https://legal.innogames.com/staemme/fr_FR/imprint\" target=\"_blank\">Mentions l\\xc3\\xa9gales</a> \\xc2\\xb7 <a href=\"https://legal.innogames.com/staemme/fr_FR/privacy\" target=\"_blank\">Protection des donn\\xc3\\xa9es</a> \\xc2\\xb7 <a href=\"https://legal.innogames.com/staemme/fr_FR/agb\" target=\"_blank\">CGV</a> <p> Ce site est prot\\xc3\\xa9g\\xc3\\xa9 par hCaptcha et sa <a href=\"https://hcaptcha.com/privacy\" target=\"_blank\">politique de confidentialit\\xc3\\xa9</a> et ses <a href=\"https://hcaptcha.com/terms\" target=\"_blank\">conditions d\\'</a> utilisation s\\'appliquent. </p> </div> </div> <div id=\"captcha\" class=\"h-captcha\" data-sitekey=\"a28a7ad1-e1e4-4b77-beea-d4c3ae247605\" data-size=\"invisible\"></div></div><script src=\"https://dsfr.innogamescdn.com/js/lang.fr_FR.js?69dc8ea21062588189039644ade128d6\"></script><script src=\"https://dsfr.innogamescdn.com/merged/start.js?3545f896e564711dc49ecb7b86f1f7de\"></script><script> try{var Portal={Bar:function(){var r=this,l=null,e=document.querySelector(\"#pbar\"),s=e.querySelectorAll(\"ul.pb-moregames-overview li a\"),t=e.querySelectorAll(\"ul#pb-ticker-news li a\"),m=!0,n=!0;this.EVNT_PB_SHOW=\"pbar.show\";this.EVNT_PB_HIDE=\"pbar.hide\";var k={PortalBar_FeatureFlag_UI_FullWidth:{value:!1,className:\"feature-full-width\"},PortalBar_FeatureFlag_Ref_Suffix:{value:!1,className:\"\"}},v=function(){var b=e.querySelector(\".pb-outer\"),c=e.querySelector(\".pb-cntnt\"),a=k.PortalBar_FeatureFlag_UI_FullWidth,\\nd=k.PortalBar_FeatureFlag_Ref_Suffix;Object.keys(k).forEach(function(a){k[a].value=localStorage.getItem(a)});\"yes\"===a.value&&b&&b.classList.add(a.className);c&&(c.classList.remove(\"invisible\"),c.classList.add(\"visible\"));if(\"string\"===typeof d.value&&\"\"!==d.value){for(b=0;b<s.length;b++)q(s[b],d.value);for(b=0;b<t.length;b++)q(t[b],d.value)}},C=function(){function b(a){a&&(a.style.display=\"none\")}function c(a){a&&(a.style.display=\"block\")}function a(a){a&&(\"none\"===a.style.display?c(a):b(a))}var d=\\ne.querySelector(\"#pb-tab-slide-open\"),p=e.querySelector(\"#pb-tab-slide-close\"),k=e.querySelector(\".pb-tab a\"),f=e.querySelector(\".pb-cntnt .pb-moregames-sec .pb-moregames-overview-lists\"),q=e.querySelector(\".pb-cntnt .pb-moregames-sec .pb-moregames-select\"),g=e.querySelector(\".pb-cntnt .pb-lang-sec .pb-lang-sec-options\"),x=e.querySelector(\".pb-cntnt .pb-lang-sec .pb-lang-select\"),w=e.querySelector(\".pb-home a\"),h=e.querySelectorAll(\".pb-lang-sec-options ul li a\"),v=e.querySelector(\".pb-sec-news .pb-news .pb-news-content ul#pb-ticker-news\");\\nb(d);c(p);d&&d.addEventListener(\"click\",function(){a(e.querySelector(\".pb-outer\"));y(\"pBarVisibility\",\"\",-1);r.trigger(r.EVNT_PB_SHOW);m=!0});p&&p.addEventListener(\"click\",function(){b(e.querySelector(\".pb-outer\"));y(\"pBarVisibility\",\"hide\",14);r.trigger(r.EVNT_PB_HIDE);m=!1});k&&k.addEventListener(\"click\",function(){a(k);return!1});var A=z(\"pBarVisibility\");A&&\"hide\"==A?(b(e.querySelector(\".pb-outer\")),c(d),b(p),m=!1):(c(e.querySelector(\".pb-outer\")),b(d),c(p),m=!0);c(e.querySelector(\".pb-outer\"));\\nm=!0;n?b(e.querySelector(\".pb-cntnt .pb-moregames-sec\")):(a(f),f&&f.addEventListener(\"mouseenter\",function(){c(this)}),f&&f.addEventListener(\"mouseleave\",function(){b(this)}));a(g);g&&g.addEventListener(\"mouseenter\",function(){c(this)});g&&g.addEventListener(\"mouseleave\",function(){b(this)});b(f);b(g);x&&x.addEventListener(\"click\",function(){a(g);g&&g.addEventListener(\"mouseenter\",function(){c(this)});g&&g.addEventListener(\"mouseleave\",function(){b(this)});b(f)});q&&q.addEventListener(\"click\",function(){a(f);\\nf&&f.addEventListener(\"mouseenter\",function(){c(this)});f&&f.addEventListener(\"mouseleave\",function(){b(this)});b(g)});n&&(w.removeAttribute(\"href\"),w.removeAttribute(\"target\"));if(null!=l&&!n){u(w,l);for(d=0;d<h.length;d++)u(h[d],l);for(h=0;h<s.length;h++)u(s[h],l);for(h=0;h<t.length;h++)u(t[h],l)}v&&!n&&(c(e.querySelector(\".pb-sec-news .pb-news\")),B())},u=function(b,c){var a=b.getAttribute(\"href\");a.constructor===Array&&(a=a[0]);a=-1!=a.indexOf(\"ref=\")?a.replace(/ref=[\\\\w_]+/,\"ref=\"+c):a+\"?ref=\"+\\nc;b.setAttribute(\"href\",a)},q=function(b,c){var a=b.getAttribute(\"href\");a.constructor===Array&&(a=a[0]);if(-1!=a.indexOf(\"ref=\"))var d=a.match(/ref=[\\\\w_]+/)[0].substr(4)+\"_\"+c,a=a.replace(/ref=[\\\\w_]+/,\"ref=\"+d);b.setAttribute(\"href\",a)},y=function(b,c,a){var d=\"\";a&&(d=new Date,d.setTime(d.getTime()+864E5*a),d=\"; expires=\"+d.toGMTString());document.cookie=b+\"=\"+c+d+\"; path=/\"},z=function(b){b+=\"=\";for(var c=document.cookie.split(\";\"),a=0;a<c.length;a++){for(var d=c[a];\" \"==d.charAt(0);)d=d.substring(1,\\nd.length);if(0==d.indexOf(b))return d.substring(b.length,d.length)}return null},B=function(){var b=document.querySelectorAll(\"#pb-ticker-news li\"),c=Array.prototype.slice.call(b),a=0,d=c.length;c[a].classList.add(\"fade-in\");setInterval(function(){a<d-1?(c[a].classList.add(\"fade-out\"),c[a].classList.remove(\"fade-in\"),a++):(c[a].classList.add(\"fade-out\"),c[a].classList.remove(\"fade-in\"),a=0);c[a].classList.add(\"fade-in\");c[a].classList.remove(\"fade-out\")},4E3)};this.isVisible=function(){return m};this.run=\\nfunction(){sQuery=document.location.search.substr(1,document.location.search.length);if(\"\"!=sQuery){aKeysAndVals=sQuery.split(\"&\");for(i=0;i<aKeysAndVals.length;++i)if(aKeyValTuple=aKeysAndVals[i].split(\"=\"),1<aKeyValTuple.length&&\"ref\"==aKeyValTuple[0]){l=aKeyValTuple[1];break}}n=1==z(\"lps_revsh_partner\");C();v()}}}}catch(e$$12){}; $(function() { var pb = new Portal.Bar(); pb.run(); });</script><!-- tracking snippets --><!-- end tracking snippets --><script> StartPage.page = \"home\"; StartPage.uris = { auth: \\'/page/auth\\', register: \\'/page/register\\', register_validate: \\'/page/register/validate\\', support: \\'/page/support\\', notification_register: \\'/page/notifications/register\\', notification_unregister: \\'/page/notifications/unregister\\' }; </script></body></html>'\n"
     ]
    }
   ],
   "source": [
    "import requests\n",
    "\n",
    "# URL de la page de recherche\n",
    "url = 'https://www.guerretribale.fr/'\n",
    "\n",
    "# Données à envoyer\n",
    "payload = {\n",
    "    'username': 'arion1',\n",
    "    'password': 'valeur2',\n",
    "}\n",
    "\n",
    "# En-têtes de la requête (pour simuler une requête envoyée par un navigateur)\n",
    "headers = {\n",
    "    'User-Agent': 'Mozilla/5.0 (Windows NT 10.0; Win64; x64) AppleWebKit/537.36 (KHTML, like Gecko) Chrome/58.0.3029.110 Safari/537.36'\n",
    "}\n",
    "\n",
    "# Envoi de la requête POST avec les données et les en-têtes\n",
    "response = requests.post(url, data=payload, headers=headers)\n",
    "\n",
    "# Affichage du contenu de la page résultante\n",
    "print(response.content)\n"
   ]
  },
  {
   "cell_type": "code",
   "execution_count": 23,
   "id": "d6b955b9",
   "metadata": {},
   "outputs": [
    {
     "ename": "AttributeError",
     "evalue": "'WebDriver' object has no attribute 'find_element_by_id'",
     "output_type": "error",
     "traceback": [
      "\u001b[1;31m---------------------------------------------------------------------------\u001b[0m",
      "\u001b[1;31mAttributeError\u001b[0m                            Traceback (most recent call last)",
      "\u001b[1;32m~\\AppData\\Local\\Temp\\ipykernel_7948\\156556091.py\u001b[0m in \u001b[0;36m<module>\u001b[1;34m\u001b[0m\n\u001b[0;32m     12\u001b[0m \u001b[1;33m\u001b[0m\u001b[0m\n\u001b[0;32m     13\u001b[0m \u001b[1;31m# Cliquer sur la première zone\u001b[0m\u001b[1;33m\u001b[0m\u001b[1;33m\u001b[0m\u001b[0m\n\u001b[1;32m---> 14\u001b[1;33m \u001b[0mzone1\u001b[0m \u001b[1;33m=\u001b[0m \u001b[0mdriver\u001b[0m\u001b[1;33m.\u001b[0m\u001b[0mfind_element_by_id\u001b[0m\u001b[1;33m(\u001b[0m\u001b[1;34m'q'\u001b[0m\u001b[1;33m)\u001b[0m\u001b[1;33m\u001b[0m\u001b[1;33m\u001b[0m\u001b[0m\n\u001b[0m\u001b[0;32m     15\u001b[0m \u001b[0mzone1\u001b[0m\u001b[1;33m.\u001b[0m\u001b[0mclick\u001b[0m\u001b[1;33m(\u001b[0m\u001b[1;33m)\u001b[0m\u001b[1;33m\u001b[0m\u001b[1;33m\u001b[0m\u001b[0m\n\u001b[0;32m     16\u001b[0m \u001b[1;33m\u001b[0m\u001b[0m\n",
      "\u001b[1;31mAttributeError\u001b[0m: 'WebDriver' object has no attribute 'find_element_by_id'"
     ]
    }
   ],
   "source": [
    "from selenium import webdriver\n",
    "import time\n",
    "\n",
    "# Créer une instance du navigateur Chrome\n",
    "driver = webdriver.Chrome()\n",
    "\n",
    "# Naviguer vers le site Google\n",
    "driver.get('https://www.google.com/')\n",
    "\n",
    "# Attendre quelques secondes pour que la page se charge\n",
    "time.sleep(5)\n",
    "\n",
    "# Cliquer sur la première zone\n",
    "zone1 = driver.find_element_by_id('q')\n",
    "zone1.click()\n",
    "\n",
    "# Saisir du texte dans la première zone\n",
    "zone1.send_keys('recherche')\n",
    "\n",
    "# Cliquer sur la deuxième zone\n",
    "zone2 = driver.find_element_by_name('btnK')\n",
    "zone2.click()\n",
    "\n",
    "# Fermer le navigateur\n",
    "driver.quit()\n"
   ]
  },
  {
   "cell_type": "code",
   "execution_count": 27,
   "id": "f5e191a2",
   "metadata": {},
   "outputs": [
    {
     "name": "stdout",
     "output_type": "stream",
     "text": [
      "https://www.guerretribale.fr/\n"
     ]
    },
    {
     "ename": "AttributeError",
     "evalue": "'NoneType' object has no attribute 'find_all'",
     "output_type": "error",
     "traceback": [
      "\u001b[1;31m---------------------------------------------------------------------------\u001b[0m",
      "\u001b[1;31mAttributeError\u001b[0m                            Traceback (most recent call last)",
      "\u001b[1;32m~\\AppData\\Local\\Temp\\ipykernel_7948\\1784228515.py\u001b[0m in \u001b[0;36m<module>\u001b[1;34m\u001b[0m\n\u001b[0;32m     22\u001b[0m \u001b[1;31m# find results within table\u001b[0m\u001b[1;33m\u001b[0m\u001b[1;33m\u001b[0m\u001b[0m\n\u001b[0;32m     23\u001b[0m \u001b[0mtable\u001b[0m \u001b[1;33m=\u001b[0m \u001b[0msoup\u001b[0m\u001b[1;33m.\u001b[0m\u001b[0mfind\u001b[0m\u001b[1;33m(\u001b[0m\u001b[1;34m'table'\u001b[0m\u001b[1;33m,\u001b[0m \u001b[0mattrs\u001b[0m\u001b[1;33m=\u001b[0m\u001b[1;33m{\u001b[0m\u001b[1;34m'class'\u001b[0m\u001b[1;33m:\u001b[0m \u001b[1;34m'tableSorter'\u001b[0m\u001b[1;33m}\u001b[0m\u001b[1;33m)\u001b[0m\u001b[1;33m\u001b[0m\u001b[1;33m\u001b[0m\u001b[0m\n\u001b[1;32m---> 24\u001b[1;33m \u001b[0mresults\u001b[0m \u001b[1;33m=\u001b[0m \u001b[0mtable\u001b[0m\u001b[1;33m.\u001b[0m\u001b[0mfind_all\u001b[0m\u001b[1;33m(\u001b[0m\u001b[1;34m'tr'\u001b[0m\u001b[1;33m)\u001b[0m\u001b[1;33m\u001b[0m\u001b[1;33m\u001b[0m\u001b[0m\n\u001b[0m\u001b[0;32m     25\u001b[0m \u001b[0mprint\u001b[0m\u001b[1;33m(\u001b[0m\u001b[1;34m'Number of results'\u001b[0m\u001b[1;33m,\u001b[0m \u001b[0mlen\u001b[0m\u001b[1;33m(\u001b[0m\u001b[0mresults\u001b[0m\u001b[1;33m)\u001b[0m\u001b[1;33m)\u001b[0m\u001b[1;33m\u001b[0m\u001b[1;33m\u001b[0m\u001b[0m\n\u001b[0;32m     26\u001b[0m \u001b[1;33m\u001b[0m\u001b[0m\n",
      "\u001b[1;31mAttributeError\u001b[0m: 'NoneType' object has no attribute 'find_all'"
     ]
    }
   ],
   "source": [
    "import requests\n",
    " \n",
    "URL='https://www.guerretribale.fr/'\n",
    "username=\"arion1\"\n",
    "password=\"\"\n",
    " \n",
    "data={\n",
    "    'username': username,\n",
    "    'password': password,\n",
    "}\n",
    " \n",
    "r=requests.post(URL, data=data)\n",
    "print(r.text) #affiche la réponse du serveur."
   ]
  },
  {
   "cell_type": "code",
   "execution_count": 33,
   "id": "edb47cfb",
   "metadata": {},
   "outputs": [
    {
     "name": "stdout",
     "output_type": "stream",
     "text": [
      "https://www.guerretribale.fr/\n"
     ]
    },
    {
     "ename": "AttributeError",
     "evalue": "'NoneType' object has no attribute 'find_all'",
     "output_type": "error",
     "traceback": [
      "\u001b[1;31m---------------------------------------------------------------------------\u001b[0m",
      "\u001b[1;31mAttributeError\u001b[0m                            Traceback (most recent call last)",
      "\u001b[1;32m~\\AppData\\Local\\Temp\\ipykernel_7948\\3013883227.py\u001b[0m in \u001b[0;36m<module>\u001b[1;34m\u001b[0m\n\u001b[0;32m     22\u001b[0m \u001b[1;31m# find results within table\u001b[0m\u001b[1;33m\u001b[0m\u001b[1;33m\u001b[0m\u001b[0m\n\u001b[0;32m     23\u001b[0m \u001b[0mtable\u001b[0m \u001b[1;33m=\u001b[0m \u001b[0msoup\u001b[0m\u001b[1;33m.\u001b[0m\u001b[0mfind\u001b[0m\u001b[1;33m(\u001b[0m\u001b[1;34m'div'\u001b[0m\u001b[1;33m,\u001b[0m \u001b[0mattrs\u001b[0m\u001b[1;33m=\u001b[0m\u001b[1;33m{\u001b[0m\u001b[1;34m'class'\u001b[0m\u001b[1;33m:\u001b[0m \u001b[1;34m'tableSorter'\u001b[0m\u001b[1;33m}\u001b[0m\u001b[1;33m)\u001b[0m\u001b[1;33m\u001b[0m\u001b[1;33m\u001b[0m\u001b[0m\n\u001b[1;32m---> 24\u001b[1;33m \u001b[0mresults\u001b[0m \u001b[1;33m=\u001b[0m \u001b[0mtable\u001b[0m\u001b[1;33m.\u001b[0m\u001b[0mfind_all\u001b[0m\u001b[1;33m(\u001b[0m\u001b[1;34m'tr'\u001b[0m\u001b[1;33m)\u001b[0m\u001b[1;33m\u001b[0m\u001b[1;33m\u001b[0m\u001b[0m\n\u001b[0m\u001b[0;32m     25\u001b[0m \u001b[0mprint\u001b[0m\u001b[1;33m(\u001b[0m\u001b[1;34m'Number of results'\u001b[0m\u001b[1;33m,\u001b[0m \u001b[0mlen\u001b[0m\u001b[1;33m(\u001b[0m\u001b[0mresults\u001b[0m\u001b[1;33m)\u001b[0m\u001b[1;33m)\u001b[0m\u001b[1;33m\u001b[0m\u001b[1;33m\u001b[0m\u001b[0m\n\u001b[0;32m     26\u001b[0m \u001b[1;33m\u001b[0m\u001b[0m\n",
      "\u001b[1;31mAttributeError\u001b[0m: 'NoneType' object has no attribute 'find_all'"
     ]
    }
   ],
   "source": [
    "#!/usr/bin/env python3\n",
    "# -*- coding: utf-8 -*-\n",
    "\"\"\"\n",
    "Created on Thu Sep  6 11:17:11 2018\n",
    "\n",
    "@author: kerry\n",
    "\"\"\"\n",
    "\n",
    "# import libraries\n",
    "import urllib.request\n",
    "from bs4 import BeautifulSoup\n",
    "import csv\n",
    "\n",
    "\n",
    "# specify the url\n",
    "urlpage =  'https://www.guerretribale.fr/' \n",
    "print(urlpage)\n",
    "# query the website and return the html to the variable 'page'\n",
    "page = urllib.request.urlopen(urlpage)\n",
    "# parse the html using beautiful soup and store in variable 'soup'\n",
    "soup = BeautifulSoup(page, 'html.parser')\n",
    "# find results within table\n",
    "table = soup.find('div', attrs={'class': 'tableSorter'})\n",
    "results = table.find_all('tr')\n",
    "print('Number of results', len(results))\n",
    "\n",
    "# create and write headers to a list \n",
    "rows = []\n",
    "rows.append(['Rank', 'Company Name', 'Webpage', 'Description', 'Location', 'Year end', 'Annual sales rise over 3 years', 'Sales £000s', 'Staff', 'Comments'])\n",
    "\n",
    "# loop over results\n",
    "for result in results:\n",
    "    # find all columns per result\n",
    "    data = result.find_all('td')\n",
    "    # check that columns have data \n",
    "    if len(data) == 0: \n",
    "        continue\n",
    "    \n",
    "    # write columns to variables\n",
    "    rank = data[0].getText()\n",
    "    company = data[1].getText()\n",
    "    location = data[2].getText()\n",
    "    yearend = data[3].getText()\n",
    "    salesrise = data[4].getText()\n",
    "    sales = data[5].getText()\n",
    "    staff = data[6].getText()\n",
    "    comments = data[7].getText()\n",
    "    \n",
    "    # print('Company is', company)\n",
    "    # Company is WonderblyPersonalised children's books\n",
    "    # print('Sales', sales)\n",
    "    # Sales *25,860\n",
    "\n",
    "    # extract description from the name\n",
    "    companyname = data[1].find('span', attrs={'class':'company-name'}).getText()    \n",
    "    description = company.replace(companyname, '')\n",
    "    \n",
    "    # remove unwanted characters\n",
    "    sales = sales.strip('*').strip('†').replace(',','')\n",
    "    \n",
    "    # go to link and extract company website\n",
    "    url = data[1].find('a').get('href')\n",
    "    page = urllib.request.urlopen(url)\n",
    "    # parse the html using beautiful soup and store in variable 'soup'\n",
    "    soup = BeautifulSoup(page, 'html.parser')\n",
    "    # find the last result in the table and get the link\n",
    "    try:\n",
    "        tableRow = soup.find('table').find_all('tr')[-1]\n",
    "        webpage = tableRow.find('a').get('href')\n",
    "    except:\n",
    "        webpage = None\n",
    "    \n",
    "    # write each result to rows\n",
    "    rows.append([rank, companyname, webpage, description, location, yearend, salesrise, sales, staff, comments])\n",
    "\n",
    "\n",
    "print(rows)\n",
    "\n",
    "    \n",
    "## Create csv and write rows to output file\n",
    "with open('techtrack100.csv','w', newline='') as f_output:\n",
    "    csv_output = csv.writer(f_output)\n",
    "    csv_output.writerows(rows)"
   ]
  },
  {
   "cell_type": "code",
   "execution_count": 32,
   "id": "c4c4703b",
   "metadata": {},
   "outputs": [
    {
     "ename": "TypeError",
     "evalue": "'NoneType' object does not support item assignment",
     "output_type": "error",
     "traceback": [
      "\u001b[1;31m---------------------------------------------------------------------------\u001b[0m",
      "\u001b[1;31mTypeError\u001b[0m                                 Traceback (most recent call last)",
      "\u001b[1;32m~\\AppData\\Local\\Temp\\ipykernel_7948\\2155656295.py\u001b[0m in \u001b[0;36m<module>\u001b[1;34m\u001b[0m\n\u001b[0;32m     19\u001b[0m \u001b[1;33m\u001b[0m\u001b[0m\n\u001b[0;32m     20\u001b[0m \u001b[1;31m# Remplir les champs d'identification\u001b[0m\u001b[1;33m\u001b[0m\u001b[1;33m\u001b[0m\u001b[0m\n\u001b[1;32m---> 21\u001b[1;33m \u001b[0musername_field\u001b[0m\u001b[1;33m[\u001b[0m\u001b[1;34m'value'\u001b[0m\u001b[1;33m]\u001b[0m \u001b[1;33m=\u001b[0m \u001b[1;34m'arion1'\u001b[0m\u001b[1;33m\u001b[0m\u001b[1;33m\u001b[0m\u001b[0m\n\u001b[0m\u001b[0;32m     22\u001b[0m \u001b[0mpassword_field\u001b[0m\u001b[1;33m[\u001b[0m\u001b[1;34m'value'\u001b[0m\u001b[1;33m]\u001b[0m \u001b[1;33m=\u001b[0m \u001b[1;34m'MiMa5158**'\u001b[0m\u001b[1;33m\u001b[0m\u001b[1;33m\u001b[0m\u001b[0m\n\u001b[0;32m     23\u001b[0m \u001b[1;33m\u001b[0m\u001b[0m\n",
      "\u001b[1;31mTypeError\u001b[0m: 'NoneType' object does not support item assignment"
     ]
    }
   ],
   "source": [
    "import requests\n",
    "from bs4 import BeautifulSoup\n",
    "\n",
    "# Créer une session\n",
    "session = requests.Session()\n",
    "\n",
    "# URL de connexion\n",
    "login_url = 'https://www.example.com/login'\n",
    "\n",
    "# Obtenir la page de connexion\n",
    "login_page = session.get(login_url)\n",
    "\n",
    "# Analyser la page HTML avec BeautifulSoup\n",
    "soup = BeautifulSoup(login_page.content, 'html.parser')\n",
    "\n",
    "# Trouver les champs d'identification par leur nom\n",
    "username_field = soup.find('input', {'name': 'username'})\n",
    "password_field = soup.find('input', {'name': 'password'})\n",
    "\n",
    "# Remplir les champs d'identification\n",
    "username_field['value'] = 'arion1'\n",
    "password_field['value'] = 'MiMa5158**'\n",
    "\n",
    "# Soumettre le formulaire de connexion\n",
    "session.post(login_url, data={\n",
    "    'username': username_field['value'],\n",
    "    'password': password_field['value']\n",
    "})\n"
   ]
  },
  {
   "cell_type": "code",
   "execution_count": 36,
   "id": "9d98f508",
   "metadata": {},
   "outputs": [
    {
     "name": "stdout",
     "output_type": "stream",
     "text": [
      "Defaulting to user installation because normal site-packages is not writeable\n"
     ]
    },
    {
     "name": "stderr",
     "output_type": "stream",
     "text": [
      "ERROR: Could not find a version that satisfies the requirement subprocess (from versions: none)\n",
      "ERROR: No matching distribution found for subprocess\n"
     ]
    }
   ],
   "source": [
    "!pip install subprocess"
   ]
  },
  {
   "cell_type": "code",
   "execution_count": 39,
   "id": "f96973cc",
   "metadata": {},
   "outputs": [],
   "source": [
    "import time\n",
    "import subprocess\n",
    "\n",
    "p = subprocess.Popen([\"C:\\Program Files\\Google\\Chrome\\Application\\chrome\", \"https://www.guerretribale.fr/\"])\n",
    "time.sleep(10) #delay of 10 seconds\n",
    "p.kill()\n"
   ]
  },
  {
   "cell_type": "code",
   "execution_count": 62,
   "id": "db6b26f5",
   "metadata": {},
   "outputs": [
    {
     "ename": "AttributeError",
     "evalue": "'WebDriver' object has no attribute 'set_preference'",
     "output_type": "error",
     "traceback": [
      "\u001b[1;31m---------------------------------------------------------------------------\u001b[0m",
      "\u001b[1;31mAttributeError\u001b[0m                            Traceback (most recent call last)",
      "\u001b[1;32m~\\AppData\\Local\\Temp\\ipykernel_7948\\3231136584.py\u001b[0m in \u001b[0;36m<module>\u001b[1;34m\u001b[0m\n\u001b[0;32m      9\u001b[0m \u001b[1;33m\u001b[0m\u001b[0m\n\u001b[0;32m     10\u001b[0m \u001b[1;31m# modification de l’user-agent pour mettre Firefox. Mais ça peut être n’importe quoi d'autre\u001b[0m\u001b[1;33m\u001b[0m\u001b[1;33m\u001b[0m\u001b[0m\n\u001b[1;32m---> 11\u001b[1;33m \u001b[0mdriver\u001b[0m\u001b[1;33m.\u001b[0m\u001b[0mset_preference\u001b[0m\u001b[1;33m(\u001b[0m\u001b[1;34m\"general.useragent.override\"\u001b[0m\u001b[1;33m,\u001b[0m \u001b[1;34m\"Mozilla/5.0 (Windows NT 10.0; rv:112.0) Gecko/20100101 Firefox/112.0\"\u001b[0m\u001b[1;33m)\u001b[0m\u001b[1;33m\u001b[0m\u001b[1;33m\u001b[0m\u001b[0m\n\u001b[0m\u001b[0;32m     12\u001b[0m \u001b[1;33m\u001b[0m\u001b[0m\n\u001b[0;32m     13\u001b[0m \u001b[1;31m# Chemin vers le driver de votre navigateur\u001b[0m\u001b[1;33m\u001b[0m\u001b[1;33m\u001b[0m\u001b[0m\n",
      "\u001b[1;31mAttributeError\u001b[0m: 'WebDriver' object has no attribute 'set_preference'"
     ]
    }
   ],
   "source": [
    "import time\n",
    "import subprocess\n",
    "from selenium import webdriver\n",
    "from selenium.webdriver.common.keys import Keys\n",
    "from selenium.webdriver.common.by import By\n",
    "from selenium.webdriver.support.ui import WebDriverWait\n",
    "from selenium.webdriver.support import expected_conditions as EC\n",
    "from selenium.webdriver.chrome.options import Options\n",
    "\n",
    "# modification de l’user-agent pour mettre Firefox. Mais ça peut être n’importe quoi d'autre\n",
    "driver.set_preference(\"general.useragent.override\", \"Mozilla/5.0 (Windows NT 10.0; rv:112.0) Gecko/20100101 Firefox/112.0\")\n",
    "\n",
    "# Chemin vers le driver de votre navigateur\n",
    "DRIVER_PATH = 'C:\\Program Files\\Google\\Chrome\\Application\\chrome'\n",
    "\n",
    "# Ouvrir le navigateur\n",
    "driver = webdriver.Chrome(executable_path=DRIVER_PATH)\n",
    "driver.get(\"https://www.guerretribale.fr/\")\n",
    "\n",
    "# options = Options()\n",
    "# options.add_argument(\"--disable-blink-features=AutomationControlled\")\n",
    "# driver = webdriver.Chrome(options=options)\n",
    "\n",
    "# p = subprocess.Popen([\"C:\\Program Files\\Google\\Chrome\\Application\\chrome\", \"https://www.guerretribale.fr/\"])\n",
    "time.sleep(10) #delay of 10 seconds\n",
    "\n",
    "# Attendre que la page se charge\n",
    "wait = WebDriverWait(driver, 10)\n",
    "zone1 = wait.until(EC.presence_of_element_located((By.NAME, \"username\")))\n",
    "\n",
    "# Cliquer sur la zone de saisie\n",
    "zone1.click()\n",
    "\n",
    "# Saisir un texte\n",
    "zone1.send_keys(\"arion1\")\n",
    "\n",
    "# Cliquer sur la deuxième zone de saisie\n",
    "zone2 = wait.until(EC.presence_of_element_located((By.NAME, \"password\")))\n",
    "\n",
    "# Cliquer sur la zone de saisie\n",
    "zone2.click()\n",
    "\n",
    "# Saisir un texte\n",
    "zone2.send_keys(\"MiMa5158**\")\n",
    "\n",
    "# bouton = wait.until(EC.presence_of_element_located((By.XPATH, \"//button[@type='submit']\")))\n",
    "# bouton.click()\n",
    "\n",
    "# ou bien \n",
    "\n",
    "formulaire = wait.until(EC.presence_of_element_located((By.ID, \"login_form\")))\n",
    "formulaire.submit()\n",
    "# \n",
    "\n",
    "# # Cliquer sur le bouton de connexion\n",
    "# bouton = driver.find_element_by_xpath(\"//button[@type='submit']\")\n",
    "# bouton.click()\n",
    "\n",
    "# Attendre que la page se charge\n",
    "time.sleep(10)\n",
    "\n",
    "# Fermer le navigateur\n",
    "# driver.quit()\n"
   ]
  },
  {
   "cell_type": "code",
   "execution_count": 61,
   "id": "08ba11d8",
   "metadata": {},
   "outputs": [
    {
     "name": "stderr",
     "output_type": "stream",
     "text": [
      "Unable to obtain driver using Selenium Manager: internet explorer is not a valid browser.  Choose one of: ['chrome', 'firefox', 'edge', 'MicrosoftEdge', 'ie']\n"
     ]
    },
    {
     "ename": "SeleniumManagerException",
     "evalue": "Message: internet explorer is not a valid browser.  Choose one of: ['chrome', 'firefox', 'edge', 'MicrosoftEdge', 'ie']\n",
     "output_type": "error",
     "traceback": [
      "\u001b[1;31m---------------------------------------------------------------------------\u001b[0m",
      "\u001b[1;31mSeleniumManagerException\u001b[0m                  Traceback (most recent call last)",
      "\u001b[1;32m~\\AppData\\Local\\Temp\\ipykernel_7948\\4106097662.py\u001b[0m in \u001b[0;36m<module>\u001b[1;34m\u001b[0m\n\u001b[0;32m     22\u001b[0m \u001b[0mie_options\u001b[0m\u001b[1;33m.\u001b[0m\u001b[0medge_executable_path\u001b[0m \u001b[1;33m=\u001b[0m \u001b[1;34m\"C:/Program Files (x86)/Microsoft/Edge/Application/msedge.exe\"\u001b[0m\u001b[1;33m\u001b[0m\u001b[1;33m\u001b[0m\u001b[0m\n\u001b[0;32m     23\u001b[0m \u001b[1;33m\u001b[0m\u001b[0m\n\u001b[1;32m---> 24\u001b[1;33m \u001b[0mdriver\u001b[0m \u001b[1;33m=\u001b[0m \u001b[0mwebdriver\u001b[0m\u001b[1;33m.\u001b[0m\u001b[0mIe\u001b[0m\u001b[1;33m(\u001b[0m\u001b[0moptions\u001b[0m\u001b[1;33m=\u001b[0m\u001b[0mie_options\u001b[0m\u001b[1;33m)\u001b[0m\u001b[1;33m\u001b[0m\u001b[1;33m\u001b[0m\u001b[0m\n\u001b[0m\u001b[0;32m     25\u001b[0m \u001b[1;33m\u001b[0m\u001b[0m\n\u001b[0;32m     26\u001b[0m \u001b[0mdriver\u001b[0m\u001b[1;33m.\u001b[0m\u001b[0mget\u001b[0m\u001b[1;33m(\u001b[0m\u001b[1;34m\"http://www.bing.com\"\u001b[0m\u001b[1;33m)\u001b[0m\u001b[1;33m\u001b[0m\u001b[1;33m\u001b[0m\u001b[0m\n",
      "\u001b[1;32m~\\AppData\\Roaming\\Python\\Python39\\site-packages\\selenium\\webdriver\\ie\\webdriver.py\u001b[0m in \u001b[0;36m__init__\u001b[1;34m(self, executable_path, capabilities, port, timeout, host, log_level, service_log_path, options, service, desired_capabilities, keep_alive)\u001b[0m\n\u001b[0;32m    125\u001b[0m             )\n\u001b[0;32m    126\u001b[0m \u001b[1;33m\u001b[0m\u001b[0m\n\u001b[1;32m--> 127\u001b[1;33m         \u001b[0mself\u001b[0m\u001b[1;33m.\u001b[0m\u001b[0miedriver\u001b[0m\u001b[1;33m.\u001b[0m\u001b[0mpath\u001b[0m \u001b[1;33m=\u001b[0m \u001b[0mDriverFinder\u001b[0m\u001b[1;33m.\u001b[0m\u001b[0mget_path\u001b[0m\u001b[1;33m(\u001b[0m\u001b[0mself\u001b[0m\u001b[1;33m.\u001b[0m\u001b[0miedriver\u001b[0m\u001b[1;33m,\u001b[0m \u001b[0moptions\u001b[0m\u001b[1;33m)\u001b[0m\u001b[1;33m\u001b[0m\u001b[1;33m\u001b[0m\u001b[0m\n\u001b[0m\u001b[0;32m    128\u001b[0m         \u001b[0mself\u001b[0m\u001b[1;33m.\u001b[0m\u001b[0miedriver\u001b[0m\u001b[1;33m.\u001b[0m\u001b[0mstart\u001b[0m\u001b[1;33m(\u001b[0m\u001b[1;33m)\u001b[0m\u001b[1;33m\u001b[0m\u001b[1;33m\u001b[0m\u001b[0m\n\u001b[0;32m    129\u001b[0m \u001b[1;33m\u001b[0m\u001b[0m\n",
      "\u001b[1;32m~\\AppData\\Roaming\\Python\\Python39\\site-packages\\selenium\\webdriver\\common\\driver_finder.py\u001b[0m in \u001b[0;36mget_path\u001b[1;34m(service, options)\u001b[0m\n\u001b[0;32m     41\u001b[0m         \u001b[1;32mexcept\u001b[0m \u001b[0mWebDriverException\u001b[0m \u001b[1;32mas\u001b[0m \u001b[0merr\u001b[0m\u001b[1;33m:\u001b[0m\u001b[1;33m\u001b[0m\u001b[1;33m\u001b[0m\u001b[0m\n\u001b[0;32m     42\u001b[0m             \u001b[0mlogger\u001b[0m\u001b[1;33m.\u001b[0m\u001b[0mwarning\u001b[0m\u001b[1;33m(\u001b[0m\u001b[1;34m\"Unable to obtain driver using Selenium Manager: \"\u001b[0m \u001b[1;33m+\u001b[0m \u001b[0merr\u001b[0m\u001b[1;33m.\u001b[0m\u001b[0mmsg\u001b[0m\u001b[1;33m)\u001b[0m\u001b[1;33m\u001b[0m\u001b[1;33m\u001b[0m\u001b[0m\n\u001b[1;32m---> 43\u001b[1;33m             \u001b[1;32mraise\u001b[0m \u001b[0merr\u001b[0m\u001b[1;33m\u001b[0m\u001b[1;33m\u001b[0m\u001b[0m\n\u001b[0m\u001b[0;32m     44\u001b[0m \u001b[1;33m\u001b[0m\u001b[0m\n\u001b[0;32m     45\u001b[0m         \u001b[1;32mreturn\u001b[0m \u001b[0mpath\u001b[0m\u001b[1;33m\u001b[0m\u001b[1;33m\u001b[0m\u001b[0m\n",
      "\u001b[1;32m~\\AppData\\Roaming\\Python\\Python39\\site-packages\\selenium\\webdriver\\common\\driver_finder.py\u001b[0m in \u001b[0;36mget_path\u001b[1;34m(service, options)\u001b[0m\n\u001b[0;32m     38\u001b[0m     \u001b[1;32mdef\u001b[0m \u001b[0mget_path\u001b[0m\u001b[1;33m(\u001b[0m\u001b[0mservice\u001b[0m\u001b[1;33m:\u001b[0m \u001b[0mService\u001b[0m\u001b[1;33m,\u001b[0m \u001b[0moptions\u001b[0m\u001b[1;33m:\u001b[0m \u001b[0mBaseOptions\u001b[0m\u001b[1;33m)\u001b[0m \u001b[1;33m->\u001b[0m \u001b[0mstr\u001b[0m\u001b[1;33m:\u001b[0m\u001b[1;33m\u001b[0m\u001b[1;33m\u001b[0m\u001b[0m\n\u001b[0;32m     39\u001b[0m         \u001b[1;32mtry\u001b[0m\u001b[1;33m:\u001b[0m\u001b[1;33m\u001b[0m\u001b[1;33m\u001b[0m\u001b[0m\n\u001b[1;32m---> 40\u001b[1;33m             \u001b[0mpath\u001b[0m \u001b[1;33m=\u001b[0m \u001b[0mshutil\u001b[0m\u001b[1;33m.\u001b[0m\u001b[0mwhich\u001b[0m\u001b[1;33m(\u001b[0m\u001b[0mservice\u001b[0m\u001b[1;33m.\u001b[0m\u001b[0mpath\u001b[0m\u001b[1;33m)\u001b[0m \u001b[1;32mor\u001b[0m \u001b[0mSeleniumManager\u001b[0m\u001b[1;33m(\u001b[0m\u001b[1;33m)\u001b[0m\u001b[1;33m.\u001b[0m\u001b[0mdriver_location\u001b[0m\u001b[1;33m(\u001b[0m\u001b[0moptions\u001b[0m\u001b[1;33m)\u001b[0m\u001b[1;33m\u001b[0m\u001b[1;33m\u001b[0m\u001b[0m\n\u001b[0m\u001b[0;32m     41\u001b[0m         \u001b[1;32mexcept\u001b[0m \u001b[0mWebDriverException\u001b[0m \u001b[1;32mas\u001b[0m \u001b[0merr\u001b[0m\u001b[1;33m:\u001b[0m\u001b[1;33m\u001b[0m\u001b[1;33m\u001b[0m\u001b[0m\n\u001b[0;32m     42\u001b[0m             \u001b[0mlogger\u001b[0m\u001b[1;33m.\u001b[0m\u001b[0mwarning\u001b[0m\u001b[1;33m(\u001b[0m\u001b[1;34m\"Unable to obtain driver using Selenium Manager: \"\u001b[0m \u001b[1;33m+\u001b[0m \u001b[0merr\u001b[0m\u001b[1;33m.\u001b[0m\u001b[0mmsg\u001b[0m\u001b[1;33m)\u001b[0m\u001b[1;33m\u001b[0m\u001b[1;33m\u001b[0m\u001b[0m\n",
      "\u001b[1;32m~\\AppData\\Roaming\\Python\\Python39\\site-packages\\selenium\\webdriver\\common\\selenium_manager.py\u001b[0m in \u001b[0;36mdriver_location\u001b[1;34m(self, options)\u001b[0m\n\u001b[0;32m     82\u001b[0m \u001b[1;33m\u001b[0m\u001b[0m\n\u001b[0;32m     83\u001b[0m         \u001b[1;32mif\u001b[0m \u001b[0mbrowser\u001b[0m \u001b[1;32mnot\u001b[0m \u001b[1;32min\u001b[0m \u001b[0mallowed_browsers\u001b[0m\u001b[1;33m.\u001b[0m\u001b[0mkeys\u001b[0m\u001b[1;33m(\u001b[0m\u001b[1;33m)\u001b[0m\u001b[1;33m:\u001b[0m\u001b[1;33m\u001b[0m\u001b[1;33m\u001b[0m\u001b[0m\n\u001b[1;32m---> 84\u001b[1;33m             raise SeleniumManagerException(\n\u001b[0m\u001b[0;32m     85\u001b[0m                 \u001b[1;34mf\"{browser} is not a valid browser.  Choose one of: {list(allowed_browsers.keys())}\"\u001b[0m\u001b[1;33m\u001b[0m\u001b[1;33m\u001b[0m\u001b[0m\n\u001b[0;32m     86\u001b[0m             )\n",
      "\u001b[1;31mSeleniumManagerException\u001b[0m: Message: internet explorer is not a valid browser.  Choose one of: ['chrome', 'firefox', 'edge', 'MicrosoftEdge', 'ie']\n"
     ]
    }
   ],
   "source": [
    "# from selenium import webdriver\n",
    "# from selenium.webdriver.common.by import By\n",
    "# from selenium.webdriver.common.keys import Keys\n",
    "\n",
    "# ie_options = webdriver.IeOptions()\n",
    "# ie_options.attach_to_edge_chrome = True\n",
    "# ie_options.edge_executable_path = \"C:/Program Files (x86)/Microsoft/Edge/Application/msedge.exe\"\n",
    "\n",
    "# driver = webdriver.Ie(options=ie_options)\n",
    "\n",
    "# driver.get(\"http://www.bing.com\")\n",
    "# elem = driver.find_element(By.ID, 'sb_form_q')\n",
    "# elem.send_keys('WebDriver' + Keys.RETURN)\n",
    "\n",
    "from selenium import webdriver\n",
    "from selenium.webdriver.common.by import By\n",
    "from selenium.webdriver.common.keys import Keys\n",
    "\n",
    "ie_options = webdriver.IeOptions()\n",
    "ie_options.ignore_protected_mode_settings = True\n",
    "ie_options.ignore_zoom_level = True\n",
    "ie_options.edge_executable_path = \"C:/Program Files (x86)/Microsoft/Edge/Application/msedge.exe\"\n",
    "\n",
    "driver = webdriver.Ie(options=ie_options)\n",
    "\n",
    "driver.get(\"http://www.bing.com\")\n",
    "elem = driver.find_element(By.ID, 'sb_form_q')\n",
    "elem.send_keys('WebDriver' + Keys.RETURN)\n"
   ]
  },
  {
   "cell_type": "code",
   "execution_count": 63,
   "id": "b8ce6603",
   "metadata": {},
   "outputs": [
    {
     "name": "stderr",
     "output_type": "stream",
     "text": [
      "C:\\Users\\Zbook\\AppData\\Local\\Temp\\ipykernel_7948\\958179196.py:7: DeprecationWarning: firefox_profile has been deprecated, please use an Options object\n",
      "  profile = webdriver.FirefoxProfile()\n",
      "C:\\Users\\Zbook\\AppData\\Local\\Temp\\ipykernel_7948\\958179196.py:13: DeprecationWarning: executable_path has been deprecated, please pass in a Service object\n",
      "  driver = webdriver.Firefox(firefox_profile=profile, executable_path=DRIVER_PATH)\n",
      "C:\\Users\\Zbook\\AppData\\Local\\Temp\\ipykernel_7948\\958179196.py:13: DeprecationWarning: firefox_profile has been deprecated, please pass in an Options object\n",
      "  driver = webdriver.Firefox(firefox_profile=profile, executable_path=DRIVER_PATH)\n"
     ]
    },
    {
     "ename": "SessionNotCreatedException",
     "evalue": "Message: Expected browser binary location, but unable to find binary in default location, no 'moz:firefoxOptions.binary' capability provided, and no binary flag set on the command line\n",
     "output_type": "error",
     "traceback": [
      "\u001b[1;31m---------------------------------------------------------------------------\u001b[0m",
      "\u001b[1;31mSessionNotCreatedException\u001b[0m                Traceback (most recent call last)",
      "\u001b[1;32m~\\AppData\\Local\\Temp\\ipykernel_7948\\958179196.py\u001b[0m in \u001b[0;36m<module>\u001b[1;34m\u001b[0m\n\u001b[0;32m     11\u001b[0m \u001b[1;33m\u001b[0m\u001b[0m\n\u001b[0;32m     12\u001b[0m \u001b[1;31m# Ouvrir le navigateur Firefox avec le profil modifié\u001b[0m\u001b[1;33m\u001b[0m\u001b[1;33m\u001b[0m\u001b[0m\n\u001b[1;32m---> 13\u001b[1;33m \u001b[0mdriver\u001b[0m \u001b[1;33m=\u001b[0m \u001b[0mwebdriver\u001b[0m\u001b[1;33m.\u001b[0m\u001b[0mFirefox\u001b[0m\u001b[1;33m(\u001b[0m\u001b[0mfirefox_profile\u001b[0m\u001b[1;33m=\u001b[0m\u001b[0mprofile\u001b[0m\u001b[1;33m,\u001b[0m \u001b[0mexecutable_path\u001b[0m\u001b[1;33m=\u001b[0m\u001b[0mDRIVER_PATH\u001b[0m\u001b[1;33m)\u001b[0m\u001b[1;33m\u001b[0m\u001b[1;33m\u001b[0m\u001b[0m\n\u001b[0m\u001b[0;32m     14\u001b[0m \u001b[1;33m\u001b[0m\u001b[0m\n\u001b[0;32m     15\u001b[0m \u001b[1;31m# Ouvrir une page web\u001b[0m\u001b[1;33m\u001b[0m\u001b[1;33m\u001b[0m\u001b[0m\n",
      "\u001b[1;32m~\\AppData\\Roaming\\Python\\Python39\\site-packages\\selenium\\webdriver\\firefox\\webdriver.py\u001b[0m in \u001b[0;36m__init__\u001b[1;34m(self, firefox_profile, firefox_binary, capabilities, proxy, executable_path, options, service_log_path, service_args, service, desired_capabilities, log_path, keep_alive)\u001b[0m\n\u001b[0;32m    199\u001b[0m             \u001b[0mremote_server_addr\u001b[0m\u001b[1;33m=\u001b[0m\u001b[0mself\u001b[0m\u001b[1;33m.\u001b[0m\u001b[0mservice\u001b[0m\u001b[1;33m.\u001b[0m\u001b[0mservice_url\u001b[0m\u001b[1;33m,\u001b[0m \u001b[0mignore_proxy\u001b[0m\u001b[1;33m=\u001b[0m\u001b[0moptions\u001b[0m\u001b[1;33m.\u001b[0m\u001b[0m_ignore_local_proxy\u001b[0m\u001b[1;33m\u001b[0m\u001b[1;33m\u001b[0m\u001b[0m\n\u001b[0;32m    200\u001b[0m         )\n\u001b[1;32m--> 201\u001b[1;33m         \u001b[0msuper\u001b[0m\u001b[1;33m(\u001b[0m\u001b[1;33m)\u001b[0m\u001b[1;33m.\u001b[0m\u001b[0m__init__\u001b[0m\u001b[1;33m(\u001b[0m\u001b[0mcommand_executor\u001b[0m\u001b[1;33m=\u001b[0m\u001b[0mexecutor\u001b[0m\u001b[1;33m,\u001b[0m \u001b[0moptions\u001b[0m\u001b[1;33m=\u001b[0m\u001b[0moptions\u001b[0m\u001b[1;33m,\u001b[0m \u001b[0mkeep_alive\u001b[0m\u001b[1;33m=\u001b[0m\u001b[1;32mTrue\u001b[0m\u001b[1;33m)\u001b[0m\u001b[1;33m\u001b[0m\u001b[1;33m\u001b[0m\u001b[0m\n\u001b[0m\u001b[0;32m    202\u001b[0m \u001b[1;33m\u001b[0m\u001b[0m\n\u001b[0;32m    203\u001b[0m         \u001b[0mself\u001b[0m\u001b[1;33m.\u001b[0m\u001b[0m_is_remote\u001b[0m \u001b[1;33m=\u001b[0m \u001b[1;32mFalse\u001b[0m\u001b[1;33m\u001b[0m\u001b[1;33m\u001b[0m\u001b[0m\n",
      "\u001b[1;32m~\\AppData\\Roaming\\Python\\Python39\\site-packages\\selenium\\webdriver\\remote\\webdriver.py\u001b[0m in \u001b[0;36m__init__\u001b[1;34m(self, command_executor, desired_capabilities, browser_profile, proxy, keep_alive, file_detector, options)\u001b[0m\n\u001b[0;32m    284\u001b[0m         \u001b[0mself\u001b[0m\u001b[1;33m.\u001b[0m\u001b[0m_authenticator_id\u001b[0m \u001b[1;33m=\u001b[0m \u001b[1;32mNone\u001b[0m\u001b[1;33m\u001b[0m\u001b[1;33m\u001b[0m\u001b[0m\n\u001b[0;32m    285\u001b[0m         \u001b[0mself\u001b[0m\u001b[1;33m.\u001b[0m\u001b[0mstart_client\u001b[0m\u001b[1;33m(\u001b[0m\u001b[1;33m)\u001b[0m\u001b[1;33m\u001b[0m\u001b[1;33m\u001b[0m\u001b[0m\n\u001b[1;32m--> 286\u001b[1;33m         \u001b[0mself\u001b[0m\u001b[1;33m.\u001b[0m\u001b[0mstart_session\u001b[0m\u001b[1;33m(\u001b[0m\u001b[0mcapabilities\u001b[0m\u001b[1;33m,\u001b[0m \u001b[0mbrowser_profile\u001b[0m\u001b[1;33m)\u001b[0m\u001b[1;33m\u001b[0m\u001b[1;33m\u001b[0m\u001b[0m\n\u001b[0m\u001b[0;32m    287\u001b[0m \u001b[1;33m\u001b[0m\u001b[0m\n\u001b[0;32m    288\u001b[0m     \u001b[1;32mdef\u001b[0m \u001b[0m__repr__\u001b[0m\u001b[1;33m(\u001b[0m\u001b[0mself\u001b[0m\u001b[1;33m)\u001b[0m\u001b[1;33m:\u001b[0m\u001b[1;33m\u001b[0m\u001b[1;33m\u001b[0m\u001b[0m\n",
      "\u001b[1;32m~\\AppData\\Roaming\\Python\\Python39\\site-packages\\selenium\\webdriver\\remote\\webdriver.py\u001b[0m in \u001b[0;36mstart_session\u001b[1;34m(self, capabilities, browser_profile)\u001b[0m\n\u001b[0;32m    376\u001b[0m         \u001b[0mw3c_caps\u001b[0m \u001b[1;33m=\u001b[0m \u001b[0m_make_w3c_caps\u001b[0m\u001b[1;33m(\u001b[0m\u001b[0mcapabilities\u001b[0m\u001b[1;33m)\u001b[0m\u001b[1;33m\u001b[0m\u001b[1;33m\u001b[0m\u001b[0m\n\u001b[0;32m    377\u001b[0m         \u001b[0mparameters\u001b[0m \u001b[1;33m=\u001b[0m \u001b[1;33m{\u001b[0m\u001b[1;34m\"capabilities\"\u001b[0m\u001b[1;33m:\u001b[0m \u001b[0mw3c_caps\u001b[0m\u001b[1;33m}\u001b[0m\u001b[1;33m\u001b[0m\u001b[1;33m\u001b[0m\u001b[0m\n\u001b[1;32m--> 378\u001b[1;33m         \u001b[0mresponse\u001b[0m \u001b[1;33m=\u001b[0m \u001b[0mself\u001b[0m\u001b[1;33m.\u001b[0m\u001b[0mexecute\u001b[0m\u001b[1;33m(\u001b[0m\u001b[0mCommand\u001b[0m\u001b[1;33m.\u001b[0m\u001b[0mNEW_SESSION\u001b[0m\u001b[1;33m,\u001b[0m \u001b[0mparameters\u001b[0m\u001b[1;33m)\u001b[0m\u001b[1;33m\u001b[0m\u001b[1;33m\u001b[0m\u001b[0m\n\u001b[0m\u001b[0;32m    379\u001b[0m         \u001b[1;32mif\u001b[0m \u001b[1;34m\"sessionId\"\u001b[0m \u001b[1;32mnot\u001b[0m \u001b[1;32min\u001b[0m \u001b[0mresponse\u001b[0m\u001b[1;33m:\u001b[0m\u001b[1;33m\u001b[0m\u001b[1;33m\u001b[0m\u001b[0m\n\u001b[0;32m    380\u001b[0m             \u001b[0mresponse\u001b[0m \u001b[1;33m=\u001b[0m \u001b[0mresponse\u001b[0m\u001b[1;33m[\u001b[0m\u001b[1;34m\"value\"\u001b[0m\u001b[1;33m]\u001b[0m\u001b[1;33m\u001b[0m\u001b[1;33m\u001b[0m\u001b[0m\n",
      "\u001b[1;32m~\\AppData\\Roaming\\Python\\Python39\\site-packages\\selenium\\webdriver\\remote\\webdriver.py\u001b[0m in \u001b[0;36mexecute\u001b[1;34m(self, driver_command, params)\u001b[0m\n\u001b[0;32m    438\u001b[0m         \u001b[0mresponse\u001b[0m \u001b[1;33m=\u001b[0m \u001b[0mself\u001b[0m\u001b[1;33m.\u001b[0m\u001b[0mcommand_executor\u001b[0m\u001b[1;33m.\u001b[0m\u001b[0mexecute\u001b[0m\u001b[1;33m(\u001b[0m\u001b[0mdriver_command\u001b[0m\u001b[1;33m,\u001b[0m \u001b[0mparams\u001b[0m\u001b[1;33m)\u001b[0m\u001b[1;33m\u001b[0m\u001b[1;33m\u001b[0m\u001b[0m\n\u001b[0;32m    439\u001b[0m         \u001b[1;32mif\u001b[0m \u001b[0mresponse\u001b[0m\u001b[1;33m:\u001b[0m\u001b[1;33m\u001b[0m\u001b[1;33m\u001b[0m\u001b[0m\n\u001b[1;32m--> 440\u001b[1;33m             \u001b[0mself\u001b[0m\u001b[1;33m.\u001b[0m\u001b[0merror_handler\u001b[0m\u001b[1;33m.\u001b[0m\u001b[0mcheck_response\u001b[0m\u001b[1;33m(\u001b[0m\u001b[0mresponse\u001b[0m\u001b[1;33m)\u001b[0m\u001b[1;33m\u001b[0m\u001b[1;33m\u001b[0m\u001b[0m\n\u001b[0m\u001b[0;32m    441\u001b[0m             \u001b[0mresponse\u001b[0m\u001b[1;33m[\u001b[0m\u001b[1;34m\"value\"\u001b[0m\u001b[1;33m]\u001b[0m \u001b[1;33m=\u001b[0m \u001b[0mself\u001b[0m\u001b[1;33m.\u001b[0m\u001b[0m_unwrap_value\u001b[0m\u001b[1;33m(\u001b[0m\u001b[0mresponse\u001b[0m\u001b[1;33m.\u001b[0m\u001b[0mget\u001b[0m\u001b[1;33m(\u001b[0m\u001b[1;34m\"value\"\u001b[0m\u001b[1;33m,\u001b[0m \u001b[1;32mNone\u001b[0m\u001b[1;33m)\u001b[0m\u001b[1;33m)\u001b[0m\u001b[1;33m\u001b[0m\u001b[1;33m\u001b[0m\u001b[0m\n\u001b[0;32m    442\u001b[0m             \u001b[1;32mreturn\u001b[0m \u001b[0mresponse\u001b[0m\u001b[1;33m\u001b[0m\u001b[1;33m\u001b[0m\u001b[0m\n",
      "\u001b[1;32m~\\AppData\\Roaming\\Python\\Python39\\site-packages\\selenium\\webdriver\\remote\\errorhandler.py\u001b[0m in \u001b[0;36mcheck_response\u001b[1;34m(self, response)\u001b[0m\n\u001b[0;32m    243\u001b[0m                 \u001b[0malert_text\u001b[0m \u001b[1;33m=\u001b[0m \u001b[0mvalue\u001b[0m\u001b[1;33m[\u001b[0m\u001b[1;34m\"alert\"\u001b[0m\u001b[1;33m]\u001b[0m\u001b[1;33m.\u001b[0m\u001b[0mget\u001b[0m\u001b[1;33m(\u001b[0m\u001b[1;34m\"text\"\u001b[0m\u001b[1;33m)\u001b[0m\u001b[1;33m\u001b[0m\u001b[1;33m\u001b[0m\u001b[0m\n\u001b[0;32m    244\u001b[0m             \u001b[1;32mraise\u001b[0m \u001b[0mexception_class\u001b[0m\u001b[1;33m(\u001b[0m\u001b[0mmessage\u001b[0m\u001b[1;33m,\u001b[0m \u001b[0mscreen\u001b[0m\u001b[1;33m,\u001b[0m \u001b[0mstacktrace\u001b[0m\u001b[1;33m,\u001b[0m \u001b[0malert_text\u001b[0m\u001b[1;33m)\u001b[0m  \u001b[1;31m# type: ignore[call-arg]  # mypy is not smart enough here\u001b[0m\u001b[1;33m\u001b[0m\u001b[1;33m\u001b[0m\u001b[0m\n\u001b[1;32m--> 245\u001b[1;33m         \u001b[1;32mraise\u001b[0m \u001b[0mexception_class\u001b[0m\u001b[1;33m(\u001b[0m\u001b[0mmessage\u001b[0m\u001b[1;33m,\u001b[0m \u001b[0mscreen\u001b[0m\u001b[1;33m,\u001b[0m \u001b[0mstacktrace\u001b[0m\u001b[1;33m)\u001b[0m\u001b[1;33m\u001b[0m\u001b[1;33m\u001b[0m\u001b[0m\n\u001b[0m",
      "\u001b[1;31mSessionNotCreatedException\u001b[0m: Message: Expected browser binary location, but unable to find binary in default location, no 'moz:firefoxOptions.binary' capability provided, and no binary flag set on the command line\n"
     ]
    }
   ],
   "source": [
    "from selenium import webdriver\n",
    "\n",
    "# Chemin vers le driver de votre navigateur\n",
    "DRIVER_PATH = 'C:\\Program Files\\Geckodriver\\geckodriver.exe'\n",
    "\n",
    "# Créer un profil pour Firefox\n",
    "profile = webdriver.FirefoxProfile()\n",
    "\n",
    "# Modifier l'user-agent pour Firefox\n",
    "profile.set_preference(\"general.useragent.override\", \"Mozilla/5.0 (Windows NT 10.0; rv:112.0) Gecko/20100101 Firefox/112.0\")\n",
    "\n",
    "# Ouvrir le navigateur Firefox avec le profil modifié\n",
    "driver = webdriver.Firefox(firefox_profile=profile, executable_path=DRIVER_PATH)\n",
    "\n",
    "# Ouvrir une page web\n",
    "driver.get(\"https://www.exemple.fr/\")\n",
    "\n",
    "# Fermer le navigateur\n",
    "driver.quit()\n"
   ]
  },
  {
   "cell_type": "code",
   "execution_count": 65,
   "id": "518177bd",
   "metadata": {},
   "outputs": [],
   "source": [
    "from selenium import webdriver\n",
    "from selenium.webdriver.chrome.options import Options\n",
    "\n",
    "chrome_options = Options()\n",
    "# Modifier l'user-agent pour Firefox\n",
    "profile.set_preference(\"general.useragent.override\", \"Mozilla/5.0 (Windows NT 10.0; rv:112.0) Gecko/20100101 Firefox/112.0\")\n",
    "\n",
    "chrome_options.add_argument(\"--user-agent=Mozilla/5.0 (Windows NT 10.0; Win64; x64) AppleWebKit/537.36 (KHTML, like Gecko) Chrome/90.0.4430.85 Safari/537.36\")\n",
    "\n",
    "driver = webdriver.Chrome(options=chrome_options)\n",
    "driver.get(\"https://www.example.com\")\n"
   ]
  },
  {
   "cell_type": "code",
   "execution_count": 98,
   "id": "9a4c0e04",
   "metadata": {},
   "outputs": [
    {
     "name": "stderr",
     "output_type": "stream",
     "text": [
      "C:\\Users\\Zbook\\AppData\\Local\\Temp\\ipykernel_7948\\3083839188.py:24: DeprecationWarning: executable_path has been deprecated, please pass in a Service object\n",
      "  driver = webdriver.Chrome(executable_path=DRIVER_PATH, options=opts)\n"
     ]
    }
   ],
   "source": [
    "import time\n",
    "from selenium import webdriver\n",
    "from selenium.webdriver.common.keys import Keys\n",
    "from selenium.webdriver.common.by import By\n",
    "from selenium.webdriver.support.ui import WebDriverWait\n",
    "from selenium.webdriver.support import expected_conditions as EC\n",
    "from selenium.webdriver.chrome.options import Options\n",
    "\n",
    "# Chemin vers le driver de votre navigateur\n",
    "DRIVER_PATH = 'C:\\Program Files\\Google\\Chrome\\Application\\chromedriver.exe'\n",
    "\n",
    "# # Configuration des options du navigateur\n",
    "# chrome_options = Options()\n",
    "# # chrome_options.add_argument(\"--user-agent=Mozilla/5.0 (Windows NT 10.0; rv:112.0) Gecko/20100101 Firefox/112.0\")\n",
    "\n",
    "# # Modifier l'user-agent pour Firefox\n",
    "# chrome_options.add_argument(\"general.useragent.override\")\n",
    "# Configuration des options pour Chrome\n",
    "opts = Options()\n",
    "opts.add_argument(\"--disable-blink-features=AutomationControlled\")\n",
    "opts.add_argument(\"user-agent=Mozilla/5.0 (Windows NT 10.0; rv:112.0) Gecko/20100101 Firefox/112.0\")\n",
    "\n",
    "# Ouvrir le navigateur\n",
    "driver = webdriver.Chrome(executable_path=DRIVER_PATH, options=opts)\n",
    "driver.get(\"https://www.guerretribale.fr/\")\n",
    "\n",
    "# Attendre que la page se charge\n",
    "wait = WebDriverWait(driver, 100)\n",
    "zone1 = wait.until(EC.presence_of_element_located((By.NAME, \"username\")))\n",
    "\n",
    "# Cliquer sur la zone de saisie\n",
    "zone1.click()\n",
    "\n",
    "# Saisir un texte\n",
    "zone1.send_keys(\"arion1\")\n",
    "\n",
    "# Cliquer sur la deuxième zone de saisie\n",
    "zone2 = wait.until(EC.presence_of_element_located((By.NAME, \"password\")))\n",
    "\n",
    "# Cliquer sur la zone de saisie\n",
    "zone2.click()\n",
    "\n",
    "# Saisir un texte\n",
    "zone2.send_keys(\"MiMa5158**\")\n",
    "\n",
    "# Soumettre le formulaire\n",
    "formulaire = wait.until(EC.presence_of_element_located((By.ID, \"login_form\")))\n",
    "formulaire.submit()\n",
    "\n",
    "# Attendre que la page se charge\n",
    "time.sleep(10) #delay of 10 seconds\n"
   ]
  },
  {
   "cell_type": "code",
   "execution_count": 85,
   "id": "b313b53d",
   "metadata": {},
   "outputs": [
    {
     "name": "stderr",
     "output_type": "stream",
     "text": [
      "C:\\Users\\Zbook\\AppData\\Local\\Temp\\ipykernel_7948\\1454671687.py:23: DeprecationWarning: executable_path has been deprecated, please pass in a Service object\n",
      "  driver = webdriver.Chrome(executable_path=DRIVER_PATH, options=chrome_options)\n"
     ]
    }
   ],
   "source": [
    "import time\n",
    "from selenium import webdriver\n",
    "from selenium.webdriver.common.keys import Keys\n",
    "from selenium.webdriver.chrome.options import Options\n",
    "\n",
    "chrome_options = Options()\n",
    "chrome_options.add_argument(\"--disable-extensions\")\n",
    "chrome_options.add_argument(\"--disable-dev-shm-usage\")\n",
    "chrome_options.add_argument(\"--disable-blink-features=AutomationControlled\")\n",
    "\n",
    "# options = webdriver.ChromeOptions()\n",
    "options.add_argument(\"--disable-notifications\")\n",
    "options.add_argument(\"--disable-extensions\")\n",
    "options.add_argument(\"--disable-infobars\")\n",
    "options.add_argument(\"--disable-features=VizDisplayCompositor\")\n",
    "\n",
    "\n",
    "chrome_options.add_argument(\"user-agent=Mozilla/5.0 (Windows NT 10.0; Win64; x64) AppleWebKit/537.36 (KHTML, like Gecko) Chrome/58.0.3029.110 Safari/537.36\")\n",
    "\n",
    "# driver = webdriver.Chrome(options=chrome_options)\n",
    "# driver.get(\"https://www.example.com/\")\n",
    "# Ouvrir le navigateur\n",
    "driver = webdriver.Chrome(executable_path=DRIVER_PATH, options=chrome_options)\n",
    "driver.get(\"https://www.guerretribale.fr/\")\n",
    "\n",
    "time.sleep(5)\n",
    "# driver.quit()\n"
   ]
  },
  {
   "cell_type": "code",
   "execution_count": 97,
   "id": "53c26e8c",
   "metadata": {},
   "outputs": [
    {
     "name": "stdout",
     "output_type": "stream",
     "text": [
      "{\n",
      "    \"Accessibility\": \"Accessibilité\",\n",
      "    \"Accessibility cookie is not set. {{retrieve-cookie}}\": \"Le cookie d'accessibilité n'est pas défini. {{retrieve-cookie}}\",\n",
      "    \"Accessibility cookie is set. For help, please email {{support}}\": \"Le cookie d'accessibilité est défini. Pour obtenir de l'aide, veuillez envoyer un e-mail à {{support}}\",\n",
      "    \"Back\": \"Retour\",\n",
      "    \"Can't Click\": \"Impossible de cliquer\",\n",
      "    \"Can't Solve\": \"Impossible de résoudre\",\n",
      "    \"Cancel\": \"Annuler\",\n",
      "    \"Cancel Navigation\": \"Annuler la navigation\",\n",
      "    \"Cancel Response\": \"Annuler la réponse\",\n",
      "    \"Cannot contact hCaptcha. Check your connection and try again.\": \"Impossible de contacter hCaptcha. Vérifiez votre connexion et réessayez.\",\n",
      "    \"Challenge Image {{id}}\": \"Image du défi {{id}}\",\n",
      "    \"Challenge Text Input\": \"Saisie de texte de défi\",\n",
      "    \"Check\": \"Vérifier\",\n",
      "    \"Close\": \"Fermer\",\n",
      "    \"Close Modal\": \"Fermer la fenêtre\",\n",
      "    \"Confirm\": \"Confirmer\",\n",
      "    \"Confirm Navigation\": \"Confirmer la navigation\",\n",
      "    \"Cookies are disabled or the accessibility cookie is not set. {{enable-cookies}}\": \"Les cookies sont désactivés ou le cookie d'accessibilité n'est pas défini. {{enable-cookies}}\",\n",
      "    \"Describe why you are reporting an image.\": \"Décrivez pourquoi vous signalez une image.\",\n",
      "    \"Enable cross-site cookies.\": \"Activez les cookies intersites.\",\n",
      "    \"Enter the two words in the image.\": \"Entrez les deux mots dans l'image.\",\n",
      "    \"Error fetching captcha.\": \"Erreur lors de la récupération du captcha.\",\n",
      "    \"Error submitting captcha.\": \"Erreur lors de la soumission du captcha.\",\n",
      "    \"Example image {{id}}\": \"Exemple d'image {{id}}\",\n",
      "    \"Feedback\": \"Retour d'information\",\n",
      "    \"Get information about hCaptcha and accessibility options.\": \"Obtenez des informations sur hCaptcha et les options d'accessibilité.\",\n",
      "    \"Get information about hCaptcha.\": \"Obtenez des informations sur hCaptcha.\",\n",
      "    \"Give a detailed report of a bug you've encountered.\": \"Donnez un rapport détaillé d'un bug que vous avez rencontré.\",\n",
      "    \"Give feedback.\": \"Donnez votre avis.\",\n",
      "    \"Having a problem?\": \"Avez-vous un problème ?\",\n",
      "    \"Hide examples.\": \"Cacher des exemples.\",\n",
      "    \"I am human\": \"Je suis un humain\",\n",
      "    \"If there are None, click Skip\": \"S'il n'y en a aucune, cliquez sur Passer\",\n",
      "    \"Inappropriate\": \"Inapproprié\",\n",
      "    \"Info\": \"Info\",\n",
      "    \"Information\": \"Information\",\n",
      "    \"Information about hCaptcha's accessibility options.\": \"Informations sur les options d'accessibilité de hCaptcha.\",\n",
      "    \"Information about the hCaptcha service.\": \"Informations sur le service hCaptcha.\",\n",
      "    \"Invalid challenge.\": \"Défi non valide.\",\n",
      "    \"Language\": \"Langue\",\n",
      "    \"Learn about accessibility options.\": \"Découvrez les options d'accessibilité.\",\n",
      "    \"Learn more about hCaptcha Accessibility.\": \"En savoir plus sur l'accessibilité hCaptcha.\",\n",
      "    \"Main content of the hCaptcha challenge\": \"Contenu principal du défi hCaptcha\",\n",
      "    \"Multiple Choice Option\": \"Option à choix multiples\",\n",
      "    \"Next\": \"Suivant\",\n",
      "    \"Next Challenge\": \"Défi suivant\",\n",
      "    \"Off Screen\": \"Hors écran\",\n",
      "    \"Other\": \"Autre\",\n",
      "    \"Our accessibility option may help\": \"Notre option d'accessibilité peut vous aider\",\n",
      "    \"Our accessibility option may help.\": \"Notre option d'accessibilité peut vous aider.\",\n",
      "    \"Please also try turning off your ad blocker.‍\": \"Veuillez également essayer de désactiver votre bloqueur de publicités.\",\n",
      "    \"Please describe your issue.\": \"Veuillez décrire votre problème.\",\n",
      "    \"Please provide details and steps to reproduce.\": \"Veuillez fournir les détails et les étapes de reproduction.\",\n",
      "    \"Please select Confirm to follow the link, or Cancel to stay on the current screen.\": \"Veuillez sélectionner Confirmer pour suivre le lien ou Annuler pour rester sur l'écran actuel.\",\n",
      "    \"Please select an image to report.\": \"Veuillez sélectionner une image à signaler.\",\n",
      "    \"Please select an option to send response.\": \"Veuillez sélectionner une option pour envoyer la réponse.\",\n",
      "    \"Please try again.\": \"Veuillez réessayer.\",\n",
      "    \"Privacy\": \"Confidentialité\",\n",
      "    \"Provide feedback for hCaptcha.\": \"Fournissez des commentaires pour hCaptcha.\",\n",
      "    \"Provide feedback regarding the hCaptcha service.\": \"Fournissez des commentaires concernant le service hCaptcha.\",\n",
      "    \"Rate limited or network error. Please retry.\": \"Taux limité ou erreur de réseau. Veuillez réessayer.\",\n",
      "    \"Read more about the hCaptcha service.\": \"En savoir plus sur le service hCaptcha.\",\n",
      "    \"Refresh Challenge.\": \"Rafraîchir le défi.\",\n",
      "    \"Report\": \"rapport\",\n",
      "    \"Report Bug\": \"Rapportez une erreur\",\n",
      "    \"Report Image\": \"Signaler une image\",\n",
      "    \"Reporting a functionality issue?\": \"Vous signalez un problème fonctionnel ?\",\n",
      "    \"Reset zoom\": \"Réinitialiser le zoom\",\n",
      "    \"Retrieve accessibility cookie.\": \"Récupérer le cookie d'accessibilité.\",\n",
      "    \"See how to report issues with detailed logs.\": \"Découvrez comment signaler des problèmes avec des journaux détaillés.\",\n",
      "    \"Select a language {{language}}\": \"Sélectionnez une langue {{language}}\",\n",
      "    \"Send\": \"Envoyer\",\n",
      "    \"Send Response\": \"Envoyer une réponse\",\n",
      "    \"Send Us Feedback\": \"Envoyez-nous vos commentaires\",\n",
      "    \"Sign up for accessibility access to bypass the hCaptcha challenge.\": \"Inscrivez-vous pour accéder à l'accessibilité afin de contourner le défi hCaptcha.\",\n",
      "    \"Skip\": \"Passer\",\n",
      "    \"Skip Challenge\": \"Passer ce défi\",\n",
      "    \"Software Bug\": \"Bug logiciel\",\n",
      "    \"Sorry to hear that!\": \"Désolé d'apprendre cela !\",\n",
      "    \"Status:\": \"Statut:\",\n",
      "    \"Submit Answers\": \"Soumettre les réponses\",\n",
      "    \"Tell Us Why\": \"Dites-nous pourquoi\",\n",
      "    \"Terms\": \"Conditions\",\n",
      "    \"Text Challenge\": \"Défi texte\",\n",
      "    \"Thank you for your feedback.\": \"Merci pour votre avis.\",\n",
      "    \"The sitekey for this hCaptcha is incorrect. Please contact the site admin if you see this.\": \"La clé de site pour ce hCaptcha est incorrecte. Veuillez contacter l'administrateur du site si vous voyez cela.\",\n",
      "    \"This hCaptcha is for testing only. Please contact the site admin if you see this.\": \"Cet hCaptcha est uniquement destiné aux tests. Veuillez contacter l'administrateur du site si vous voyez cela.\",\n",
      "    \"This lets you avoid future questions by registering and setting a cookie.\": \"Cela vous permet d'éviter les questions futures en enregistrant et en définissant un cookie.\",\n",
      "    \"To bypass our visual challenge, we offer an accessibility cookie.\": \"Pour contourner notre défi visuel, nous proposons un cookie d'accessibilité.\",\n",
      "    \"Too Difficult\": \"Trop difficile\",\n",
      "    \"View more examples.\": \"Voir plus d'exemples.\",\n",
      "    \"View our accessibility option.\": \"Consultez notre option d'accessibilité.\",\n",
      "    \"Violent\": \"Violent\",\n",
      "    \"Visit hcaptcha.com to learn more about the service and its accessibility options.\": \"Visitez hcaptcha.com pour en savoir plus sur le service et ses options d'accessibilité.\",\n",
      "    \"Visit this menu entry to open a text challenge which is aimed at accessibility users.\": \"Visitez cette entrée de menu pour ouvrir un défi de texte destiné aux utilisateurs d'accessibilité.\",\n",
      "    \"We will look into the issue immediately.\": \"Nous examinerons la question immédiatement.\",\n",
      "    \"We'll resolve your issue as quickly as we can.\": \"Nous résoudrons votre problème le plus rapidement possible.\",\n",
      "    \"Widget containing checkbox for hCaptcha security challenge\": \"Widget contenant une case à cocher pour le défi de sécurité hCaptcha\",\n",
      "    \"Your computer or network has sent too many requests.\": \"Votre ordinateur ou votre réseau a envoyé trop de demandes.\",\n",
      "    \"Zoom in\": \"Agrandir\",\n",
      "    \"Zoom out\": \"Dézoomer\",\n",
      "    \"hCaptcha Privacy Policy\": \"Politique de confidentialité de hCaptcha\",\n",
      "    \"hCaptcha Terms of Service\": \"Conditions d'utilisation de hCaptcha\",\n",
      "    \"hCaptcha checkbox. Select in order to trigger the challenge, or to bypass it if you have an accessibility cookie.\": \"Case à cocher hCaptcha. Sélectionnez pour déclencher le défi, ou pour le contourner si vous avez un cookie d'accessibilité.\",\n",
      "    \"hCaptcha checkbox. You are verified\": \"Case à cocher hCaptcha. Vous êtes vérifié\",\n",
      "    \"hCaptcha is a service that reduces bots and spam by asking simple questions. Please follow the instructions at the top of the screen for each challenge. For more info visit\": \"hCaptcha est un service qui réduit les robots et les spams en posant des questions simples. Veuillez suivre les instructions en haut de l'écran pour chaque défi. Pour plus d'informations, visitez\",\n",
      "    \"hCaptcha is a service that reduces bots and spam by asking simple questions. Please follow the instructions at the top of the screen for each challenge. For more information visit {{site-url}}\": \"hCaptcha est un service qui réduit les bots et le spam en posant des questions simples. Veuillez suivre les instructions en haut de l'écran pour chaque défi. Pour plus d'informations, visitez {{site-url}}\",\n",
      "    \"hCaptcha security token has expired. Please complete the challenge again.\": \"Le jeton de sécurité hCaptcha a expiré. Veuillez relever le défi à nouveau.\",\n",
      "    \"hCaptcha window closed due to timeout.\": \"La fenêtre hCaptcha s'est fermée en raison d'un délai d'expiration.\",\n",
      "    \"widget error message text\": \"texte du message d'erreur du widget\",\n",
      "    \"widget warning message text\": \"widget message d'avertissement texte\"\n",
      "}\n",
      "\n"
     ]
    }
   ],
   "source": [
    "import requests\n",
    "\n",
    "url = 'https://newassets.hcaptcha.com/captcha/v1/ee0b823/static/i18n/fr.json'\n",
    "captcha = requests.get(url, headers={'Origin': 'https://https://www.guerretribale.fr/', 'Referer': 'https://www.guerretribale.fr/'})\n",
    "\n",
    "print(captcha.text)\n",
    "\n",
    "# url = 'https://www.guerretribale.fr/page/auth'\n",
    "# myobj = {'username': 'arion1', 'password': 'MiMa5158**', 'remember-me': 'false' }\n",
    "\n",
    "# x = requests.post(url, data = myobj)\n",
    "\n",
    "# print(x.text)"
   ]
  },
  {
   "cell_type": "code",
   "execution_count": 100,
   "id": "e72b70ff",
   "metadata": {},
   "outputs": [
    {
     "name": "stderr",
     "output_type": "stream",
     "text": [
      "C:\\Users\\Zbook\\AppData\\Local\\Temp\\ipykernel_7948\\662443691.py:16: DeprecationWarning: executable_path has been deprecated, please pass in a Service object\n",
      "  driver = webdriver.Firefox(executable_path=DRIVER_PATH, options=opts)\n"
     ]
    }
   ],
   "source": [
    "import time\n",
    "from selenium import webdriver\n",
    "from selenium.webdriver.common.keys import Keys\n",
    "from selenium.webdriver.common.by import By\n",
    "from selenium.webdriver.support.ui import WebDriverWait\n",
    "from selenium.webdriver.support import expected_conditions as EC\n",
    "\n",
    "# Chemin vers le driver de votre navigateur\n",
    "DRIVER_PATH = 'C:/geckodriver.exe'\n",
    "\n",
    "# Configuration des options pour Firefox\n",
    "opts = webdriver.FirefoxOptions()\n",
    "opts.set_preference(\"general.useragent.override\", \"Mozilla/5.0 (Windows NT 10.0; rv:112.0) Gecko/20100101 Firefox/112.0\")\n",
    "\n",
    "# Ouvrir le navigateur\n",
    "driver = webdriver.Firefox(executable_path=DRIVER_PATH, options=opts)\n",
    "driver.get(\"https://www.guerretribale.fr/\")\n",
    "\n",
    "# Attendre que la page se charge\n",
    "wait = WebDriverWait(driver, 100)\n",
    "zone1 = wait.until(EC.presence_of_element_located((By.NAME, \"username\")))\n",
    "\n",
    "# Cliquer sur la zone de saisie\n",
    "zone1.click()\n",
    "\n",
    "# Saisir un texte\n",
    "zone1.send_keys(\"arion1\")\n",
    "\n",
    "# Cliquer sur la deuxième zone de saisie\n",
    "zone2 = wait.until(EC.presence_of_element_located((By.NAME, \"password\")))\n",
    "\n",
    "# Cliquer sur la zone de saisie\n",
    "zone2.click()\n",
    "\n",
    "# Saisir un texte\n",
    "zone2.send_keys(\"MiMa5158**\")\n",
    "\n",
    "# Soumettre le formulaire\n",
    "formulaire = wait.until(EC.presence_of_element_located((By.ID, \"login_form\")))\n",
    "formulaire.submit()\n",
    "\n",
    "# Attendre que la page se charge\n",
    "time.sleep(10) #delay of 10 seconds\n"
   ]
  },
  {
   "cell_type": "code",
   "execution_count": null,
   "id": "0c598e5b",
   "metadata": {},
   "outputs": [],
   "source": []
  }
 ],
 "metadata": {
  "kernelspec": {
   "display_name": "Python 3 (ipykernel)",
   "language": "python",
   "name": "python3"
  },
  "language_info": {
   "codemirror_mode": {
    "name": "ipython",
    "version": 3
   },
   "file_extension": ".py",
   "mimetype": "text/x-python",
   "name": "python",
   "nbconvert_exporter": "python",
   "pygments_lexer": "ipython3",
   "version": "3.9.13"
  }
 },
 "nbformat": 4,
 "nbformat_minor": 5
}
