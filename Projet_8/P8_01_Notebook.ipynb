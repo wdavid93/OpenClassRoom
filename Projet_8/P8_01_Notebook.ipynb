{
 "cells": [
  {
   "cell_type": "markdown",
   "metadata": {},
   "source": [
    "# Imports et fonctions"
   ]
  },
  {
   "cell_type": "code",
   "execution_count": 1,
   "metadata": {
    "ExecuteTime": {
     "end_time": "2020-04-19T08:22:59.494294Z",
     "start_time": "2020-04-19T08:22:59.487312Z"
    }
   },
   "outputs": [],
   "source": [
    "#paramètres de l'application\n",
    "import os\n",
    "S3 = True\n",
    "bucket_name = 'p8openclassrooms2'\n",
    "path_local = 'D:/extrait/*/'"
   ]
  },
  {
   "cell_type": "code",
   "execution_count": 2,
   "metadata": {},
   "outputs": [
    {
     "data": {
      "text/plain": [
       "'/home/ubuntu/miniconda3/envs/openclassrooms/bin/python3.7'"
      ]
     },
     "execution_count": 2,
     "metadata": {},
     "output_type": "execute_result"
    }
   ],
   "source": [
    "os.environ['PYSPARK_PYTHON']"
   ]
  },
  {
   "cell_type": "code",
   "execution_count": 3,
   "metadata": {},
   "outputs": [
    {
     "name": "stdout",
     "output_type": "stream",
     "text": [
      "PYSPARK_PYTHON  /home/ubuntu/miniconda3/envs/openclassrooms/bin/python3.7\n"
     ]
    }
   ],
   "source": [
    "print('PYSPARK_PYTHON ', os.environ['PYSPARK_PYTHON'])"
   ]
  },
  {
   "cell_type": "code",
   "execution_count": 4,
   "metadata": {},
   "outputs": [
    {
     "name": "stdout",
     "output_type": "stream",
     "text": [
      "PYSPARK_DRIVER_PYTHON  /home/ubuntu/miniconda3/envs/openclassrooms/bin/python3.7\n"
     ]
    }
   ],
   "source": [
    "print('PYSPARK_DRIVER_PYTHON ', os.environ['PYSPARK_DRIVER_PYTHON'])"
   ]
  },
  {
   "cell_type": "code",
   "execution_count": 5,
   "metadata": {},
   "outputs": [],
   "source": [
    "os.environ['PYSPARK_DRIVER_PYTHON'] = '/home/ubuntu/miniconda3/envs/openclassrooms/bin/python3.7'"
   ]
  },
  {
   "cell_type": "code",
   "execution_count": 6,
   "metadata": {
    "ExecuteTime": {
     "end_time": "2020-04-19T08:23:09.775301Z",
     "start_time": "2020-04-19T08:23:09.754358Z"
    }
   },
   "outputs": [],
   "source": [
    "import glob\n",
    "import time\n",
    "import io\n",
    "import os\n",
    "#import numpy as np\n",
    "from PIL import Image\n",
    "\n",
    "#import clés AWS\n",
    "def load_aws_key():\n",
    "    '''charge ID/KEY de AWS dans variables d'environnement si définies sinon dans le fichier keys.txt'''\n",
    "    with open('keys.txt','r') as f:\n",
    "        msg = f.read()\n",
    "    ID = str(msg).split('\\n')[0]\n",
    "    KEY = msg.split('\\n')[1]\n",
    "    os.environ[\"AWS_ACCESS_KEY_ID\"]=ID\n",
    "    os.environ[\"AWS_SECRET_ACCESS_KEY\"]=KEY\n",
    "    return ID, KEY\n",
    "\n",
    "if S3 is True:\n",
    "    load_aws_key()\n",
    "    \n",
    "#import Spark\n",
    "import findspark\n",
    "findspark.init()\n",
    "from pyspark import SparkContext, SparkConf\n",
    "from pyspark.sql import SparkSession\n",
    "from pyspark.ml.image import ImageSchema\n",
    "\n",
    "#définition packages spark\n",
    "#os.environ['PYSPARK_SUBMIT_ARGS'] = '--packages databricks:spark-deep-learning:1.5.0-spark2.4-s_2.11,org.apache.hadoop:hadoop-aws:2.7.0,com.amazonaws:aws-java-sdk:1.7.4,com.amazonaws:aws-java-sdk-s3:1.11.762 pyspark-shell'\n",
    "os.environ['PYSPARK_SUBMIT_ARGS'] = '--packages com.amazonaws:aws-java-sdk-pom:1.10.34,org.apache.hadoop:hadoop-aws:2.7.2,databricks:spark-deep-learning:1.5.0-spark2.4-s_2.11 pyspark-shell'\n",
    "\n",
    "\n",
    "def init_spark_session(S3=False, bucket = '', path_local=''):\n",
    "    '''Initie une session SPARK\n",
    "    :s3 : booléen : True = Stockage S3, False = stockage local\n",
    "    :return SparkContext'''\n",
    "\n",
    "    if S3 is True:\n",
    "        path_img = \"s3a://\"+bucket_name+\"/images/*\"\n",
    "        #spark._jsc.hadoopConfiguration().set(\"fs.s3a.path.style.access\", \"true\")\n",
    "        #spark._jsc.hadoopConfiguration().set(\"fs.s3a.endpoint\", \"s3-eu-west-3.amazonaws.com\")\n",
    "        #spark._jsc.hadoopConfiguration().set(\"fs.s3a.aws.access.key\", AWS_ACCESS_KEY_ID)\n",
    "        #spark._jsc.hadoopConfiguration().set(\"fs.s3a.aws.secret.key\", AWS_SECRET_ACCESS_KEY)\n",
    "        #spark._jsc.setSystemProperty(\"com.amazonaws.services.s3.enableV4\", \"true\")\n",
    "        \n",
    "        #configuration des identifiants Amazon\n",
    "        #sc._conf.setAll([\n",
    "        #('fs.s3a.impl', 'org.apache.hadoop.fs.s3a.S3AFileSystem'), \n",
    "        #('fs.s3a.access.key', AWS_ACCESS_KEY_ID),\n",
    "        #('fs.s3a.secret.key', AWS_SECRET_ACCESS_KEY)])\n",
    "    else:\n",
    "        path_img = path_local\n",
    "\n",
    "    # Instantiation d'une SparkSession et d'un Spark Context\n",
    "    spark = SparkSession.builder.master('local[*]').appName('P8').getOrCreate()\n",
    "    sc = spark.sparkContext\n",
    "\n",
    "    return sc, spark, path_img\n"
   ]
  },
  {
   "cell_type": "code",
   "execution_count": 7,
   "metadata": {
    "ExecuteTime": {
     "end_time": "2020-04-19T08:23:09.954519Z",
     "start_time": "2020-04-19T08:23:09.930584Z"
    }
   },
   "outputs": [],
   "source": [
    "#import pyspark\n",
    "from pyspark import SQLContext\n",
    "from pyspark.ml.classification import LogisticRegression\n",
    "from pyspark.ml.image import ImageSchema\n",
    "\n",
    "from pyspark.sql.functions import udf\n",
    "from pyspark.sql.functions import input_file_name\n",
    "from pyspark.sql.types import *\n",
    "#import pyspark\n",
    "\n",
    "def parse_categorie(path):\n",
    "    '''Renvoie la catégorie d\\'une image à partir de son chemin'''\n",
    "    if len(path) > 0:\n",
    "        #catégorie de l'image\n",
    "        return path.split('/')[-2]\n",
    "    else:\n",
    "        return ''\n",
    "\n",
    "def import_dossier(path):\n",
    "    '''Renvoie un dataframe spark des images à partir du chemin du dossier.\n",
    "    :param path: chemin vers le dossier\n",
    "    :return: dataframe spark contenant toutes les images du dossier'''\n",
    "\n",
    "    \n",
    "def load_data(path_img):\n",
    "    '''Chargement des dataframes: \n",
    "    Prend en entrée le répertoire qui contient les sous répertoires contenant les images\n",
    "    Renvoie en sortie un spark dataframe contenant les images et \n",
    "    un spark dataframe contenant les noms des fruits associés'''\n",
    "    #compteur\n",
    "    start = time.time()\n",
    "    #chargement dataframe des images\n",
    "    \n",
    "    df_img = spark.read.format(\"image\").load(path) # ne fonctionne pas si il y a des espaces dans le chemin\n",
    "    #df_img =  ImageSchema.readImages(path_img, dropImageFailures = True)\n",
    "    print('chargement effectué')\n",
    "    #récupération chemin à partir des images\n",
    "    df_img = df_img.withColumn(\"path\", input_file_name())\n",
    "    #catégorisation des images\n",
    "    udf_categorie = udf(parse_categorie, StringType())\n",
    "    df_img = df_img.withColumn('categorie', udf_categorie('path'))\n",
    "    print('Temps de chargement des images : {} secondes'.format(time.strftime('%S', time.gmtime(time.time()-start))))\n",
    "    \n",
    "    return df_img\n",
    "\n",
    "def preprocess_data(dataframe):\n",
    "    '''Renvoie le résultat de l'avant dernière couche de chaque image du dataframe via transform du ResNet50\n",
    "    return un df contenant des vecteurs de dimension 1x2048 '''\n",
    "    \n",
    "    from sparkdl import DeepImageFeaturizer\n",
    "    # DeepImageFeaturizer Applies the model specified by its popular name, \n",
    "    # with its prediction layer(s) chopped off\n",
    "    featurizer = DeepImageFeaturizer(inputCol=\"image\", outputCol=\"image_preprocessed\", modelName=\"ResNet50\")\n",
    "    output = featurizer.transform(dataframe).select(['path', 'categorie', 'image_preprocessed'])\n",
    "    del featurizer\n",
    "    return output\n",
    "\n",
    "def write_dataframe_parquet(dataframe, path_parquet):\n",
    "    '''Enregistrement du spark dataframe au format parquet au chemin specifie'''\n",
    "    try:\n",
    "        start = time.time()\n",
    "        dataframe.write.format(\"parquet\").mode('overwrite').save(path_parquet)\n",
    "        print('Enregistrement effectué.')\n",
    "            \n",
    "\n",
    "        print('Temps de sauvegarde : {} secondes'.format(time.strftime('%S', time.gmtime(time.time()-start))))\n",
    "    except:\n",
    "        print('L\\'Enregistrement a échoué.')\n",
    "    \n",
    "    return True\n",
    "\n",
    "def load_dataframe_parquet(path):\n",
    "    '''chargement du dataframe : entree parquet / sortie dataframe'''\n",
    "    return spark.read.format('parquet').load('path')"
   ]
  },
  {
   "cell_type": "markdown",
   "metadata": {},
   "source": [
    "# Exécution programme"
   ]
  },
  {
   "cell_type": "code",
   "execution_count": 8,
   "metadata": {
    "ExecuteTime": {
     "end_time": "2020-04-19T08:23:41.449146Z",
     "start_time": "2020-04-19T08:23:10.328280Z"
    },
    "scrolled": false
   },
   "outputs": [],
   "source": [
    "#initialisation instance spark\n",
    "sc, spark, path = init_spark_session(S3=S3, \n",
    "                                     bucket=bucket_name,\n",
    "                                     path_local = path_local)"
   ]
  },
  {
   "cell_type": "code",
   "execution_count": 9,
   "metadata": {
    "scrolled": true
   },
   "outputs": [
    {
     "data": {
      "text/plain": [
       "'s3a://p8openclassrooms2/images/*'"
      ]
     },
     "execution_count": 9,
     "metadata": {},
     "output_type": "execute_result"
    }
   ],
   "source": [
    "path"
   ]
  },
  {
   "cell_type": "code",
   "execution_count": 10,
   "metadata": {},
   "outputs": [
    {
     "data": {
      "text/html": [
       "\n",
       "        <div>\n",
       "            <p><b>SparkContext</b></p>\n",
       "\n",
       "            <p><a href=\"http://ip-172-31-39-113.eu-west-3.compute.internal:4040\">Spark UI</a></p>\n",
       "\n",
       "            <dl>\n",
       "              <dt>Version</dt>\n",
       "                <dd><code>v2.4.5</code></dd>\n",
       "              <dt>Master</dt>\n",
       "                <dd><code>local[*]</code></dd>\n",
       "              <dt>AppName</dt>\n",
       "                <dd><code>P8</code></dd>\n",
       "            </dl>\n",
       "        </div>\n",
       "        "
      ],
      "text/plain": [
       "<SparkContext master=local[*] appName=P8>"
      ]
     },
     "execution_count": 10,
     "metadata": {},
     "output_type": "execute_result"
    }
   ],
   "source": [
    "sc"
   ]
  },
  {
   "cell_type": "code",
   "execution_count": 11,
   "metadata": {
    "ExecuteTime": {
     "end_time": "2020-04-19T08:23:44.496866Z",
     "start_time": "2020-04-19T08:23:41.453145Z"
    },
    "scrolled": false
   },
   "outputs": [
    {
     "name": "stdout",
     "output_type": "stream",
     "text": [
      "chargement effectué\n",
      "Temps de chargement des images : 10 secondes\n"
     ]
    }
   ],
   "source": [
    "#chargement du dataframe contenant les images, leur chemin et leur catégorie\n",
    "spark_df = load_data(path)"
   ]
  },
  {
   "cell_type": "code",
   "execution_count": 12,
   "metadata": {
    "ExecuteTime": {
     "end_time": "2020-04-19T08:24:16.988153Z",
     "start_time": "2020-04-19T08:23:44.499864Z"
    },
    "scrolled": false
   },
   "outputs": [
    {
     "name": "stdout",
     "output_type": "stream",
     "text": [
      "+--------------------+--------------------+--------------+\n",
      "|               image|                path|     categorie|\n",
      "+--------------------+--------------------+--------------+\n",
      "|[s3a://p8openclas...|s3a://p8openclass...|Pineapple_Mini|\n",
      "|[s3a://p8openclas...|s3a://p8openclass...|Pineapple_Mini|\n",
      "|[s3a://p8openclas...|s3a://p8openclass...|Pineapple_Mini|\n",
      "|[s3a://p8openclas...|s3a://p8openclass...|Pineapple_Mini|\n",
      "|[s3a://p8openclas...|s3a://p8openclass...|Pineapple_Mini|\n",
      "|[s3a://p8openclas...|s3a://p8openclass...|Pineapple_Mini|\n",
      "|[s3a://p8openclas...|s3a://p8openclass...|Pineapple_Mini|\n",
      "|[s3a://p8openclas...|s3a://p8openclass...|Pineapple_Mini|\n",
      "|[s3a://p8openclas...|s3a://p8openclass...|Pineapple_Mini|\n",
      "|[s3a://p8openclas...|s3a://p8openclass...|Pineapple_Mini|\n",
      "|[s3a://p8openclas...|s3a://p8openclass...|Pineapple_Mini|\n",
      "|[s3a://p8openclas...|s3a://p8openclass...|Pineapple_Mini|\n",
      "|[s3a://p8openclas...|s3a://p8openclass...|Pineapple_Mini|\n",
      "|[s3a://p8openclas...|s3a://p8openclass...|Pineapple_Mini|\n",
      "|[s3a://p8openclas...|s3a://p8openclass...|Pineapple_Mini|\n",
      "|[s3a://p8openclas...|s3a://p8openclass...|Pineapple_Mini|\n",
      "|[s3a://p8openclas...|s3a://p8openclass...|Pineapple_Mini|\n",
      "|[s3a://p8openclas...|s3a://p8openclass...|Pineapple_Mini|\n",
      "|[s3a://p8openclas...|s3a://p8openclass...|Pineapple_Mini|\n",
      "|[s3a://p8openclas...|s3a://p8openclass...|Pineapple_Mini|\n",
      "+--------------------+--------------------+--------------+\n",
      "only showing top 20 rows\n",
      "\n"
     ]
    }
   ],
   "source": [
    "spark_df.show()"
   ]
  },
  {
   "cell_type": "code",
   "execution_count": 13,
   "metadata": {},
   "outputs": [
    {
     "name": "stdout",
     "output_type": "stream",
     "text": [
      "(100, 100, 3)\n"
     ]
    },
    {
     "data": {
      "image/png": "[encoded data removed]",
      "text/plain": [
       "<PIL.Image.Image image mode=RGB size=100x100 at 0x7FA434482E90>"
      ]
     },
     "execution_count": 13,
     "metadata": {},
     "output_type": "execute_result"
    }
   ],
   "source": [
    "#affichage d'une image\n",
    "import numpy as np\n",
    "a = spark_df.first()\n",
    "b = np.array(a.asDict()['image']['data']).reshape(100,100,3)[:,:,::-1]\n",
    "print(b.shape)\n",
    "Image.fromarray(b, 'RGB')"
   ]
  },
  {
   "cell_type": "code",
   "execution_count": 14,
   "metadata": {
    "ExecuteTime": {
     "end_time": "2020-04-19T08:24:44.390677Z",
     "start_time": "2020-04-19T08:24:16.991131Z"
    }
   },
   "outputs": [
    {
     "name": "stderr",
     "output_type": "stream",
     "text": [
      "Using TensorFlow backend.\n"
     ]
    }
   ],
   "source": [
    "#réduction de dimension et détermination des features : avant dernière couche du réseau de neurone ResNet50\n",
    "spark_df_preprocessed = preprocess_data(spark_df)"
   ]
  },
  {
   "cell_type": "code",
   "execution_count": 15,
   "metadata": {
    "ExecuteTime": {
     "end_time": "2020-04-19T08:25:14.993174Z",
     "start_time": "2020-04-19T08:24:44.395665Z"
    },
    "scrolled": false
   },
   "outputs": [
    {
     "name": "stdout",
     "output_type": "stream",
     "text": [
      "+--------------------+--------------+--------------------+\n",
      "|                path|     categorie|  image_preprocessed|\n",
      "+--------------------+--------------+--------------------+\n",
      "|s3a://p8openclass...|Pineapple_Mini|[0.29767277836799...|\n",
      "|s3a://p8openclass...|Pineapple_Mini|[0.19329126179218...|\n",
      "|s3a://p8openclass...|Pineapple_Mini|[0.17691281437873...|\n",
      "|s3a://p8openclass...|Pineapple_Mini|[0.07267054915428...|\n",
      "|s3a://p8openclass...|Pineapple_Mini|[0.29699259996414...|\n",
      "|s3a://p8openclass...|Pineapple_Mini|[0.66907835006713...|\n",
      "|s3a://p8openclass...|Pineapple_Mini|[0.13582731783390...|\n",
      "|s3a://p8openclass...|Pineapple_Mini|[0.34928953647613...|\n",
      "|s3a://p8openclass...|Pineapple_Mini|[0.15300172567367...|\n",
      "|s3a://p8openclass...|Pineapple_Mini|[0.24452272057533...|\n",
      "|s3a://p8openclass...|Pineapple_Mini|[0.44327688217163...|\n",
      "|s3a://p8openclass...|Pineapple_Mini|[0.38923558592796...|\n",
      "|s3a://p8openclass...|Pineapple_Mini|[0.08987802267074...|\n",
      "|s3a://p8openclass...|Pineapple_Mini|[0.13878703117370...|\n",
      "|s3a://p8openclass...|Pineapple_Mini|[0.13341808319091...|\n",
      "|s3a://p8openclass...|Pineapple_Mini|[0.07747288793325...|\n",
      "|s3a://p8openclass...|Pineapple_Mini|[0.05885516479611...|\n",
      "|s3a://p8openclass...|Pineapple_Mini|[0.31624656915664...|\n",
      "|s3a://p8openclass...|Pineapple_Mini|[0.14005701243877...|\n",
      "|s3a://p8openclass...|Pineapple_Mini|[0.16294324398040...|\n",
      "+--------------------+--------------+--------------------+\n",
      "only showing top 20 rows\n",
      "\n"
     ]
    }
   ],
   "source": [
    "#affichage du dataframe contenant le chemin vers les images, leur catégorie et le vecteur en sortie du Resnet50\n",
    "spark_df_preprocessed.show()"
   ]
  },
  {
   "cell_type": "code",
   "execution_count": 16,
   "metadata": {
    "ExecuteTime": {
     "end_time": "2020-04-19T08:25:15.005185Z",
     "start_time": "2020-04-19T08:25:14.997206Z"
    },
    "scrolled": true
   },
   "outputs": [],
   "source": [
    "if False:\n",
    "    spark_df_preprocessed.select(\"categorie\").distinct().show()\n",
    "    \n",
    "#exemple de retour en local après 7mn d'exécution'(!):\n",
    "#+--------------+\n",
    "#|     categorie|\n",
    "#+--------------+\n",
    "#|   Apple_Red_1|\n",
    "#|        Banana|\n",
    "#|          Kiwi|\n",
    "#|Apple_Golden_1|\n",
    "#+--------------+\n"
   ]
  },
  {
   "cell_type": "code",
   "execution_count": 17,
   "metadata": {
    "ExecuteTime": {
     "start_time": "2020-04-19T08:26:14.342Z"
    },
    "scrolled": true
   },
   "outputs": [
    {
     "name": "stdout",
     "output_type": "stream",
     "text": [
      "Enregistrement distant S3\n",
      "Enregistrement effectué.\n",
      "Temps de sauvegarde : 06 secondes\n"
     ]
    }
   ],
   "source": [
    "#enregistrement des données (format parquet)\n",
    "\n",
    "if True:\n",
    "    print('Enregistrement distant S3')\n",
    "    write_dataframe_parquet(spark_df_preprocessed, 's3a://'+ bucket_name + '/preprocessed_parquet')\n",
    "else:\n",
    "    print('Enregistrement local')\n",
    "    write_dataframe_parquet(spark_df_preprocessed, 'preprocessed_parquet')\n",
    "    "
   ]
  },
  {
   "cell_type": "code",
   "execution_count": 19,
   "metadata": {
    "ExecuteTime": {
     "end_time": "2020-04-19T08:25:15.061254Z",
     "start_time": "2020-04-19T08:25:15.035153Z"
    },
    "scrolled": false
   },
   "outputs": [
    {
     "name": "stdout",
     "output_type": "stream",
     "text": [
      "lecture distante S3\n",
      "+--------------------+------------------+--------------------+\n",
      "|                path|         categorie|  image_preprocessed|\n",
      "+--------------------+------------------+--------------------+\n",
      "|s3a://p8openclass...|          Kohlrabi|[0.87463319301605...|\n",
      "|s3a://p8openclass...|Melon_Piel_de_Sapo|[0.65477317571640...|\n",
      "|s3a://p8openclass...|              Pear|[0.19136892259120...|\n",
      "|s3a://p8openclass...|          Tomato_1|[1.19687497615814...|\n",
      "|s3a://p8openclass...|          Tomato_1|[2.97429084777832...|\n",
      "|s3a://p8openclass...|    Apple_Golden_2|[0.73310208320617...|\n",
      "|s3a://p8openclass...|              Kiwi|[0.29574644565582...|\n",
      "|s3a://p8openclass...|              Kiwi|[0.0,0.0,0.650950...|\n",
      "|s3a://p8openclass...|Melon_Piel_de_Sapo|[0.73896831274032...|\n",
      "|s3a://p8openclass...|      Pepper_Green|[1.70214176177978...|\n",
      "|s3a://p8openclass...|              Kiwi|[0.32534143328666...|\n",
      "|s3a://p8openclass...|          Tomato_1|[1.09860467910766...|\n",
      "|s3a://p8openclass...|          Tomato_1|[2.88223958015441...|\n",
      "|s3a://p8openclass...|Melon_Piel_de_Sapo|[0.59860134124755...|\n",
      "|s3a://p8openclass...|              Pear|[0.08344522863626...|\n",
      "|s3a://p8openclass...|              Pear|[0.19651949405670...|\n",
      "|s3a://p8openclass...|              Pear|[0.17568522691726...|\n",
      "|s3a://p8openclass...|              Pear|[0.62430298328399...|\n",
      "|s3a://p8openclass...|      Pepper_Green|[3.35901713371276...|\n",
      "|s3a://p8openclass...|          Tomato_1|[1.08164167404174...|\n",
      "+--------------------+------------------+--------------------+\n",
      "only showing top 20 rows\n",
      "\n"
     ]
    }
   ],
   "source": [
    "#lecture des données enregistrées (format parquet)\n",
    "if True:\n",
    "    if True:\n",
    "        print('lecture distante S3')\n",
    "        df_parquet = spark.read.format('parquet').load('s3a://' + bucket_name + '/preprocessed_parquet')\n",
    "    else:\n",
    "        print('lecture locale')\n",
    "        df_parquet = spark.read.format('parquet').load('preprocessed_parquet')\n",
    "    df_parquet.show()"
   ]
  },
  {
   "cell_type": "code",
   "execution_count": null,
   "metadata": {},
   "outputs": [],
   "source": []
  }
 ],
 "metadata": {
  "kernelspec": {
   "display_name": "Python 3 (ipykernel)",
   "language": "python",
   "name": "python3"
  },
  "language_info": {
   "codemirror_mode": {
    "name": "ipython",
    "version": 3
   },
   "file_extension": ".py",
   "mimetype": "text/x-python",
   "name": "python",
   "nbconvert_exporter": "python",
   "pygments_lexer": "ipython3",
   "version": "3.11.4"
  },
  "toc": {
   "base_numbering": 1,
   "nav_menu": {},
   "number_sections": true,
   "sideBar": true,
   "skip_h1_title": false,
   "title_cell": "Table of Contents",
   "title_sidebar": "Contents",
   "toc_cell": false,
   "toc_position": {
    "height": "calc(100% - 180px)",
    "left": "10px",
    "top": "150px",
    "width": "165px"
   },
   "toc_section_display": true,
   "toc_window_display": false
  }
 },
 "nbformat": 4,
 "nbformat_minor": 2
}
