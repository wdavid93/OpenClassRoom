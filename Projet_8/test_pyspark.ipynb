{
 "cells": [
  {
   "cell_type": "code",
   "execution_count": 1,
   "id": "ef3c75b4",
   "metadata": {},
   "outputs": [
    {
     "data": {
      "text/plain": [
       "'C:\\\\Program Files\\\\spark-3.5.0-bin-hadoop3'"
      ]
     },
     "execution_count": 1,
     "metadata": {},
     "output_type": "execute_result"
    }
   ],
   "source": [
    "import findspark\n",
    "findspark.init()\n",
    "findspark.find()"
   ]
  },
  {
   "cell_type": "code",
   "execution_count": 2,
   "id": "c90cdc8f",
   "metadata": {},
   "outputs": [
    {
     "name": "stdout",
     "output_type": "stream",
     "text": [
      "+------+--------+\n",
      "| Fruit|Quantité|\n",
      "+------+--------+\n",
      "| Pomme|       5|\n",
      "|Banane|       8|\n",
      "|Orange|      12|\n",
      "+------+--------+\n",
      "\n",
      "root\n",
      " |-- Fruit: string (nullable = true)\n",
      " |-- Quantité: long (nullable = true)\n",
      "\n",
      "+------+-------------+\n",
      "| Fruit|sum(Quantité)|\n",
      "+------+-------------+\n",
      "| Pomme|            5|\n",
      "|Banane|            8|\n",
      "|Orange|           12|\n",
      "+------+-------------+\n",
      "\n"
     ]
    }
   ],
   "source": [
    "# Importez les modules nécessaires\n",
    "from pyspark.sql import SparkSession\n",
    "\n",
    "# Initialisez la session Spark\n",
    "spark = SparkSession.builder.appName(\"exemple-fruits\").getOrCreate()\n",
    "\n",
    "# Créer un DataFrame à partir d'une liste de tuples\n",
    "data = [(\"Pomme\", 5), (\"Banane\", 8), (\"Orange\", 12)]\n",
    "colonnes = [\"Fruit\", \"Quantité\"]\n",
    "\n",
    "df_fruits = spark.createDataFrame(data, colonnes)\n",
    "\n",
    "# Afficher les premières lignes du DataFrame\n",
    "df_fruits.show()\n",
    "\n",
    "# Afficher le schéma du DataFrame\n",
    "df_fruits.printSchema()\n",
    "\n",
    "# Effectuer des opérations de transformation (par exemple, filtrage, regroupement, etc.)\n",
    "df_fruits_filtre = df_fruits.filter(df_fruits[\"Quantité\"] > 5)\n",
    "\n",
    "# Calculer la somme de la quantité par fruit\n",
    "df_somme_quantite = df_fruits.groupBy(\"Fruit\").sum(\"Quantité\")\n",
    "\n",
    "# Afficher le résultat\n",
    "df_somme_quantite.show()\n",
    "\n",
    "# Enregistrer le DataFrame résultant dans un fichier CSV\n",
    "# df_somme_quantite.write.csv(\"C:\\\\Users\\\\Zbook\\\\OpenClassRoom\\\\ProjetsGitsOCR\\\\Projet_8\\\\data\\\\Result\\\\resultat2.csv\", header=True)\n",
    "\n",
    "# Arrêter la session Spark\n",
    "spark.stop()\n"
   ]
  },
  {
   "cell_type": "code",
   "execution_count": 3,
   "id": "4d4bc5ed",
   "metadata": {},
   "outputs": [
    {
     "name": "stdout",
     "output_type": "stream",
     "text": [
      "+--------+-----------+\n",
      "|language|users_count|\n",
      "+--------+-----------+\n",
      "|    Java|      20000|\n",
      "|  Python|     100000|\n",
      "|   Scala|       3000|\n",
      "+--------+-----------+\n",
      "\n"
     ]
    }
   ],
   "source": [
    "# Import PySpark\n",
    "from pyspark.sql import SparkSession\n",
    "\n",
    "#Create SparkSession\n",
    "spark = SparkSession.builder.appName('SparkByExamples.com').getOrCreate()\n",
    "\n",
    "# Data\n",
    "data = [(\"Java\", \"20000\"), (\"Python\", \"100000\"), (\"Scala\", \"3000\")]\n",
    "\n",
    "# Columns\n",
    "columns = [\"language\",\"users_count\"]\n",
    "\n",
    "# Create DataFrame\n",
    "df = spark.createDataFrame(data).toDF(*columns)\n",
    "\n",
    "# Print DataFrame\n",
    "df.show()"
   ]
  },
  {
   "cell_type": "code",
   "execution_count": 4,
   "id": "9d5c49be",
   "metadata": {},
   "outputs": [],
   "source": [
    "from pyspark.sql import SparkSession\n",
    "\n",
    "spark = SparkSession.builder.appName('FeatExtr').getOrCreate()"
   ]
  },
  {
   "cell_type": "code",
   "execution_count": null,
   "id": "3bcfd505",
   "metadata": {},
   "outputs": [],
   "source": []
  }
 ],
 "metadata": {
  "kernelspec": {
   "display_name": "Python 3 (ipykernel)",
   "language": "python",
   "name": "python3"
  },
  "language_info": {
   "codemirror_mode": {
    "name": "ipython",
    "version": 3
   },
   "file_extension": ".py",
   "mimetype": "text/x-python",
   "name": "python",
   "nbconvert_exporter": "python",
   "pygments_lexer": "ipython3",
   "version": "3.11.4"
  }
 },
 "nbformat": 4,
 "nbformat_minor": 5
}
