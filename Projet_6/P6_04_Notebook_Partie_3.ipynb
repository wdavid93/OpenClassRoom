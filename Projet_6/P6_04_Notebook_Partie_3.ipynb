{
 "cells": [
  {
   "cell_type": "markdown",
   "metadata": {},
   "source": [
    "# Import données"
   ]
  },
  {
   "cell_type": "code",
   "execution_count": 1,
   "metadata": {
    "ExecuteTime": {
     "end_time": "2020-02-16T19:06:48.351039Z",
     "start_time": "2020-02-16T19:06:48.305161Z"
    }
   },
   "outputs": [],
   "source": [
    "import pandas as pd\n",
    "import numpy as np\n",
    "import seaborn as sns\n",
    "import matplotlib.pyplot as plt"
   ]
  },
  {
   "cell_type": "code",
   "execution_count": 18,
   "metadata": {
    "ExecuteTime": {
     "end_time": "2020-02-16T19:06:48.384950Z",
     "start_time": "2020-02-16T19:06:48.361013Z"
    }
   },
   "outputs": [
    {
     "data": {
      "text/plain": [
       "['data_saved\\\\array_descripteurs.csv.npy',\n",
       " 'data_saved\\\\array_descripteurs_reduit.csv.npy',\n",
       " 'data_saved\\\\array_features_descripteurs.npy',\n",
       " 'data_saved\\\\data_categories.csv',\n",
       " 'data_saved\\\\data_final.csv',\n",
       " 'data_saved\\\\features_total.pickle',\n",
       " 'data_saved\\\\jeu_complet_kmeans.csv',\n",
       " 'data_saved\\\\test.csv',\n",
       " 'data_saved\\\\test_images_array.npy',\n",
       " 'data_saved\\\\train.csv',\n",
       " 'data_saved\\\\train_images_array.npy',\n",
       " 'data_saved\\\\transfer_learning_output.npy',\n",
       " 'data_saved\\\\X_combined.npy',\n",
       " 'data_saved\\\\X_reduce_NLP.csv.npy']"
      ]
     },
     "execution_count": 18,
     "metadata": {},
     "output_type": "execute_result"
    }
   ],
   "source": [
    "import glob\n",
    "glob.glob('data_saved/*')"
   ]
  },
  {
   "cell_type": "code",
   "execution_count": 19,
   "metadata": {
    "ExecuteTime": {
     "end_time": "2020-02-16T19:06:48.529563Z",
     "start_time": "2020-02-16T19:06:48.389937Z"
    }
   },
   "outputs": [],
   "source": [
    "data = pd.read_csv('data_saved/data_final.csv')"
   ]
  },
  {
   "cell_type": "code",
   "execution_count": 20,
   "metadata": {
    "ExecuteTime": {
     "end_time": "2020-02-16T19:06:48.613341Z",
     "start_time": "2020-02-16T19:06:48.534549Z"
    }
   },
   "outputs": [
    {
     "data": {
      "text/html": [
       "<div>\n",
       "<style scoped>\n",
       "    .dataframe tbody tr th:only-of-type {\n",
       "        vertical-align: middle;\n",
       "    }\n",
       "\n",
       "    .dataframe tbody tr th {\n",
       "        vertical-align: top;\n",
       "    }\n",
       "\n",
       "    .dataframe thead th {\n",
       "        text-align: right;\n",
       "    }\n",
       "</style>\n",
       "<table border=\"1\" class=\"dataframe\">\n",
       "  <thead>\n",
       "    <tr style=\"text-align: right;\">\n",
       "      <th></th>\n",
       "      <th>Unnamed: 0</th>\n",
       "      <th>uniq_id</th>\n",
       "      <th>crawl_timestamp</th>\n",
       "      <th>product_url</th>\n",
       "      <th>product_name</th>\n",
       "      <th>pid</th>\n",
       "      <th>retail_price</th>\n",
       "      <th>discounted_price</th>\n",
       "      <th>image</th>\n",
       "      <th>is_FK_Advantage_product</th>\n",
       "      <th>...</th>\n",
       "      <th>product_rating</th>\n",
       "      <th>overall_rating</th>\n",
       "      <th>brand</th>\n",
       "      <th>product_specifications</th>\n",
       "      <th>cat_lvl_1</th>\n",
       "      <th>cat_lvl_2</th>\n",
       "      <th>cat_lvl_3</th>\n",
       "      <th>X_TSNE</th>\n",
       "      <th>Y_TSNE</th>\n",
       "      <th>label</th>\n",
       "    </tr>\n",
       "  </thead>\n",
       "  <tbody>\n",
       "    <tr>\n",
       "      <th>0</th>\n",
       "      <td>165</td>\n",
       "      <td>785b4383b12106dd172306d427d8f7b2</td>\n",
       "      <td>2015-12-01 12:40:44 +0000</td>\n",
       "      <td>http://www.flipkart.com/rockmantra-cute-two-ca...</td>\n",
       "      <td>Rockmantra Cute Two Cats Ceramic Mug</td>\n",
       "      <td>MUGEAGGKFBTYPN4Z</td>\n",
       "      <td>499.0</td>\n",
       "      <td>349.0</td>\n",
       "      <td>785b4383b12106dd172306d427d8f7b2.jpg</td>\n",
       "      <td>False</td>\n",
       "      <td>...</td>\n",
       "      <td>No rating available</td>\n",
       "      <td>No rating available</td>\n",
       "      <td>NaN</td>\n",
       "      <td>{\"product_specification\"=&gt;[{\"key\"=&gt;\"Type\", \"va...</td>\n",
       "      <td>Kitchen &amp; Dining</td>\n",
       "      <td>Coffee Mugs</td>\n",
       "      <td>Rockmantra Coffee Mugs</td>\n",
       "      <td>6.238409</td>\n",
       "      <td>-29.466137</td>\n",
       "      <td>9</td>\n",
       "    </tr>\n",
       "    <tr>\n",
       "      <th>1</th>\n",
       "      <td>248</td>\n",
       "      <td>45d0af2c709de47268c80c35a117de44</td>\n",
       "      <td>2015-12-01 12:40:44 +0000</td>\n",
       "      <td>http://www.flipkart.com/malhar-niko-male-doll-...</td>\n",
       "      <td>Malhar Niko Male Doll Showpiece  -  25 cm</td>\n",
       "      <td>SHIEY382SR75SXEY</td>\n",
       "      <td>6395.0</td>\n",
       "      <td>5436.0</td>\n",
       "      <td>45d0af2c709de47268c80c35a117de44.jpg</td>\n",
       "      <td>True</td>\n",
       "      <td>...</td>\n",
       "      <td>No rating available</td>\n",
       "      <td>No rating available</td>\n",
       "      <td>Malhar</td>\n",
       "      <td>{\"product_specification\"=&gt;[{\"key\"=&gt;\"Brand\", \"v...</td>\n",
       "      <td>Home Decor &amp; Festive Needs</td>\n",
       "      <td>Showpieces</td>\n",
       "      <td>Malhar Showpieces</td>\n",
       "      <td>-5.952946</td>\n",
       "      <td>27.159256</td>\n",
       "      <td>0</td>\n",
       "    </tr>\n",
       "    <tr>\n",
       "      <th>2</th>\n",
       "      <td>310</td>\n",
       "      <td>64b463dc0b75ae40a848498c657041e6</td>\n",
       "      <td>2015-12-01 06:13:00 +0000</td>\n",
       "      <td>http://www.flipkart.com/linksys-smart-wi-fi-ro...</td>\n",
       "      <td>Linksys Smart Wi-Fi Router</td>\n",
       "      <td>RTRDZTF9DBT4CW8U</td>\n",
       "      <td>14999.0</td>\n",
       "      <td>13500.0</td>\n",
       "      <td>64b463dc0b75ae40a848498c657041e6.jpg</td>\n",
       "      <td>True</td>\n",
       "      <td>...</td>\n",
       "      <td>No rating available</td>\n",
       "      <td>No rating available</td>\n",
       "      <td>Linksys</td>\n",
       "      <td>{\"product_specification\"=&gt;[{\"key\"=&gt;\"Encryption...</td>\n",
       "      <td>Computers</td>\n",
       "      <td>Network Components</td>\n",
       "      <td>Routers</td>\n",
       "      <td>37.652250</td>\n",
       "      <td>-8.064914</td>\n",
       "      <td>0</td>\n",
       "    </tr>\n",
       "    <tr>\n",
       "      <th>3</th>\n",
       "      <td>685</td>\n",
       "      <td>6b5cdfe68595fbcab0e05dc625d3d66a</td>\n",
       "      <td>2015-12-31 09:19:31 +0000</td>\n",
       "      <td>http://www.flipkart.com/richfeel-sunshield-spf...</td>\n",
       "      <td>Richfeel Sunshield - SPF 30 PA++</td>\n",
       "      <td>SNRE4F2GBWVF6UKR</td>\n",
       "      <td>299.0</td>\n",
       "      <td>224.0</td>\n",
       "      <td>6b5cdfe68595fbcab0e05dc625d3d66a.jpg</td>\n",
       "      <td>False</td>\n",
       "      <td>...</td>\n",
       "      <td>No rating available</td>\n",
       "      <td>No rating available</td>\n",
       "      <td>NaN</td>\n",
       "      <td>{\"product_specification\"=&gt;[{\"key\"=&gt;\"Quantity\",...</td>\n",
       "      <td>Beauty and Personal Care</td>\n",
       "      <td>Body and Skin Care</td>\n",
       "      <td>Face Care</td>\n",
       "      <td>-0.870694</td>\n",
       "      <td>-9.555494</td>\n",
       "      <td>9</td>\n",
       "    </tr>\n",
       "    <tr>\n",
       "      <th>4</th>\n",
       "      <td>843</td>\n",
       "      <td>e86daf9ebcdfc5c5dd088cdb7f8f8db6</td>\n",
       "      <td>2015-12-29 05:07:38 +0000</td>\n",
       "      <td>http://www.flipkart.com/epresent-mfan-1-fan-us...</td>\n",
       "      <td>Epresent Mfan 1 Fan USB USB Fan</td>\n",
       "      <td>USGEB3HTYWCYT2HY</td>\n",
       "      <td>269.0</td>\n",
       "      <td>219.0</td>\n",
       "      <td>e86daf9ebcdfc5c5dd088cdb7f8f8db6.jpg</td>\n",
       "      <td>False</td>\n",
       "      <td>...</td>\n",
       "      <td>No rating available</td>\n",
       "      <td>No rating available</td>\n",
       "      <td>Epresent</td>\n",
       "      <td>{\"product_specification\"=&gt;[{\"key\"=&gt;\"Brand\", \"v...</td>\n",
       "      <td>Computers</td>\n",
       "      <td>Laptop Accessories</td>\n",
       "      <td>USB Gadgets</td>\n",
       "      <td>-12.526855</td>\n",
       "      <td>-30.653902</td>\n",
       "      <td>9</td>\n",
       "    </tr>\n",
       "  </tbody>\n",
       "</table>\n",
       "<p>5 rows × 21 columns</p>\n",
       "</div>"
      ],
      "text/plain": [
       "   Unnamed: 0                           uniq_id            crawl_timestamp  \\\n",
       "0         165  785b4383b12106dd172306d427d8f7b2  2015-12-01 12:40:44 +0000   \n",
       "1         248  45d0af2c709de47268c80c35a117de44  2015-12-01 12:40:44 +0000   \n",
       "2         310  64b463dc0b75ae40a848498c657041e6  2015-12-01 06:13:00 +0000   \n",
       "3         685  6b5cdfe68595fbcab0e05dc625d3d66a  2015-12-31 09:19:31 +0000   \n",
       "4         843  e86daf9ebcdfc5c5dd088cdb7f8f8db6  2015-12-29 05:07:38 +0000   \n",
       "\n",
       "                                         product_url  \\\n",
       "0  http://www.flipkart.com/rockmantra-cute-two-ca...   \n",
       "1  http://www.flipkart.com/malhar-niko-male-doll-...   \n",
       "2  http://www.flipkart.com/linksys-smart-wi-fi-ro...   \n",
       "3  http://www.flipkart.com/richfeel-sunshield-spf...   \n",
       "4  http://www.flipkart.com/epresent-mfan-1-fan-us...   \n",
       "\n",
       "                                product_name               pid  retail_price  \\\n",
       "0       Rockmantra Cute Two Cats Ceramic Mug  MUGEAGGKFBTYPN4Z         499.0   \n",
       "1  Malhar Niko Male Doll Showpiece  -  25 cm  SHIEY382SR75SXEY        6395.0   \n",
       "2                 Linksys Smart Wi-Fi Router  RTRDZTF9DBT4CW8U       14999.0   \n",
       "3           Richfeel Sunshield - SPF 30 PA++  SNRE4F2GBWVF6UKR         299.0   \n",
       "4            Epresent Mfan 1 Fan USB USB Fan  USGEB3HTYWCYT2HY         269.0   \n",
       "\n",
       "   discounted_price                                 image  \\\n",
       "0             349.0  785b4383b12106dd172306d427d8f7b2.jpg   \n",
       "1            5436.0  45d0af2c709de47268c80c35a117de44.jpg   \n",
       "2           13500.0  64b463dc0b75ae40a848498c657041e6.jpg   \n",
       "3             224.0  6b5cdfe68595fbcab0e05dc625d3d66a.jpg   \n",
       "4             219.0  e86daf9ebcdfc5c5dd088cdb7f8f8db6.jpg   \n",
       "\n",
       "   is_FK_Advantage_product  ...       product_rating       overall_rating  \\\n",
       "0                    False  ...  No rating available  No rating available   \n",
       "1                     True  ...  No rating available  No rating available   \n",
       "2                     True  ...  No rating available  No rating available   \n",
       "3                    False  ...  No rating available  No rating available   \n",
       "4                    False  ...  No rating available  No rating available   \n",
       "\n",
       "      brand                             product_specifications  \\\n",
       "0       NaN  {\"product_specification\"=>[{\"key\"=>\"Type\", \"va...   \n",
       "1    Malhar  {\"product_specification\"=>[{\"key\"=>\"Brand\", \"v...   \n",
       "2   Linksys  {\"product_specification\"=>[{\"key\"=>\"Encryption...   \n",
       "3       NaN  {\"product_specification\"=>[{\"key\"=>\"Quantity\",...   \n",
       "4  Epresent  {\"product_specification\"=>[{\"key\"=>\"Brand\", \"v...   \n",
       "\n",
       "                    cat_lvl_1           cat_lvl_2               cat_lvl_3  \\\n",
       "0            Kitchen & Dining         Coffee Mugs  Rockmantra Coffee Mugs   \n",
       "1  Home Decor & Festive Needs          Showpieces       Malhar Showpieces   \n",
       "2                   Computers  Network Components                 Routers   \n",
       "3    Beauty and Personal Care  Body and Skin Care               Face Care   \n",
       "4                   Computers  Laptop Accessories             USB Gadgets   \n",
       "\n",
       "      X_TSNE     Y_TSNE  label  \n",
       "0   6.238409 -29.466137      9  \n",
       "1  -5.952946  27.159256      0  \n",
       "2  37.652250  -8.064914      0  \n",
       "3  -0.870694  -9.555494      9  \n",
       "4 -12.526855 -30.653902      9  \n",
       "\n",
       "[5 rows x 21 columns]"
      ]
     },
     "execution_count": 20,
     "metadata": {},
     "output_type": "execute_result"
    }
   ],
   "source": [
    "data.head()"
   ]
  },
  {
   "cell_type": "markdown",
   "metadata": {},
   "source": [
    "# Taille des images pour visualisation"
   ]
  },
  {
   "cell_type": "code",
   "execution_count": 21,
   "metadata": {
    "ExecuteTime": {
     "end_time": "2020-02-16T19:06:48.636279Z",
     "start_time": "2020-02-16T19:06:48.618327Z"
    }
   },
   "outputs": [],
   "source": [
    "import cv2\n",
    "\n",
    "def resize(img_filename, height):\n",
    "    original_path = 'data/Images/'\n",
    "    final_path = 'data/Resized_Images/'\n",
    "    if 'Images/' in img_filename:\n",
    "        img_filename = img_filename.split(\"Images/\")[1]\n",
    "    \n",
    "    #chargement image\n",
    "    img = cv2.imread(original_path + str(img_filename), cv2.IMREAD_UNCHANGED)\n",
    "    \n",
    "    #proportions de l'image\n",
    "    ratio = img.shape[0]/img.shape[1]\n",
    "    width = int(height / ratio)\n",
    "    \n",
    "    #recadrer image\n",
    "    resized = cv2.resize(img, (width, height), interpolation = cv2.INTER_AREA)\n",
    "    \n",
    "    #save image\n",
    "    cv2.imwrite(str(final_path) + str(img_filename), resized)\n",
    "    del width, img, ratio \n",
    "    return True"
   ]
  },
  {
   "cell_type": "code",
   "execution_count": 22,
   "metadata": {
    "ExecuteTime": {
     "end_time": "2020-02-16T19:06:48.660214Z",
     "start_time": "2020-02-16T19:06:48.640267Z"
    }
   },
   "outputs": [],
   "source": [
    "if False:\n",
    "    from ipywidgets import IntProgress\n",
    "\n",
    "    f = IntProgress(min=0, max=len(data['image'].tolist())) # instantiate the bar\n",
    "    display(f) # display the bar\n",
    "    k=0\n",
    "    for image in data['image'].tolist():\n",
    "        resize(image, height=150)\n",
    "        k+=1\n",
    "        f.value = k # signal to increment the progress bar"
   ]
  },
  {
   "cell_type": "code",
   "execution_count": null,
   "metadata": {},
   "outputs": [],
   "source": []
  },
  {
   "cell_type": "markdown",
   "metadata": {},
   "source": [
    "# Visualisation "
   ]
  },
  {
   "cell_type": "markdown",
   "metadata": {},
   "source": [
    "## Graphe fixe"
   ]
  },
  {
   "cell_type": "code",
   "execution_count": 23,
   "metadata": {
    "ExecuteTime": {
     "end_time": "2020-02-16T19:06:48.711077Z",
     "start_time": "2020-02-16T19:06:48.663206Z"
    }
   },
   "outputs": [
    {
     "data": {
      "text/html": [
       "<div>\n",
       "<style scoped>\n",
       "    .dataframe tbody tr th:only-of-type {\n",
       "        vertical-align: middle;\n",
       "    }\n",
       "\n",
       "    .dataframe tbody tr th {\n",
       "        vertical-align: top;\n",
       "    }\n",
       "\n",
       "    .dataframe thead th {\n",
       "        text-align: right;\n",
       "    }\n",
       "</style>\n",
       "<table border=\"1\" class=\"dataframe\">\n",
       "  <thead>\n",
       "    <tr style=\"text-align: right;\">\n",
       "      <th></th>\n",
       "      <th>Unnamed: 0</th>\n",
       "      <th>uniq_id</th>\n",
       "      <th>crawl_timestamp</th>\n",
       "      <th>product_url</th>\n",
       "      <th>product_name</th>\n",
       "      <th>pid</th>\n",
       "      <th>retail_price</th>\n",
       "      <th>discounted_price</th>\n",
       "      <th>image</th>\n",
       "      <th>is_FK_Advantage_product</th>\n",
       "      <th>...</th>\n",
       "      <th>product_rating</th>\n",
       "      <th>overall_rating</th>\n",
       "      <th>brand</th>\n",
       "      <th>product_specifications</th>\n",
       "      <th>cat_lvl_1</th>\n",
       "      <th>cat_lvl_2</th>\n",
       "      <th>cat_lvl_3</th>\n",
       "      <th>X_TSNE</th>\n",
       "      <th>Y_TSNE</th>\n",
       "      <th>label</th>\n",
       "    </tr>\n",
       "  </thead>\n",
       "  <tbody>\n",
       "    <tr>\n",
       "      <th>0</th>\n",
       "      <td>165</td>\n",
       "      <td>785b4383b12106dd172306d427d8f7b2</td>\n",
       "      <td>2015-12-01 12:40:44 +0000</td>\n",
       "      <td>http://www.flipkart.com/rockmantra-cute-two-ca...</td>\n",
       "      <td>Rockmantra Cute Two Cats Ceramic Mug</td>\n",
       "      <td>MUGEAGGKFBTYPN4Z</td>\n",
       "      <td>499.0</td>\n",
       "      <td>349.0</td>\n",
       "      <td>785b4383b12106dd172306d427d8f7b2.jpg</td>\n",
       "      <td>False</td>\n",
       "      <td>...</td>\n",
       "      <td>No rating available</td>\n",
       "      <td>No rating available</td>\n",
       "      <td>NaN</td>\n",
       "      <td>{\"product_specification\"=&gt;[{\"key\"=&gt;\"Type\", \"va...</td>\n",
       "      <td>Kitchen &amp; Dining</td>\n",
       "      <td>Coffee Mugs</td>\n",
       "      <td>Rockmantra Coffee Mugs</td>\n",
       "      <td>6.238409</td>\n",
       "      <td>-29.466137</td>\n",
       "      <td>9</td>\n",
       "    </tr>\n",
       "  </tbody>\n",
       "</table>\n",
       "<p>1 rows × 21 columns</p>\n",
       "</div>"
      ],
      "text/plain": [
       "   Unnamed: 0                           uniq_id            crawl_timestamp  \\\n",
       "0         165  785b4383b12106dd172306d427d8f7b2  2015-12-01 12:40:44 +0000   \n",
       "\n",
       "                                         product_url  \\\n",
       "0  http://www.flipkart.com/rockmantra-cute-two-ca...   \n",
       "\n",
       "                           product_name               pid  retail_price  \\\n",
       "0  Rockmantra Cute Two Cats Ceramic Mug  MUGEAGGKFBTYPN4Z         499.0   \n",
       "\n",
       "   discounted_price                                 image  \\\n",
       "0             349.0  785b4383b12106dd172306d427d8f7b2.jpg   \n",
       "\n",
       "   is_FK_Advantage_product  ...       product_rating       overall_rating  \\\n",
       "0                    False  ...  No rating available  No rating available   \n",
       "\n",
       "  brand                             product_specifications         cat_lvl_1  \\\n",
       "0   NaN  {\"product_specification\"=>[{\"key\"=>\"Type\", \"va...  Kitchen & Dining   \n",
       "\n",
       "     cat_lvl_2               cat_lvl_3    X_TSNE     Y_TSNE  label  \n",
       "0  Coffee Mugs  Rockmantra Coffee Mugs  6.238409 -29.466137      9  \n",
       "\n",
       "[1 rows x 21 columns]"
      ]
     },
     "execution_count": 23,
     "metadata": {},
     "output_type": "execute_result"
    }
   ],
   "source": [
    "data.head(1)"
   ]
  },
  {
   "cell_type": "code",
   "execution_count": 24,
   "metadata": {
    "ExecuteTime": {
     "end_time": "2020-02-16T19:06:48.743008Z",
     "start_time": "2020-02-16T19:06:48.714068Z"
    },
    "scrolled": true
   },
   "outputs": [
    {
     "data": {
      "text/plain": [
       "count      1049.000000\n",
       "mean       2186.197331\n",
       "std        7639.229411\n",
       "min          35.000000\n",
       "25%         555.000000\n",
       "50%         999.000000\n",
       "75%        1999.000000\n",
       "max      201000.000000\n",
       "Name: retail_price, dtype: float64"
      ]
     },
     "execution_count": 24,
     "metadata": {},
     "output_type": "execute_result"
    }
   ],
   "source": [
    "data['retail_price'].describe()"
   ]
  },
  {
   "cell_type": "code",
   "execution_count": 25,
   "metadata": {
    "ExecuteTime": {
     "end_time": "2020-02-16T19:06:48.775903Z",
     "start_time": "2020-02-16T19:06:48.756966Z"
    }
   },
   "outputs": [],
   "source": [
    "data['price_as_size'] = pd.qcut(data['retail_price'], 8, labels = [3,4,5,6,7,8,9,10])"
   ]
  },
  {
   "cell_type": "code",
   "execution_count": 26,
   "metadata": {
    "ExecuteTime": {
     "end_time": "2020-02-16T19:06:48.791338Z",
     "start_time": "2020-02-16T19:06:48.779893Z"
    }
   },
   "outputs": [],
   "source": [
    "#data['image'] = data['image'].apply([lambda x : str(x).split('/Images/')[1]])"
   ]
  },
  {
   "cell_type": "code",
   "execution_count": 27,
   "metadata": {
    "ExecuteTime": {
     "end_time": "2020-02-16T19:06:48.810526Z",
     "start_time": "2020-02-16T19:06:48.794569Z"
    }
   },
   "outputs": [],
   "source": [
    "from bokeh.plotting import figure, output_file, show, ColumnDataSource\n",
    "from bokeh.models.tools import HoverTool\n",
    "from bokeh.models import CategoricalColorMapper\n",
    "from bokeh.transform import factor_cmap, factor_mark\n",
    "from bokeh.palettes import Category20 as palette\n",
    "from bokeh.transform import linear_cmap\n",
    "from bokeh.models import  ColumnDataSource,Range1d, LabelSet, Label"
   ]
  },
  {
   "cell_type": "code",
   "execution_count": 28,
   "metadata": {
    "ExecuteTime": {
     "end_time": "2020-02-16T19:06:48.837455Z",
     "start_time": "2020-02-16T19:06:48.813518Z"
    }
   },
   "outputs": [],
   "source": [
    "data['label_string'] = data['label'].apply(lambda x : 'cat_'+ str(x))\n",
    "liste_categories = tuple([str(x) for x in data['label_string'].unique().tolist()])\n",
    "palette_sns = sns.color_palette(\"hls\", len(liste_categories))"
   ]
  },
  {
   "cell_type": "code",
   "execution_count": 29,
   "metadata": {
    "ExecuteTime": {
     "end_time": "2020-02-16T19:06:49.495099Z",
     "start_time": "2020-02-16T19:06:48.840447Z"
    }
   },
   "outputs": [
    {
     "data": {
      "image/png": "[encoded data removed]",
      "text/plain": [
       "<Figure size 864x576 with 1 Axes>"
      ]
     },
     "metadata": {
      "needs_background": "light"
     },
     "output_type": "display_data"
    }
   ],
   "source": [
    "plt.figure(figsize=(12,8))\n",
    "plt.title('')\n",
    "sns.scatterplot(x = data['X_TSNE'],\n",
    "               y= data['Y_TSNE'],\n",
    "               hue = data['label'], \n",
    "                palette = palette_sns, \n",
    "                legend='full')\n",
    "plt.show()"
   ]
  },
  {
   "cell_type": "markdown",
   "metadata": {},
   "source": [
    "## Graphe interactif"
   ]
  },
  {
   "cell_type": "code",
   "execution_count": 30,
   "metadata": {
    "ExecuteTime": {
     "end_time": "2020-02-16T19:06:49.515047Z",
     "start_time": "2020-02-16T19:06:49.498093Z"
    }
   },
   "outputs": [
    {
     "data": {
      "text/plain": [
       "['#1f77b4',\n",
       " '#aec7e8',\n",
       " '#ff7f0e',\n",
       " '#ffbb78',\n",
       " '#2ca02c',\n",
       " '#98df8a',\n",
       " '#d62728',\n",
       " '#ff9896',\n",
       " '#9467bd',\n",
       " '#c5b0d5']"
      ]
     },
     "execution_count": 30,
     "metadata": {},
     "output_type": "execute_result"
    }
   ],
   "source": [
    "palette[len(liste_categories)]"
   ]
  },
  {
   "cell_type": "code",
   "execution_count": 31,
   "metadata": {
    "ExecuteTime": {
     "end_time": "2020-02-16T19:06:49.809073Z",
     "start_time": "2020-02-16T19:06:49.523028Z"
    }
   },
   "outputs": [
    {
     "name": "stderr",
     "output_type": "stream",
     "text": [
      "BokehDeprecationWarning: 'legend' keyword is deprecated, use explicit 'legend_label', 'legend_field', or 'legend_group' keywords instead\n"
     ]
    }
   ],
   "source": [
    "\n",
    "#create ColumnDataSource from dataframe\n",
    "source = ColumnDataSource(data)\n",
    "\n",
    "output_file('index.html')\n",
    "\n",
    "# add plot\n",
    "p = figure(\n",
    "    title='Représentation de la catégorisation du jeu de données après traitement',\n",
    "    #tools='',\n",
    "    x_axis_label = 'TSNE X axis',\n",
    "    y_axis_label = 'TSNE Y axis',\n",
    "    plot_width=1400, \n",
    "    plot_height=800\n",
    ")\n",
    "\n",
    "\n",
    "colors = {}\n",
    "for label, color in zip(data['label_string'].unique().tolist(), palette[len(liste_categories)]):\n",
    "    colors[label] = color\n",
    "    \n",
    "color_map = CategoricalColorMapper(factors = list(colors.keys()),palette=palette[len(liste_categories)])\n",
    "\n",
    "# render glyph\n",
    "p.scatter('X_TSNE',\n",
    "          'Y_TSNE',\n",
    "          legend='label_string',\n",
    "          line_color = None,\n",
    "          #fill_color= colors,\n",
    "          #fill_color = colors,\n",
    "          color = {'field': 'label_string', 'transform': color_map},\n",
    "          source=source,\n",
    "          size='price_as_size',\n",
    "          line_width = 2,\n",
    ")\n",
    "\n",
    "# add text\n",
    "if False:\n",
    "    labels = LabelSet(x='X_TSNE', y='Y_TSNE', text='label', level='glyph',text_font_size='7pt',\n",
    "                      x_offset=5, y_offset=5, source=source, render_mode='canvas')\n",
    "    p.add_layout(labels)\n",
    "\n",
    "#add tooltips\n",
    "hover = HoverTool()\n",
    "hover.tooltips = \"\"\"\n",
    "    <div>\n",
    "        <div><b>@product_name</b></div>\n",
    "        <div><b>@cat_lvl_2</b></div>\n",
    "        </div>Kmeans Category : @label_string</div> \n",
    "        <div><img src=\"data/Resized_Images/@image\", alt='categorie' /></div>\n",
    "    </div>\"\"\"\n",
    "p.add_tools(hover)"
   ]
  },
  {
   "cell_type": "code",
   "execution_count": 32,
   "metadata": {
    "ExecuteTime": {
     "end_time": "2020-02-16T19:06:50.324151Z",
     "start_time": "2020-02-16T19:06:49.813070Z"
    }
   },
   "outputs": [],
   "source": [
    "show(p)"
   ]
  },
  {
   "cell_type": "code",
   "execution_count": null,
   "metadata": {
    "ExecuteTime": {
     "end_time": "2020-02-12T10:59:51.754262Z",
     "start_time": "2020-02-12T10:59:51.749274Z"
    }
   },
   "outputs": [],
   "source": []
  },
  {
   "cell_type": "code",
   "execution_count": null,
   "metadata": {},
   "outputs": [],
   "source": []
  }
 ],
 "metadata": {
  "kernelspec": {
   "display_name": "Python 3 (ipykernel)",
   "language": "python",
   "name": "python3"
  },
  "language_info": {
   "codemirror_mode": {
    "name": "ipython",
    "version": 3
   },
   "file_extension": ".py",
   "mimetype": "text/x-python",
   "name": "python",
   "nbconvert_exporter": "python",
   "pygments_lexer": "ipython3",
   "version": "3.11.4"
  },
  "toc": {
   "base_numbering": 1,
   "nav_menu": {},
   "number_sections": true,
   "sideBar": true,
   "skip_h1_title": false,
   "title_cell": "Table of Contents",
   "title_sidebar": "Contents",
   "toc_cell": false,
   "toc_position": {},
   "toc_section_display": true,
   "toc_window_display": true
  }
 },
 "nbformat": 4,
 "nbformat_minor": 2
}
