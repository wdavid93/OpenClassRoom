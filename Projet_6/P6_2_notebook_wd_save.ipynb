{
 "cells": [
  {
   "cell_type": "markdown",
   "id": "2994e2cb",
   "metadata": {},
   "source": [
    "Pour réaliser une classification supervisée d'images en utilisant Python, vous pouvez suivre plusieurs étapes, chacune d'entre elles étant encapsulée dans une fonction. Voici un exemple de ces étapes sous forme de fonctions :\n",
    "\n",
    "1. **Chargement des données** : Cette étape consiste à charger les images et leurs étiquettes à partir de fichiers ou de répertoires. Vous pouvez utiliser des bibliothèques telles que OpenCV ou PIL pour cela."
   ]
  },
  {
   "cell_type": "code",
   "execution_count": 1,
   "id": "9e72b824",
   "metadata": {},
   "outputs": [],
   "source": [
    "# import os\n",
    "# import cv2\n",
    "# import numpy as np\n",
    "\n",
    "# def load_data(data_dir):\n",
    "#     images = []\n",
    "#     labels = []\n",
    "\n",
    "#     for class_folder in os.listdir(data_dir):\n",
    "#         class_folder_path = os.path.join(data_dir, class_folder)\n",
    "#         # print(\"class_folder_path : \",class_folder_path)\n",
    "        \n",
    "# #         cleaned_folder_name = class_folder_path.strip().replace(\"\\r\", \"\").replace(\"\\n\", \"\").replace('\\', '\\\\')\n",
    "#         cleaned_folder_name = class_folder_path.strip().replace(\"\\r\", \"\").replace(\"\\n\", \"\")#.replace(\"\\\\\", \"\\\\\\\\\")\n",
    "\n",
    "#         # print(\"cleaned_folder_name : \",cleaned_folder_name)        \n",
    "#         # print(\" os.path.isdir(class_folder_path) \" ,os.path.isdir(cleaned_folder_name))\n",
    "#         if os.path.isdir(data_dir.strip()):\n",
    "#             # print(\"test passs*******************\")\n",
    "#             for image_file in os.listdir(data_dir):\n",
    "#                 # print(image_file)\n",
    "#                 # print(\" i end swi \" ,image_file.endswith('.jpg'))\n",
    "#                 if image_file.endswith('.jpg'):\n",
    "#                     image_path = os.path.join(cleaned_folder_name, image_file)\n",
    "#                     print(image_path)\n",
    "#                     image = cv2.imread(image_path)\n",
    "#                     if image is not None:\n",
    "#                         print(image)\n",
    "#                         images.append(image)\n",
    "#                         labels.append(class_folder)\n",
    "    \n",
    "#     return np.array(images), np.array(labels\n",
    "# Importation des bibliothèques nécessaires\n",
    "import os\n",
    "import cv2  # OpenCV pour le traitement d'images\n",
    "import numpy as np\n",
    "\n",
    "# Fonction pour charger les données à partir d'un répertoire\n",
    "def load_data(data_dir):\n",
    "    images = []  # Liste pour stocker les images\n",
    "    labels = []  # Liste pour stocker les libellés (classes)\n",
    "\n",
    "    # Parcourir chaque dossier de classe dans le répertoire des données\n",
    "    for class_folder in os.listdir(data_dir):\n",
    "        class_folder_path = os.path.join(data_dir, class_folder)\n",
    "        \n",
    "        # Nettoyer le nom du dossier en supprimant les caractères spéciaux indésirables\n",
    "        cleaned_folder_name = class_folder_path.strip().replace(\"\\r\", \"\").replace(\"\\n\", \"\")\n",
    "\n",
    "        # Vérifier si le chemin du dossier est un dossier valide\n",
    "        if os.path.isdir(data_dir):\n",
    "            # Parcourir chaque fichier image dans le dossier de classe\n",
    "            for image_file in os.listdir(data_dir):\n",
    "                # Vérifier si le fichier est une image au format .jpg\n",
    "                if image_file.endswith('.jpg'):\n",
    "                    image_path = os.path.join(data_dir, image_file)\n",
    "                    try: \n",
    "#                         print(image_path)\n",
    "                        # Lire l'image à l'aide d'OpenCV\n",
    "                        image = cv2.imread(image_path)\n",
    "\n",
    "                        # Vérifier si l'image a été lue avec succès\n",
    "                        if image is not None:\n",
    "                            images.append(image)  # Ajouter l'image à la liste des images\n",
    "                            labels.append(class_folder)  # Ajouter le libellé (classe) correspondant\n",
    "                        else:\n",
    "                            # Gérer l'erreur si la lecture de l'image échoue\n",
    "                            print(f\"Erreur de lecture de l'image : {image_path}\")\n",
    "                    except Exception as e:\n",
    "                       # Gérer toute autre exception\n",
    "                       print(f\"Erreur lors de la lecture de l'image {image_path} : {str(e)}\")\n",
    "\n",
    "    # Convertir les listes en tableaux NumPy pour une manipulation plus facile\n",
    "    return np.array(images), np.array(labels)\n",
    "\n",
    "# Explication du code :\n",
    "# - La fonction `load_data` prend en entrée le chemin vers un répertoire contenant des données d'images.\n",
    "# - Elle parcourt chaque dossier de classe dans le répertoire spécifié.\n",
    "# - Pour chaque classe, elle parcourt tous les fichiers image au format .jpg.\n",
    "# - Elle utilise OpenCV (cv2) pour lire chaque image.\n",
    "# - Les images lues avec succès sont ajoutées à la liste `images`.\n",
    "# - Les libellés (noms de classe) correspondant à chaque image sont ajoutés à la liste `labels`.\n",
    "# - À la fin, la fonction renvoie deux tableaux NumPy : un tableau d'images et un tableau de libellés.\n"
   ]
  },
  {
   "cell_type": "code",
   "execution_count": null,
   "id": "96cc7898",
   "metadata": {},
   "outputs": [],
   "source": [
    "data_dir = 'C:\\\\Users\\\\Zbook\\\\OpenClassRoom\\\\ProjetsGit\\\\Projet_6\\\\data\\\\Images'\n",
    "\n",
    "images, labels = load_data(data_dir)\n",
    "print(images)"
   ]
  },
  {
   "cell_type": "code",
   "execution_count": 7,
   "id": "11b3fb2e",
   "metadata": {},
   "outputs": [],
   "source": [
    "# texte = \"   Ceci est une chaîne avec des espaces en début et en fin   \"\n",
    "# texte_trim = texte.strip()\n",
    "\n",
    "# print(texte_trim)  # Ceci est une chaîne avec des espaces en début et en fin\n"
   ]
  },
  {
   "cell_type": "markdown",
   "id": "71ebc21c",
   "metadata": {},
   "source": [
    "2. **Prétraitement des données** : Cette étape implique le redimensionnement, la normalisation et la division des données en ensembles d'entraînement et de test."
   ]
  },
  {
   "cell_type": "code",
   "execution_count": 8,
   "id": "4f9ed4f9",
   "metadata": {},
   "outputs": [],
   "source": [
    "from sklearn.model_selection import train_test_split\n",
    "\n",
    "def preprocess_data(images, labels, test_size=0.2, random_state=42):\n",
    "    images = images / 255.0  # Normalisation\n",
    "    train_images, test_images, train_labels, test_labels = train_test_split(\n",
    "        images, labels, test_size=test_size, random_state=random_state)\n",
    "    \n",
    "    return train_images, test_images, train_labels, test_labels"
   ]
  },
  {
   "cell_type": "markdown",
   "id": "729f4328",
   "metadata": {},
   "source": [
    "3. **Création du modèle CNN** : Vous pouvez créer un modèle CNN à l'aide de bibliothèques telles que TensorFlow et Keras."
   ]
  },
  {
   "cell_type": "code",
   "execution_count": 9,
   "id": "9625e13c",
   "metadata": {},
   "outputs": [],
   "source": [
    "import tensorflow as tf\n",
    "from tensorflow import keras\n",
    "\n",
    "def create_cnn_model(input_shape, num_classes):\n",
    "    model = keras.Sequential([\n",
    "        keras.layers.Conv2D(32, (3, 3), activation='relu', input_shape=input_shape),\n",
    "        keras.layers.MaxPooling2D((2, 2)),\n",
    "        keras.layers.Flatten(),\n",
    "        keras.layers.Dense(128, activation='relu'),\n",
    "        keras.layers.Dense(num_classes, activation='softmax')\n",
    "    ])\n",
    "    \n",
    "    model.compile(optimizer='adam',\n",
    "                  loss='sparse_categorical_crossentropy',\n",
    "                  metrics=['accuracy'])\n",
    "    \n",
    "    return model"
   ]
  },
  {
   "cell_type": "markdown",
   "id": "4e9f918d",
   "metadata": {},
   "source": [
    "4. **Entraînement du modèle** : Cette étape consiste à entraîner le modèle sur les données d'entraînement."
   ]
  },
  {
   "cell_type": "code",
   "execution_count": 10,
   "id": "427bb1f5",
   "metadata": {},
   "outputs": [],
   "source": [
    "def train_model(model, train_images, train_labels, epochs=10):\n",
    "    model.fit(train_images, train_labels, epochs=epochs, verbose=2)\n",
    "    return model"
   ]
  },
  {
   "cell_type": "markdown",
   "id": "3708b5c6",
   "metadata": {},
   "source": [
    "5. **Évaluation du modèle** : Évaluez la performance du modèle sur les données de test."
   ]
  },
  {
   "cell_type": "code",
   "execution_count": 11,
   "id": "8c37743a",
   "metadata": {},
   "outputs": [],
   "source": [
    "def evaluate_model(model, test_images, test_labels):\n",
    "    test_loss, test_accuracy = model.evaluate(test_images, test_labels, verbose=2)\n",
    "    print(f\"Test accuracy: {test_accuracy*100:.2f}%\")"
   ]
  },
  {
   "cell_type": "markdown",
   "id": "3ebfefed",
   "metadata": {},
   "source": [
    "6. **Prédiction** : Utilisez le modèle entraîné pour faire des prédictions sur de nouvelles images.\n"
   ]
  },
  {
   "cell_type": "code",
   "execution_count": 12,
   "id": "0f9053c7",
   "metadata": {},
   "outputs": [],
   "source": [
    "def predict(model, image):\n",
    "    # Assurez-vous que l'image est prétraitée de la même manière que les données d'entraînement\n",
    "    image = image / 255.0  # Normalisation\n",
    "    prediction = model.predict(np.expand_dims(image, axis=0))\n",
    "    return prediction\n",
    "\n"
   ]
  },
  {
   "cell_type": "markdown",
   "id": "a6c59231",
   "metadata": {},
   "source": [
    "7. **Fonction principal** \n"
   ]
  },
  {
   "cell_type": "code",
   "execution_count": 14,
   "id": "84241fe1",
   "metadata": {},
   "outputs": [
    {
     "ename": "NameError",
     "evalue": "name 'images' is not defined",
     "output_type": "error",
     "traceback": [
      "\u001b[1;31m---------------------------------------------------------------------------\u001b[0m",
      "\u001b[1;31mNameError\u001b[0m                                 Traceback (most recent call last)",
      "Cell \u001b[1;32mIn[14], line 1\u001b[0m\n\u001b[1;32m----> 1\u001b[0m \u001b[38;5;28mprint\u001b[39m (images)\n",
      "\u001b[1;31mNameError\u001b[0m: name 'images' is not defined"
     ]
    }
   ],
   "source": [
    "print (images)"
   ]
  },
  {
   "cell_type": "code",
   "execution_count": 13,
   "id": "9b3cca3c",
   "metadata": {},
   "outputs": [
    {
     "ename": "ValueError",
     "evalue": "With n_samples=0, test_size=0.2 and train_size=None, the resulting train set will be empty. Adjust any of the aforementioned parameters.",
     "output_type": "error",
     "traceback": [
      "\u001b[1;31m---------------------------------------------------------------------------\u001b[0m",
      "\u001b[1;31mValueError\u001b[0m                                Traceback (most recent call last)",
      "Cell \u001b[1;32mIn[13], line 13\u001b[0m\n\u001b[0;32m     10\u001b[0m     evaluate_model(model, test_images, test_labels)\n\u001b[0;32m     12\u001b[0m \u001b[38;5;28;01mif\u001b[39;00m \u001b[38;5;18m__name__\u001b[39m \u001b[38;5;241m==\u001b[39m \u001b[38;5;124m\"\u001b[39m\u001b[38;5;124m__main__\u001b[39m\u001b[38;5;124m\"\u001b[39m:\n\u001b[1;32m---> 13\u001b[0m     main()\n",
      "Cell \u001b[1;32mIn[13], line 5\u001b[0m, in \u001b[0;36mmain\u001b[1;34m()\u001b[0m\n\u001b[0;32m      2\u001b[0m data_dir \u001b[38;5;241m=\u001b[39m \u001b[38;5;124m'\u001b[39m\u001b[38;5;124mC:\u001b[39m\u001b[38;5;130;01m\\\\\u001b[39;00m\u001b[38;5;124mUsers\u001b[39m\u001b[38;5;130;01m\\\\\u001b[39;00m\u001b[38;5;124mZbook\u001b[39m\u001b[38;5;130;01m\\\\\u001b[39;00m\u001b[38;5;124mOpenClassRoom\u001b[39m\u001b[38;5;130;01m\\\\\u001b[39;00m\u001b[38;5;124mProjetsGit\u001b[39m\u001b[38;5;130;01m\\\\\u001b[39;00m\u001b[38;5;124mProjet_6\u001b[39m\u001b[38;5;130;01m\\\\\u001b[39;00m\u001b[38;5;124mdata\u001b[39m\u001b[38;5;130;01m\\\\\u001b[39;00m\u001b[38;5;124mImages\u001b[39m\u001b[38;5;124m'\u001b[39m\n\u001b[0;32m      4\u001b[0m images, labels \u001b[38;5;241m=\u001b[39m load_data(data_dir)\n\u001b[1;32m----> 5\u001b[0m train_images, test_images, train_labels, test_labels \u001b[38;5;241m=\u001b[39m preprocess_data(images, labels)\n\u001b[0;32m      6\u001b[0m input_shape \u001b[38;5;241m=\u001b[39m train_images\u001b[38;5;241m.\u001b[39mshape[\u001b[38;5;241m1\u001b[39m:]\n\u001b[0;32m      7\u001b[0m num_classes \u001b[38;5;241m=\u001b[39m \u001b[38;5;28mlen\u001b[39m(np\u001b[38;5;241m.\u001b[39munique(labels))\n",
      "Cell \u001b[1;32mIn[8], line 5\u001b[0m, in \u001b[0;36mpreprocess_data\u001b[1;34m(images, labels, test_size, random_state)\u001b[0m\n\u001b[0;32m      3\u001b[0m \u001b[38;5;28;01mdef\u001b[39;00m \u001b[38;5;21mpreprocess_data\u001b[39m(images, labels, test_size\u001b[38;5;241m=\u001b[39m\u001b[38;5;241m0.2\u001b[39m, random_state\u001b[38;5;241m=\u001b[39m\u001b[38;5;241m42\u001b[39m):\n\u001b[0;32m      4\u001b[0m     images \u001b[38;5;241m=\u001b[39m images \u001b[38;5;241m/\u001b[39m \u001b[38;5;241m255.0\u001b[39m  \u001b[38;5;66;03m# Normalisation\u001b[39;00m\n\u001b[1;32m----> 5\u001b[0m     train_images, test_images, train_labels, test_labels \u001b[38;5;241m=\u001b[39m train_test_split(\n\u001b[0;32m      6\u001b[0m         images, labels, test_size\u001b[38;5;241m=\u001b[39mtest_size, random_state\u001b[38;5;241m=\u001b[39mrandom_state)\n\u001b[0;32m      8\u001b[0m     \u001b[38;5;28;01mreturn\u001b[39;00m train_images, test_images, train_labels, test_labels\n",
      "File \u001b[1;32mC:\\ProgramData\\anaconda3\\Lib\\site-packages\\sklearn\\utils\\_param_validation.py:211\u001b[0m, in \u001b[0;36mvalidate_params.<locals>.decorator.<locals>.wrapper\u001b[1;34m(*args, **kwargs)\u001b[0m\n\u001b[0;32m    205\u001b[0m \u001b[38;5;28;01mtry\u001b[39;00m:\n\u001b[0;32m    206\u001b[0m     \u001b[38;5;28;01mwith\u001b[39;00m config_context(\n\u001b[0;32m    207\u001b[0m         skip_parameter_validation\u001b[38;5;241m=\u001b[39m(\n\u001b[0;32m    208\u001b[0m             prefer_skip_nested_validation \u001b[38;5;129;01mor\u001b[39;00m global_skip_validation\n\u001b[0;32m    209\u001b[0m         )\n\u001b[0;32m    210\u001b[0m     ):\n\u001b[1;32m--> 211\u001b[0m         \u001b[38;5;28;01mreturn\u001b[39;00m func(\u001b[38;5;241m*\u001b[39margs, \u001b[38;5;241m*\u001b[39m\u001b[38;5;241m*\u001b[39mkwargs)\n\u001b[0;32m    212\u001b[0m \u001b[38;5;28;01mexcept\u001b[39;00m InvalidParameterError \u001b[38;5;28;01mas\u001b[39;00m e:\n\u001b[0;32m    213\u001b[0m     \u001b[38;5;66;03m# When the function is just a wrapper around an estimator, we allow\u001b[39;00m\n\u001b[0;32m    214\u001b[0m     \u001b[38;5;66;03m# the function to delegate validation to the estimator, but we replace\u001b[39;00m\n\u001b[0;32m    215\u001b[0m     \u001b[38;5;66;03m# the name of the estimator by the name of the function in the error\u001b[39;00m\n\u001b[0;32m    216\u001b[0m     \u001b[38;5;66;03m# message to avoid confusion.\u001b[39;00m\n\u001b[0;32m    217\u001b[0m     msg \u001b[38;5;241m=\u001b[39m re\u001b[38;5;241m.\u001b[39msub(\n\u001b[0;32m    218\u001b[0m         \u001b[38;5;124mr\u001b[39m\u001b[38;5;124m\"\u001b[39m\u001b[38;5;124mparameter of \u001b[39m\u001b[38;5;124m\\\u001b[39m\u001b[38;5;124mw+ must be\u001b[39m\u001b[38;5;124m\"\u001b[39m,\n\u001b[0;32m    219\u001b[0m         \u001b[38;5;124mf\u001b[39m\u001b[38;5;124m\"\u001b[39m\u001b[38;5;124mparameter of \u001b[39m\u001b[38;5;132;01m{\u001b[39;00mfunc\u001b[38;5;241m.\u001b[39m\u001b[38;5;18m__qualname__\u001b[39m\u001b[38;5;132;01m}\u001b[39;00m\u001b[38;5;124m must be\u001b[39m\u001b[38;5;124m\"\u001b[39m,\n\u001b[0;32m    220\u001b[0m         \u001b[38;5;28mstr\u001b[39m(e),\n\u001b[0;32m    221\u001b[0m     )\n",
      "File \u001b[1;32mC:\\ProgramData\\anaconda3\\Lib\\site-packages\\sklearn\\model_selection\\_split.py:2617\u001b[0m, in \u001b[0;36mtrain_test_split\u001b[1;34m(test_size, train_size, random_state, shuffle, stratify, *arrays)\u001b[0m\n\u001b[0;32m   2614\u001b[0m arrays \u001b[38;5;241m=\u001b[39m indexable(\u001b[38;5;241m*\u001b[39marrays)\n\u001b[0;32m   2616\u001b[0m n_samples \u001b[38;5;241m=\u001b[39m _num_samples(arrays[\u001b[38;5;241m0\u001b[39m])\n\u001b[1;32m-> 2617\u001b[0m n_train, n_test \u001b[38;5;241m=\u001b[39m _validate_shuffle_split(\n\u001b[0;32m   2618\u001b[0m     n_samples, test_size, train_size, default_test_size\u001b[38;5;241m=\u001b[39m\u001b[38;5;241m0.25\u001b[39m\n\u001b[0;32m   2619\u001b[0m )\n\u001b[0;32m   2621\u001b[0m \u001b[38;5;28;01mif\u001b[39;00m shuffle \u001b[38;5;129;01mis\u001b[39;00m \u001b[38;5;28;01mFalse\u001b[39;00m:\n\u001b[0;32m   2622\u001b[0m     \u001b[38;5;28;01mif\u001b[39;00m stratify \u001b[38;5;129;01mis\u001b[39;00m \u001b[38;5;129;01mnot\u001b[39;00m \u001b[38;5;28;01mNone\u001b[39;00m:\n",
      "File \u001b[1;32mC:\\ProgramData\\anaconda3\\Lib\\site-packages\\sklearn\\model_selection\\_split.py:2273\u001b[0m, in \u001b[0;36m_validate_shuffle_split\u001b[1;34m(n_samples, test_size, train_size, default_test_size)\u001b[0m\n\u001b[0;32m   2270\u001b[0m n_train, n_test \u001b[38;5;241m=\u001b[39m \u001b[38;5;28mint\u001b[39m(n_train), \u001b[38;5;28mint\u001b[39m(n_test)\n\u001b[0;32m   2272\u001b[0m \u001b[38;5;28;01mif\u001b[39;00m n_train \u001b[38;5;241m==\u001b[39m \u001b[38;5;241m0\u001b[39m:\n\u001b[1;32m-> 2273\u001b[0m     \u001b[38;5;28;01mraise\u001b[39;00m \u001b[38;5;167;01mValueError\u001b[39;00m(\n\u001b[0;32m   2274\u001b[0m         \u001b[38;5;124m\"\u001b[39m\u001b[38;5;124mWith n_samples=\u001b[39m\u001b[38;5;132;01m{}\u001b[39;00m\u001b[38;5;124m, test_size=\u001b[39m\u001b[38;5;132;01m{}\u001b[39;00m\u001b[38;5;124m and train_size=\u001b[39m\u001b[38;5;132;01m{}\u001b[39;00m\u001b[38;5;124m, the \u001b[39m\u001b[38;5;124m\"\u001b[39m\n\u001b[0;32m   2275\u001b[0m         \u001b[38;5;124m\"\u001b[39m\u001b[38;5;124mresulting train set will be empty. Adjust any of the \u001b[39m\u001b[38;5;124m\"\u001b[39m\n\u001b[0;32m   2276\u001b[0m         \u001b[38;5;124m\"\u001b[39m\u001b[38;5;124maforementioned parameters.\u001b[39m\u001b[38;5;124m\"\u001b[39m\u001b[38;5;241m.\u001b[39mformat(n_samples, test_size, train_size)\n\u001b[0;32m   2277\u001b[0m     )\n\u001b[0;32m   2279\u001b[0m \u001b[38;5;28;01mreturn\u001b[39;00m n_train, n_test\n",
      "\u001b[1;31mValueError\u001b[0m: With n_samples=0, test_size=0.2 and train_size=None, the resulting train set will be empty. Adjust any of the aforementioned parameters."
     ]
    }
   ],
   "source": [
    "def main():\n",
    "    data_dir = 'C:\\\\Users\\\\Zbook\\\\OpenClassRoom\\\\ProjetsGit\\\\Projet_6\\\\data\\\\Images'\n",
    "\n",
    "    images, labels = load_data(data_dir)\n",
    "    train_images, test_images, train_labels, test_labels = preprocess_data(images, labels)\n",
    "    input_shape = train_images.shape[1:]\n",
    "    num_classes = len(np.unique(labels))\n",
    "    model = create_cnn_model(input_shape, num_classes)\n",
    "    model = train_model(model, train_images, train_labels)\n",
    "    evaluate_model(model, test_images, test_labels)\n",
    "\n",
    "if __name__ == \"__main__\":\n",
    "    main()"
   ]
  },
  {
   "cell_type": "markdown",
   "id": "b40f4246",
   "metadata": {},
   "source": [
    "Assurez-vous de personnaliser les chemins et les paramètres selon vos besoins spécifiques. Cette séquence d'étapes vous permettra de créer, d'entraîner et d'évaluer un modèle de classification supervisée d'images en utilisant un réseau de neurones convolutif."
   ]
  }
 ],
 "metadata": {
  "kernelspec": {
   "display_name": "Python 3 (ipykernel)",
   "language": "python",
   "name": "python3"
  },
  "language_info": {
   "codemirror_mode": {
    "name": "ipython",
    "version": 3
   },
   "file_extension": ".py",
   "mimetype": "text/x-python",
   "name": "python",
   "nbconvert_exporter": "python",
   "pygments_lexer": "ipython3",
   "version": "3.11.4"
  }
 },
 "nbformat": 4,
 "nbformat_minor": 5
}
