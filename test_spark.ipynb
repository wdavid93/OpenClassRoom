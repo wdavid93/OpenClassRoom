{
  "nbformat": 4,
  "nbformat_minor": 0,
  "metadata": {
    "colab": {
      "provenance": [],
      "authorship_tag": "ABX9TyPRFH4rXG7d+eqR/vVg0mBn",
      "include_colab_link": true
    },
    "kernelspec": {
      "name": "python3",
      "display_name": "Python 3"
    },
    "language_info": {
      "name": "python"
    }
  },
  "cells": [
    {
      "cell_type": "markdown",
      "metadata": {
        "id": "view-in-github",
        "colab_type": "text"
      },
      "source": [
        "<a href=\"https://colab.research.google.com/github/wdavid93/OpenClassRoom/blob/main/test_spark.ipynb\" target=\"_parent\"><img src=\"https://colab.research.google.com/assets/colab-badge.svg\" alt=\"Open In Colab\"/></a>"
      ]
    },
    {
      "cell_type": "code",
      "execution_count": 2,
      "metadata": {
        "colab": {
          "base_uri": "https://localhost:8080/"
        },
        "id": "uoEE0LOHRa9c",
        "outputId": "64d8fddd-e6fb-4881-fdc6-9349bf57298d"
      },
      "outputs": [
        {
          "output_type": "stream",
          "name": "stdout",
          "text": [
            "sample_data  spark-3.1.1-bin-hadoop3.2\tspark-3.1.1-bin-hadoop3.2.tgz\n"
          ]
        }
      ],
      "source": [
        "!ls"
      ]
    },
    {
      "cell_type": "code",
      "source": [
        "!apt-get install openjdk-8-jdk-headless -qq > /dev/null\n",
        "!wget -q http://archive.apache.org/dist/spark/spark-3.1.1/spark-3.1.1-bin-hadoop3.2.tgz\n",
        "!tar xf spark-3.1.1-bin-hadoop3.2.tgz\n",
        "!pip install -q findspark"
      ],
      "metadata": {
        "id": "oXx4kXcPRkkx"
      },
      "execution_count": 1,
      "outputs": []
    },
    {
      "cell_type": "code",
      "source": [
        "import os\n",
        "os.environ[\"JAVA_HOME\"] = \"/usr/lib/jvm/java-8-openjdk-amd64\"\n",
        "os.environ[\"SPARK_HOME\"] = \"/content/spark-3.1.1-bin-hadoop3.2\""
      ],
      "metadata": {
        "id": "K3IWRpq-lXD3"
      },
      "execution_count": 3,
      "outputs": []
    },
    {
      "cell_type": "code",
      "source": [
        "!wget https://s3.eu-west-1.amazonaws.com/course.oc-static.com/projects/Data_Scientist_P8/fruits.zip"
      ],
      "metadata": {
        "colab": {
          "base_uri": "https://localhost:8080/"
        },
        "id": "XEMz8TFLnF9Z",
        "outputId": "80a6de43-2f27-40bc-cf91-745802192f05"
      },
      "execution_count": 4,
      "outputs": [
        {
          "output_type": "stream",
          "name": "stdout",
          "text": [
            "--2023-12-06 10:11:30--  https://s3.eu-west-1.amazonaws.com/course.oc-static.com/projects/Data_Scientist_P8/fruits.zip\n",
            "Resolving s3.eu-west-1.amazonaws.com (s3.eu-west-1.amazonaws.com)... 52.218.40.19, 52.218.24.243, 52.218.92.123, ...\n",
            "Connecting to s3.eu-west-1.amazonaws.com (s3.eu-west-1.amazonaws.com)|52.218.40.19|:443... connected.\n",
            "HTTP request sent, awaiting response... 200 OK\n",
            "Length: 1379678841 (1.3G) [application/zip]\n",
            "Saving to: ‘fruits.zip’\n",
            "\n",
            "fruits.zip          100%[===================>]   1.28G  35.9MB/s    in 38s     \n",
            "\n",
            "2023-12-06 10:12:08 (34.4 MB/s) - ‘fruits.zip’ saved [1379678841/1379678841]\n",
            "\n"
          ]
        }
      ]
    },
    {
      "cell_type": "code",
      "source": [
        "!unzip -q fruits.zip"
      ],
      "metadata": {
        "id": "hU4xnrdYnKHh"
      },
      "execution_count": 5,
      "outputs": []
    },
    {
      "cell_type": "code",
      "source": [
        "import findspark\n",
        "findspark.init()\n",
        "from pyspark.sql import SparkSession\n",
        "from pyspark import SparkConf, SparkContext\n",
        "from pyspark.ml.image import ImageSchema\n",
        "\n",
        "spark = SparkSession.builder.master(\"local[*]\").getOrCreate()\n",
        "# Charger les images\n",
        "images_df = spark.read.format(\"image\").load(\"fruits-360_dataset/fruits-360/Test/Apple Braeburn\")"
      ],
      "metadata": {
        "id": "bimstDAMnn5i"
      },
      "execution_count": 8,
      "outputs": []
    },
    {
      "cell_type": "code",
      "source": [
        "images_df.printSchema()"
      ],
      "metadata": {
        "colab": {
          "base_uri": "https://localhost:8080/"
        },
        "id": "_-4GQHzVn27L",
        "outputId": "1d1ef53a-ea5a-4a06-fbe1-83037b2c3b73"
      },
      "execution_count": 9,
      "outputs": [
        {
          "output_type": "stream",
          "name": "stdout",
          "text": [
            "root\n",
            " |-- image: struct (nullable = true)\n",
            " |    |-- origin: string (nullable = true)\n",
            " |    |-- height: integer (nullable = true)\n",
            " |    |-- width: integer (nullable = true)\n",
            " |    |-- nChannels: integer (nullable = true)\n",
            " |    |-- mode: integer (nullable = true)\n",
            " |    |-- data: binary (nullable = true)\n",
            "\n"
          ]
        }
      ]
    },
    {
      "cell_type": "code",
      "source": [
        "images_df.count()"
      ],
      "metadata": {
        "colab": {
          "base_uri": "https://localhost:8080/"
        },
        "id": "SWviwIr_oDpX",
        "outputId": "3d3ce4d2-a4bf-4bd1-9bfa-9a6c88ecee5e"
      },
      "execution_count": 10,
      "outputs": [
        {
          "output_type": "execute_result",
          "data": {
            "text/plain": [
              "164"
            ]
          },
          "metadata": {},
          "execution_count": 10
        }
      ]
    },
    {
      "cell_type": "code",
      "source": [
        "from pyspark.sql import SparkSession\n",
        "import os\n",
        "\n",
        "spark = SparkSession.builder.master(\"local[*]\").getOrCreate()\n",
        "\n",
        "# Chemin d'accès au répertoire des images\n",
        "image_dir = \"fruits-360_dataset/fruits-360/Test/Apple Braeburn\"\n",
        "\n",
        "# Vérifier si le répertoire existe\n",
        "if os.path.exists(image_dir):\n",
        "    # Charger les images\n",
        "    images_df = spark.read.format(\"image\").load(image_dir)\n",
        "    # Afficher les premières lignes de images_df\n",
        "    # images_df.show()\n",
        "    print(f\"Le répertoire {image_dir} existe.\")\n",
        "    # images_df.show()\n",
        "else:\n",
        "    print(f\"Le répertoire {image_dir} n'existe pas.\")\n"
      ],
      "metadata": {
        "colab": {
          "base_uri": "https://localhost:8080/"
        },
        "id": "AH2FCIsAoLvH",
        "outputId": "970d2c3c-5dba-4913-a141-ac4c89a4657a"
      },
      "execution_count": 19,
      "outputs": [
        {
          "output_type": "stream",
          "name": "stdout",
          "text": [
            "Le répertoire fruits-360_dataset/fruits-360/Test/Apple Braeburn existe.\n"
          ]
        }
      ]
    },
    {
      "cell_type": "code",
      "source": [
        "!ls -l 'fruits-360_dataset/fruits-360/Test/Apple Braeburn/r_4_100.jpg'\n"
      ],
      "metadata": {
        "colab": {
          "base_uri": "https://localhost:8080/"
        },
        "id": "AvUfz7AqqxJG",
        "outputId": "e670c4b3-a607-42ec-f47e-4ea0b53695da"
      },
      "execution_count": 21,
      "outputs": [
        {
          "output_type": "stream",
          "name": "stdout",
          "text": [
            "-rw-r--r-- 1 root root 5473 Sep 12  2021 'fruits-360_dataset/fruits-360/Test/Apple Braeburn/r_4_100.jpg'\n"
          ]
        }
      ]
    },
    {
      "cell_type": "code",
      "source": [
        "#import pyspark\n",
        "import time\n",
        "from pyspark import SQLContext\n",
        "from pyspark.ml.classification import LogisticRegression\n",
        "from pyspark.ml.image import ImageSchema\n",
        "\n",
        "from pyspark.sql.functions import udf\n",
        "from pyspark.sql.functions import input_file_name\n",
        "from pyspark.sql.types import *\n",
        "#import pyspark\n",
        "\n",
        "def parse_categorie(path):\n",
        "    '''Renvoie la catégorie d\\'une image à partir de son chemin'''\n",
        "    if len(path) > 0:\n",
        "        #catégorie de l'image\n",
        "        return path.split('/')[-2]\n",
        "    else:\n",
        "        return ''\n",
        "\n",
        "def import_dossier(path):\n",
        "    '''Renvoie un dataframe spark des images à partir du chemin du dossier.\n",
        "    :param path: chemin vers le dossier\n",
        "    :return: dataframe spark contenant toutes les images du dossier'''\n",
        "\n",
        "\n",
        "def load_data(path_img):\n",
        "    '''Chargement des dataframes:\n",
        "    Prend en entrée le répertoire qui contient les sous répertoires contenant les images\n",
        "    Renvoie en sortie un spark dataframe contenant les images et\n",
        "    un spark dataframe contenant les noms des fruits associés'''\n",
        "    #compteur\n",
        "    start = time.time()\n",
        "    #chargement dataframe des images\n",
        "\n",
        "    df_img = spark.read.format(\"image\").load(path) # ne fonctionne pas si il y a des espaces dans le chemin\n",
        "    #df_img =  ImageSchema.readImages(path_img, dropImageFailures = True)\n",
        "    print('chargement effectué')\n",
        "    #récupération chemin à partir des images\n",
        "    df_img = df_img.withColumn(\"path\", input_file_name())\n",
        "    #catégorisation des images\n",
        "    udf_categorie = udf(parse_categorie, StringType())\n",
        "    df_img = df_img.withColumn('categorie', udf_categorie('path'))\n",
        "    print('Temps de chargement des images : {} secondes'.format(time.strftime('%S', time.gmtime(time.time()-start))))\n",
        "\n",
        "    return df_img"
      ],
      "metadata": {
        "id": "l_Tfh0__vbUk"
      },
      "execution_count": 24,
      "outputs": []
    },
    {
      "cell_type": "code",
      "source": [
        "#chargement du dataframe contenant les images, leur chemin et leur catégorie\n",
        "path = \"fruits-360_dataset/fruits-360/Test/Apple Braeburn\"\n",
        "spark_df = load_data(path)"
      ],
      "metadata": {
        "colab": {
          "base_uri": "https://localhost:8080/"
        },
        "id": "4NSeefPJvnIw",
        "outputId": "02648439-74df-4194-dfc7-702809201c49"
      },
      "execution_count": 25,
      "outputs": [
        {
          "output_type": "stream",
          "name": "stdout",
          "text": [
            "chargement effectué\n",
            "Temps de chargement des images : 00 secondes\n"
          ]
        }
      ]
    },
    {
      "cell_type": "code",
      "source": [
        "spark_df.count()"
      ],
      "metadata": {
        "colab": {
          "base_uri": "https://localhost:8080/"
        },
        "id": "swWAbezlv2CY",
        "outputId": "8e4dd7e2-31aa-4e5e-d972-e99c878150bc"
      },
      "execution_count": 26,
      "outputs": [
        {
          "output_type": "execute_result",
          "data": {
            "text/plain": [
              "164"
            ]
          },
          "metadata": {},
          "execution_count": 26
        }
      ]
    },
    {
      "cell_type": "code",
      "source": [
        "import tensorflow as tf\n",
        "from pyspark.sql.functions import col, udf\n",
        "from pyspark.sql.types import ArrayType, FloatType\n",
        "from tensorflow.keras.applications.resnet50 import ResNet50, preprocess_input\n",
        "from tensorflow.keras.preprocessing.image import img_to_array, load_img\n",
        "from tensorflow.keras.models import Model\n",
        "\n",
        "# Charger le modèle ResNet50 pré-entraîné sans la dernière couche de classification\n",
        "# base_model = ResNet50(weights='imagenet', include_top=False)\n",
        "# model = Model(inputs=base_model.input, outputs=base_model.get_layer('avg_pool').output)\n",
        "# Chargement du modèle ResNet50 sans poids\n",
        "model = ResNet50(weights=None)\n",
        "\n",
        "# Fonction pour charger et prétraiter l'image\n",
        "def preprocess_image(image_path):\n",
        "    # Charger l'image\n",
        "    img = load_img(image_path, target_size=(224, 224))\n",
        "    # Convertir en tableau numpy\n",
        "    img_array = img_to_array(img)\n",
        "    # Ajouter une dimension pour créer un batch de taille 1\n",
        "    img_batch = np.expand_dims(img_array, axis=0)\n",
        "    # Prétraiter l'image pour le modèle ResNet50\n",
        "    img_preprocessed = preprocess_input(img_batch)\n",
        "    return img_preprocessed\n",
        "\n",
        "# Fonction UDF pour appliquer le modèle à l'image et obtenir les caractéristiques\n",
        "def extract_features(image_path):\n",
        "    img_preprocessed = preprocess_image(image_path)\n",
        "    features = model.predict(img_preprocessed)\n",
        "    # Aplatir les caractéristiques en une liste pour les stocker dans une colonne DataFrame\n",
        "    return features.flatten().tolist()\n",
        "\n",
        "# Enregistrer la fonction UDF avec le type de retour approprié\n",
        "extract_features_udf = udf(extract_features, ArrayType(FloatType()))\n",
        "\n",
        "def preprocess_data(dataframe):\n",
        "    '''Renvoie le résultat de l'avant dernière couche de chaque image du dataframe via le modèle ResNet50\n",
        "    return un df contenant des vecteurs de dimension 1x2048 '''\n",
        "\n",
        "    # Appliquer la fonction UDF pour extraire les caractéristiques\n",
        "    output = dataframe.withColumn('image_preprocessed', extract_features_udf(col('path')))\n",
        "    # Sélectionner les colonnes nécessaires\n",
        "    output = output.select(['path', 'categorie', 'image_preprocessed'])\n",
        "    return output\n"
      ],
      "metadata": {
        "id": "Y9JNlg7AwAMz"
      },
      "execution_count": 27,
      "outputs": []
    },
    {
      "cell_type": "code",
      "source": [
        "spark_df_preprocessed = preprocess_data(spark_df)"
      ],
      "metadata": {
        "id": "Zj7LWp_RwHOc"
      },
      "execution_count": 28,
      "outputs": []
    },
    {
      "cell_type": "code",
      "source": [
        "spark_df_preprocessed.count()"
      ],
      "metadata": {
        "colab": {
          "base_uri": "https://localhost:8080/"
        },
        "id": "2SBxKvgZwLFC",
        "outputId": "6fdf72e0-6dc1-42f1-d37c-7784300b758b"
      },
      "execution_count": 30,
      "outputs": [
        {
          "output_type": "execute_result",
          "data": {
            "text/plain": [
              "164"
            ]
          },
          "metadata": {},
          "execution_count": 30
        }
      ]
    }
  ]
}